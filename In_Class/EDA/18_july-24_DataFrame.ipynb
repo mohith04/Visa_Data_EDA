{
 "cells": [
  {
   "cell_type": "markdown",
   "id": "b7ebf305-3fba-437d-98b8-d82fcb39f8a0",
   "metadata": {},
   "source": [
    "#### EDA (Exploratory Data Analysis)\n",
    "1. pandas: Dataframe or data applications\n",
    "2. numpy: Numerical python for math operations\n",
    "3. matplotlib: for plots and graph\n",
    "4. Seaborn: for plots and graph\n",
    "5. Bokhe: for plots\n",
    "6. plotly: for plots"
   ]
  },
  {
   "cell_type": "markdown",
   "id": "bef55033-8b07-4499-90b8-47a07811584d",
   "metadata": {},
   "source": [
    "#### Machine learning\n",
    "1. Scikit learn (Sklearn): ML models\n",
    "2. stats: Statistical models "
   ]
  },
  {
   "cell_type": "markdown",
   "id": "b0cc32da-43f7-44b0-a1e6-73e4c4ee9f0d",
   "metadata": {},
   "source": [
    "#### SQL\n",
    "**Data retrival from SQL scarpping**\n",
    "1. Sqlite: connect with database\n",
    "2. Beautiful soup: scrap the data from website\n",
    "3. websocket: scrap"
   ]
  },
  {
   "cell_type": "markdown",
   "id": "9c4542d1-d723-43b6-8b71-0e25884d2122",
   "metadata": {},
   "source": [
    "#### Deep learning/computer vision \n",
    "1. Tensorflow: Google\n",
    "2. Keras: DL models \n",
    "3. opnecv: Image operations\n",
    "4. Pillow (PIL): Image operations\n",
    "5. Pytorch: Facebook\n",
    "6. Pretrained models:\n",
    "    - Eg: \n",
    "    1. VGG16\n",
    "    2. Mobilenet\n",
    "    3. RESNET\n",
    "    4. MARKRCNN\n",
    "    5. FASTERCNN\n",
    "    6. YOLO"
   ]
  },
  {
   "cell_type": "markdown",
   "id": "7f188836-caff-4874-ac25-0aacc9a11769",
   "metadata": {},
   "source": [
    "#### Natural language process\n",
    "1. NLTK: Natural language process\n",
    "2. Scipy\n",
    "3. Word2vec (How to words will convert into vector)\n",
    "4. GloVE (How to words will convert into vector)\n",
    "5. Wordcloud "
   ]
  },
  {
   "cell_type": "markdown",
   "id": "f0ef2130-2246-4386-8db0-09ecd098dfe5",
   "metadata": {},
   "source": [
    "#### Hugging face\n",
    "1. Transformers: BERT "
   ]
  },
  {
   "cell_type": "markdown",
   "id": "e5fbfb78-1879-43f9-9f1a-dfe7ebe9ee0c",
   "metadata": {},
   "source": [
    "#### GenAI Models\n",
    "1. OpenAI + Microsoft: GPT model, Dalle-E\n",
    "2. Google: gemini models\n",
    "3. Amazon: Q\n",
    "4. Meta: Meta AI, Llama\n",
    "5. Apple: AI (Apple Intelligence)"
   ]
  },
  {
   "cell_type": "markdown",
   "id": "26dd4226-5ff3-4c6c-8ed4-6603979b1311",
   "metadata": {},
   "source": [
    "#### LangChain\n",
    "- LangChain Framework \n",
    "#### Deployment/applications \n",
    "1. Flask\n",
    "2. Streamlit\n",
    "3. Django\n",
    "#### MLops\n",
    "1. Mlflow\n",
    "2. kuberflow\n",
    "3. azure ai services: azure package\n",
    "4. GCP: GCP package"
   ]
  },
  {
   "cell_type": "markdown",
   "id": "d0b25cd9-754d-44e1-bad6-f396c4f0cd1d",
   "metadata": {},
   "source": [
    "### Step-1\n",
    "#### Create a Dataframe\n",
    "- we will create a dataframe using list\n",
    "- we will create a dataframe using dictionary "
   ]
  },
  {
   "cell_type": "code",
   "execution_count": 20,
   "id": "7cb2cc93-a539-43df-a3e8-f86c33ba8b76",
   "metadata": {},
   "outputs": [],
   "source": [
    "import pandas as pd"
   ]
  },
  {
   "cell_type": "code",
   "execution_count": 24,
   "id": "a5918a67-d6f4-4931-b8c0-4e6843b839ad",
   "metadata": {},
   "outputs": [],
   "source": [
    "d1 = pd.DataFrame()"
   ]
  },
  {
   "cell_type": "code",
   "execution_count": 26,
   "id": "5041fbc5-425c-4674-9613-3cdd3b300a4b",
   "metadata": {},
   "outputs": [
    {
     "data": {
      "text/plain": [
       "pandas.core.frame.DataFrame"
      ]
     },
     "execution_count": 26,
     "metadata": {},
     "output_type": "execute_result"
    }
   ],
   "source": [
    "type(d1)"
   ]
  },
  {
   "cell_type": "markdown",
   "id": "a824506d-1685-45d9-8313-9b06cfa5f3b3",
   "metadata": {},
   "source": [
    "### Step-2\n",
    "#### Provide the Data "
   ]
  },
  {
   "cell_type": "code",
   "execution_count": 31,
   "id": "3b67fb46-11e8-4bee-ba08-e458941d59c4",
   "metadata": {},
   "outputs": [
    {
     "data": {
      "text/html": [
       "<div>\n",
       "<style scoped>\n",
       "    .dataframe tbody tr th:only-of-type {\n",
       "        vertical-align: middle;\n",
       "    }\n",
       "\n",
       "    .dataframe tbody tr th {\n",
       "        vertical-align: top;\n",
       "    }\n",
       "\n",
       "    .dataframe thead th {\n",
       "        text-align: right;\n",
       "    }\n",
       "</style>\n",
       "<table border=\"1\" class=\"dataframe\">\n",
       "  <thead>\n",
       "    <tr style=\"text-align: right;\">\n",
       "      <th></th>\n",
       "      <th>0</th>\n",
       "    </tr>\n",
       "  </thead>\n",
       "  <tbody>\n",
       "    <tr>\n",
       "      <th>0</th>\n",
       "      <td>Tarun</td>\n",
       "    </tr>\n",
       "    <tr>\n",
       "      <th>1</th>\n",
       "      <td>Surendar</td>\n",
       "    </tr>\n",
       "    <tr>\n",
       "      <th>2</th>\n",
       "      <td>Mohith</td>\n",
       "    </tr>\n",
       "  </tbody>\n",
       "</table>\n",
       "</div>"
      ],
      "text/plain": [
       "          0\n",
       "0     Tarun\n",
       "1  Surendar\n",
       "2    Mohith"
      ]
     },
     "execution_count": 31,
     "metadata": {},
     "output_type": "execute_result"
    }
   ],
   "source": [
    "Names = ['Tarun','Surendar','Mohith']\n",
    "pd.DataFrame(Names)"
   ]
  },
  {
   "cell_type": "code",
   "execution_count": 37,
   "id": "2e1de280-1251-4e59-a63a-b862228b579c",
   "metadata": {},
   "outputs": [
    {
     "data": {
      "text/html": [
       "<div>\n",
       "<style scoped>\n",
       "    .dataframe tbody tr th:only-of-type {\n",
       "        vertical-align: middle;\n",
       "    }\n",
       "\n",
       "    .dataframe tbody tr th {\n",
       "        vertical-align: top;\n",
       "    }\n",
       "\n",
       "    .dataframe thead th {\n",
       "        text-align: right;\n",
       "    }\n",
       "</style>\n",
       "<table border=\"1\" class=\"dataframe\">\n",
       "  <thead>\n",
       "    <tr style=\"text-align: right;\">\n",
       "      <th></th>\n",
       "      <th>0</th>\n",
       "      <th>1</th>\n",
       "      <th>2</th>\n",
       "    </tr>\n",
       "  </thead>\n",
       "  <tbody>\n",
       "    <tr>\n",
       "      <th>0</th>\n",
       "      <td>Tarun</td>\n",
       "      <td>20</td>\n",
       "      <td>Amarvathi</td>\n",
       "    </tr>\n",
       "    <tr>\n",
       "      <th>1</th>\n",
       "      <td>Surendar</td>\n",
       "      <td>21</td>\n",
       "      <td>Hydrabad</td>\n",
       "    </tr>\n",
       "    <tr>\n",
       "      <th>2</th>\n",
       "      <td>Mohith</td>\n",
       "      <td>22</td>\n",
       "      <td>Bangaluru</td>\n",
       "    </tr>\n",
       "  </tbody>\n",
       "</table>\n",
       "</div>"
      ],
      "text/plain": [
       "          0   1          2\n",
       "0     Tarun  20  Amarvathi\n",
       "1  Surendar  21   Hydrabad\n",
       "2    Mohith  22  Bangaluru"
      ]
     },
     "execution_count": 37,
     "metadata": {},
     "output_type": "execute_result"
    }
   ],
   "source": [
    "Names = ['Tarun','Surendar','Mohith']\n",
    "age = [20,21,22]\n",
    "city = ['Amarvathi','Hydrabad','Bangaluru']\n",
    "pd.DataFrame(zip(Names,age,city))"
   ]
  },
  {
   "cell_type": "markdown",
   "id": "4629c114-57f4-4885-935b-c2c5cee766ed",
   "metadata": {},
   "source": [
    "### Step-3\n",
    "#### Provide the column names "
   ]
  },
  {
   "cell_type": "code",
   "execution_count": 42,
   "id": "52cfb75f-7010-42f1-b40a-9d56bd766896",
   "metadata": {},
   "outputs": [
    {
     "data": {
      "text/html": [
       "<div>\n",
       "<style scoped>\n",
       "    .dataframe tbody tr th:only-of-type {\n",
       "        vertical-align: middle;\n",
       "    }\n",
       "\n",
       "    .dataframe tbody tr th {\n",
       "        vertical-align: top;\n",
       "    }\n",
       "\n",
       "    .dataframe thead th {\n",
       "        text-align: right;\n",
       "    }\n",
       "</style>\n",
       "<table border=\"1\" class=\"dataframe\">\n",
       "  <thead>\n",
       "    <tr style=\"text-align: right;\">\n",
       "      <th></th>\n",
       "      <th>Names</th>\n",
       "      <th>Age</th>\n",
       "      <th>City of orgin</th>\n",
       "    </tr>\n",
       "  </thead>\n",
       "  <tbody>\n",
       "    <tr>\n",
       "      <th>0</th>\n",
       "      <td>Tarun</td>\n",
       "      <td>20</td>\n",
       "      <td>Amarvathi</td>\n",
       "    </tr>\n",
       "    <tr>\n",
       "      <th>1</th>\n",
       "      <td>Surendar</td>\n",
       "      <td>21</td>\n",
       "      <td>Hydrabad</td>\n",
       "    </tr>\n",
       "    <tr>\n",
       "      <th>2</th>\n",
       "      <td>Mohith</td>\n",
       "      <td>22</td>\n",
       "      <td>Bangaluru</td>\n",
       "    </tr>\n",
       "  </tbody>\n",
       "</table>\n",
       "</div>"
      ],
      "text/plain": [
       "      Names  Age City of orgin\n",
       "0     Tarun   20     Amarvathi\n",
       "1  Surendar   21      Hydrabad\n",
       "2    Mohith   22     Bangaluru"
      ]
     },
     "execution_count": 42,
     "metadata": {},
     "output_type": "execute_result"
    }
   ],
   "source": [
    "pd.DataFrame(zip(Names,age,city),columns=['Names','Age','City of orgin'])"
   ]
  },
  {
   "cell_type": "markdown",
   "id": "39c82b36-d0cf-4a60-b223-baef45d45c92",
   "metadata": {},
   "source": [
    "### Step-4\n",
    "#### Provide the index"
   ]
  },
  {
   "cell_type": "code",
   "execution_count": 51,
   "id": "e0c7d8a7-3879-4a86-b6b3-b2be7c3d0ea0",
   "metadata": {},
   "outputs": [
    {
     "data": {
      "text/html": [
       "<div>\n",
       "<style scoped>\n",
       "    .dataframe tbody tr th:only-of-type {\n",
       "        vertical-align: middle;\n",
       "    }\n",
       "\n",
       "    .dataframe tbody tr th {\n",
       "        vertical-align: top;\n",
       "    }\n",
       "\n",
       "    .dataframe thead th {\n",
       "        text-align: right;\n",
       "    }\n",
       "</style>\n",
       "<table border=\"1\" class=\"dataframe\">\n",
       "  <thead>\n",
       "    <tr style=\"text-align: right;\">\n",
       "      <th></th>\n",
       "      <th>Names</th>\n",
       "      <th>Age</th>\n",
       "      <th>City of Orgin</th>\n",
       "    </tr>\n",
       "  </thead>\n",
       "  <tbody>\n",
       "    <tr>\n",
       "      <th>A</th>\n",
       "      <td>Tarun</td>\n",
       "      <td>20</td>\n",
       "      <td>Amarvathi</td>\n",
       "    </tr>\n",
       "    <tr>\n",
       "      <th>B</th>\n",
       "      <td>Surendar</td>\n",
       "      <td>21</td>\n",
       "      <td>Hydrabad</td>\n",
       "    </tr>\n",
       "    <tr>\n",
       "      <th>C</th>\n",
       "      <td>Mohith</td>\n",
       "      <td>22</td>\n",
       "      <td>Bangaluru</td>\n",
       "    </tr>\n",
       "  </tbody>\n",
       "</table>\n",
       "</div>"
      ],
      "text/plain": [
       "      Names  Age City of Orgin\n",
       "A     Tarun   20     Amarvathi\n",
       "B  Surendar   21      Hydrabad\n",
       "C    Mohith   22     Bangaluru"
      ]
     },
     "execution_count": 51,
     "metadata": {},
     "output_type": "execute_result"
    }
   ],
   "source": [
    "pd.DataFrame(zip(Names,age,city),index=['A','B','C'],columns=['Names','Age','City of Orgin'])\n",
    "# 3 rows so name it manually \n",
    "# 3 columns so manually "
   ]
  },
  {
   "cell_type": "code",
   "execution_count": 53,
   "id": "4aa1928d-50de-4443-b337-8bf2015e2760",
   "metadata": {},
   "outputs": [
    {
     "data": {
      "text/html": [
       "<div>\n",
       "<style scoped>\n",
       "    .dataframe tbody tr th:only-of-type {\n",
       "        vertical-align: middle;\n",
       "    }\n",
       "\n",
       "    .dataframe tbody tr th {\n",
       "        vertical-align: top;\n",
       "    }\n",
       "\n",
       "    .dataframe thead th {\n",
       "        text-align: right;\n",
       "    }\n",
       "</style>\n",
       "<table border=\"1\" class=\"dataframe\">\n",
       "  <thead>\n",
       "    <tr style=\"text-align: right;\">\n",
       "      <th></th>\n",
       "      <th>Names</th>\n",
       "      <th>Age</th>\n",
       "    </tr>\n",
       "  </thead>\n",
       "  <tbody>\n",
       "    <tr>\n",
       "      <th>Amarvathi</th>\n",
       "      <td>Tarun</td>\n",
       "      <td>20</td>\n",
       "    </tr>\n",
       "    <tr>\n",
       "      <th>Hydrabad</th>\n",
       "      <td>Surendar</td>\n",
       "      <td>21</td>\n",
       "    </tr>\n",
       "    <tr>\n",
       "      <th>Bangaluru</th>\n",
       "      <td>Mohith</td>\n",
       "      <td>22</td>\n",
       "    </tr>\n",
       "  </tbody>\n",
       "</table>\n",
       "</div>"
      ],
      "text/plain": [
       "              Names  Age\n",
       "Amarvathi     Tarun   20\n",
       "Hydrabad   Surendar   21\n",
       "Bangaluru    Mohith   22"
      ]
     },
     "execution_count": 53,
     "metadata": {},
     "output_type": "execute_result"
    }
   ],
   "source": [
    "pd.DataFrame(zip(Names,age),index=[city],columns=['Names','Age'])"
   ]
  },
  {
   "cell_type": "code",
   "execution_count": null,
   "id": "3f5ba55d-3176-463e-a3bb-88d09cfc3250",
   "metadata": {},
   "outputs": [],
   "source": []
  }
 ],
 "metadata": {
  "kernelspec": {
   "display_name": "Python 3 (ipykernel)",
   "language": "python",
   "name": "python3"
  },
  "language_info": {
   "codemirror_mode": {
    "name": "ipython",
    "version": 3
   },
   "file_extension": ".py",
   "mimetype": "text/x-python",
   "name": "python",
   "nbconvert_exporter": "python",
   "pygments_lexer": "ipython3",
   "version": "3.11.7"
  }
 },
 "nbformat": 4,
 "nbformat_minor": 5
}

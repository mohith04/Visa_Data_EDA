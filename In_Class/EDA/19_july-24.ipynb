{
 "cells": [
  {
   "cell_type": "code",
   "execution_count": 7,
   "id": "976999ab-fde0-4402-93c7-4c6792cd3d09",
   "metadata": {},
   "outputs": [],
   "source": [
    "import pandas as pd"
   ]
  },
  {
   "cell_type": "markdown",
   "id": "8d095a89-357c-4e0b-9408-ada99b56bd01",
   "metadata": {},
   "source": [
    "### Step - 5\n",
    "- add a new column on existing data frame"
   ]
  },
  {
   "cell_type": "code",
   "execution_count": 26,
   "id": "f79f264a-8d11-4f22-ac7f-7df7eff3d745",
   "metadata": {},
   "outputs": [],
   "source": [
    "names = ['Tarun','Mohith','Surendar','Happy']\n",
    "city = [\"Delhi\",'Mandya','Mysore','Amritsar']\n",
    "age = [20,24,21,29]\n",
    "df = pd.DataFrame(zip(names,age,city),columns=['Names','Age','City of orgin'],index = [\"A\",'B','C','D'] )"
   ]
  },
  {
   "cell_type": "markdown",
   "id": "126c5a9a-4a92-4e1f-8066-6f0b505490b8",
   "metadata": {},
   "source": [
    "- If we want to add a new column\n",
    "- first check how many rows are there\n",
    "- for example in above dataframe we have 3 rows\n",
    "- your new column also should have 3 rows\n",
    "- suppose I want to create a new column: **Salary**\n",
    "- make a list with 4 values\n",
    "- salary = [100000,200000,300000]\n",
    "- **Salary**:dataframe [column] = list of values\n",
    "    - df ['salary'] = 'salary'"
   ]
  },
  {
   "cell_type": "code",
   "execution_count": 28,
   "id": "b02fd47b-d19d-4df9-aa7c-01db9953e6b1",
   "metadata": {},
   "outputs": [],
   "source": [
    "df['Salary'] = [100000,200000,300000,40000]"
   ]
  },
  {
   "cell_type": "code",
   "execution_count": 30,
   "id": "ea591f34-d2cb-4e56-9bc0-97675e7ad4b8",
   "metadata": {},
   "outputs": [
    {
     "name": "stdout",
     "output_type": "stream",
     "text": [
      "      Names  Age City of orgin  Salary\n",
      "A     Tarun   20         Delhi  100000\n",
      "B    Mohith   24        Mandya  200000\n",
      "C  Surendar   21        Mysore  300000\n",
      "D     Happy   29      Amritsar   40000\n"
     ]
    }
   ],
   "source": [
    "print (df)"
   ]
  },
  {
   "cell_type": "markdown",
   "id": "bccf8bb9-6d6e-4efc-a69c-204ee7b776f5",
   "metadata": {},
   "source": [
    "**Use case - 1**\n",
    "1. create empty data frame\n",
    "2. create 3 list using list comprehension\n",
    "3. list1 = values from 1 to 10\n",
    "4. list2 = square of 1 to 10\n",
    "5. list3 = cube of 1 to 10\n",
    "6. create a new data frame with this details "
   ]
  },
  {
   "cell_type": "code",
   "execution_count": 43,
   "id": "2d2bbf5c-e747-48c5-9c7c-41716bebc70b",
   "metadata": {},
   "outputs": [
    {
     "name": "stdout",
     "output_type": "stream",
     "text": [
      "[1, 2, 3, 4, 5, 6, 7, 8, 9, 10] \n",
      " [1, 4, 9, 16, 25, 36, 49, 64, 81, 100] \n",
      " [1, 8, 27, 64, 125, 216, 343, 512, 729, 1000]\n"
     ]
    }
   ],
   "source": [
    "list_1 = [i for i in range (1,11)]\n",
    "list_2 = [i*i for i in range (1,11)]\n",
    "list_3 = [i*i*i for i in range (1,11)]\n",
    "print (list_1,'\\n', list_2,'\\n', list_3)"
   ]
  },
  {
   "cell_type": "code",
   "execution_count": 51,
   "id": "933d03c4-1eb5-421d-bbba-88b4b9569917",
   "metadata": {},
   "outputs": [],
   "source": [
    "numbers_df = pd.DataFrame(zip(list_1,list_2,list_3),columns=[\"Numbers\",\"Square of numbers\",\"Cube of numbers\"])"
   ]
  },
  {
   "cell_type": "code",
   "execution_count": 55,
   "id": "e41b7356-032a-4818-9072-964f5c77d9e8",
   "metadata": {},
   "outputs": [
    {
     "name": "stdout",
     "output_type": "stream",
     "text": [
      "   Numbers  Square of numbers  Cube of numbers\n",
      "0        1                  1                1\n",
      "1        2                  4                8\n",
      "2        3                  9               27\n",
      "3        4                 16               64\n",
      "4        5                 25              125\n",
      "5        6                 36              216\n",
      "6        7                 49              343\n",
      "7        8                 64              512\n",
      "8        9                 81              729\n",
      "9       10                100             1000\n"
     ]
    }
   ],
   "source": [
    "print (numbers_df)"
   ]
  },
  {
   "cell_type": "code",
   "execution_count": null,
   "id": "82feef4c-e3ce-42bd-8f5c-990341117f5d",
   "metadata": {},
   "outputs": [],
   "source": [
    "- Created the above using in the pd itself \n"
   ]
  },
  {
   "cell_type": "code",
   "execution_count": 2,
   "id": "2d4d99d3-898e-41ff-ad2f-fc2dc07e3f0f",
   "metadata": {},
   "outputs": [
    {
     "ename": "NameError",
     "evalue": "name 'pd' is not defined",
     "output_type": "error",
     "traceback": [
      "\u001b[1;31m---------------------------------------------------------------------------\u001b[0m",
      "\u001b[1;31mNameError\u001b[0m                                 Traceback (most recent call last)",
      "Cell \u001b[1;32mIn[2], line 1\u001b[0m\n\u001b[1;32m----> 1\u001b[0m finding_sq_cub \u001b[38;5;241m=\u001b[39m pd\u001b[38;5;241m.\u001b[39mDataFrame()\n",
      "\u001b[1;31mNameError\u001b[0m: name 'pd' is not defined"
     ]
    }
   ],
   "source": [
    "finding_sq_cub = pd.DataFrame()"
   ]
  },
  {
   "cell_type": "code",
   "execution_count": 59,
   "id": "7199b215-b66a-4e94-882c-0ff5055445d4",
   "metadata": {},
   "outputs": [
    {
     "data": {
      "text/html": [
       "<div>\n",
       "<style scoped>\n",
       "    .dataframe tbody tr th:only-of-type {\n",
       "        vertical-align: middle;\n",
       "    }\n",
       "\n",
       "    .dataframe tbody tr th {\n",
       "        vertical-align: top;\n",
       "    }\n",
       "\n",
       "    .dataframe thead th {\n",
       "        text-align: right;\n",
       "    }\n",
       "</style>\n",
       "<table border=\"1\" class=\"dataframe\">\n",
       "  <thead>\n",
       "    <tr style=\"text-align: right;\">\n",
       "      <th></th>\n",
       "      <th>Numbers</th>\n",
       "      <th>Square of numbers</th>\n",
       "      <th>Cube of numbers</th>\n",
       "    </tr>\n",
       "  </thead>\n",
       "  <tbody>\n",
       "    <tr>\n",
       "      <th>0</th>\n",
       "      <td>1</td>\n",
       "      <td>1</td>\n",
       "      <td>1</td>\n",
       "    </tr>\n",
       "    <tr>\n",
       "      <th>1</th>\n",
       "      <td>2</td>\n",
       "      <td>4</td>\n",
       "      <td>8</td>\n",
       "    </tr>\n",
       "    <tr>\n",
       "      <th>2</th>\n",
       "      <td>3</td>\n",
       "      <td>9</td>\n",
       "      <td>27</td>\n",
       "    </tr>\n",
       "    <tr>\n",
       "      <th>3</th>\n",
       "      <td>4</td>\n",
       "      <td>16</td>\n",
       "      <td>64</td>\n",
       "    </tr>\n",
       "    <tr>\n",
       "      <th>4</th>\n",
       "      <td>5</td>\n",
       "      <td>25</td>\n",
       "      <td>125</td>\n",
       "    </tr>\n",
       "    <tr>\n",
       "      <th>5</th>\n",
       "      <td>6</td>\n",
       "      <td>36</td>\n",
       "      <td>216</td>\n",
       "    </tr>\n",
       "    <tr>\n",
       "      <th>6</th>\n",
       "      <td>7</td>\n",
       "      <td>49</td>\n",
       "      <td>343</td>\n",
       "    </tr>\n",
       "    <tr>\n",
       "      <th>7</th>\n",
       "      <td>8</td>\n",
       "      <td>64</td>\n",
       "      <td>512</td>\n",
       "    </tr>\n",
       "    <tr>\n",
       "      <th>8</th>\n",
       "      <td>9</td>\n",
       "      <td>81</td>\n",
       "      <td>729</td>\n",
       "    </tr>\n",
       "    <tr>\n",
       "      <th>9</th>\n",
       "      <td>10</td>\n",
       "      <td>100</td>\n",
       "      <td>1000</td>\n",
       "    </tr>\n",
       "  </tbody>\n",
       "</table>\n",
       "</div>"
      ],
      "text/plain": [
       "   Numbers  Square of numbers  Cube of numbers\n",
       "0        1                  1                1\n",
       "1        2                  4                8\n",
       "2        3                  9               27\n",
       "3        4                 16               64\n",
       "4        5                 25              125\n",
       "5        6                 36              216\n",
       "6        7                 49              343\n",
       "7        8                 64              512\n",
       "8        9                 81              729\n",
       "9       10                100             1000"
      ]
     },
     "execution_count": 59,
     "metadata": {},
     "output_type": "execute_result"
    }
   ],
   "source": [
    "finding_sq_cub[\"Numbers\"] = list_1\n",
    "finding_sq_cub[\"Square of numbers\"] = list_2\n",
    "finding_sq_cub[\"Cube of numbers\"] = list_3\n",
    "finding_sq_cub"
   ]
  },
  {
   "cell_type": "markdown",
   "id": "7eac5014-cf7f-459b-8e88-0a806bf6058d",
   "metadata": {},
   "source": [
    "### Step - 6\n",
    "#### Update the already existing columns\n",
    "- create a new column\n",
    "    - create a new list\n",
    "    - Creating a new column the name can be anything \n",
    "    - df['']\n",
    "- update the existing columns the same way only\n",
    "    - Here we also need to make a list of values = number of rows\n",
    "    - while updating the existing column\n",
    "    - df ['We need to provide the existing column name only here ']"
   ]
  },
  {
   "cell_type": "code",
   "execution_count": 62,
   "id": "a0cc6e25-07c5-4bb2-b68c-59406b99587c",
   "metadata": {},
   "outputs": [
    {
     "data": {
      "text/html": [
       "<div>\n",
       "<style scoped>\n",
       "    .dataframe tbody tr th:only-of-type {\n",
       "        vertical-align: middle;\n",
       "    }\n",
       "\n",
       "    .dataframe tbody tr th {\n",
       "        vertical-align: top;\n",
       "    }\n",
       "\n",
       "    .dataframe thead th {\n",
       "        text-align: right;\n",
       "    }\n",
       "</style>\n",
       "<table border=\"1\" class=\"dataframe\">\n",
       "  <thead>\n",
       "    <tr style=\"text-align: right;\">\n",
       "      <th></th>\n",
       "      <th>Numbers</th>\n",
       "      <th>Square of numbers</th>\n",
       "      <th>Cube of numbers</th>\n",
       "    </tr>\n",
       "  </thead>\n",
       "  <tbody>\n",
       "    <tr>\n",
       "      <th>0</th>\n",
       "      <td>1</td>\n",
       "      <td>1</td>\n",
       "      <td>1</td>\n",
       "    </tr>\n",
       "    <tr>\n",
       "      <th>1</th>\n",
       "      <td>16</td>\n",
       "      <td>4</td>\n",
       "      <td>8</td>\n",
       "    </tr>\n",
       "    <tr>\n",
       "      <th>2</th>\n",
       "      <td>81</td>\n",
       "      <td>9</td>\n",
       "      <td>27</td>\n",
       "    </tr>\n",
       "    <tr>\n",
       "      <th>3</th>\n",
       "      <td>256</td>\n",
       "      <td>16</td>\n",
       "      <td>64</td>\n",
       "    </tr>\n",
       "    <tr>\n",
       "      <th>4</th>\n",
       "      <td>625</td>\n",
       "      <td>25</td>\n",
       "      <td>125</td>\n",
       "    </tr>\n",
       "    <tr>\n",
       "      <th>5</th>\n",
       "      <td>1296</td>\n",
       "      <td>36</td>\n",
       "      <td>216</td>\n",
       "    </tr>\n",
       "    <tr>\n",
       "      <th>6</th>\n",
       "      <td>2401</td>\n",
       "      <td>49</td>\n",
       "      <td>343</td>\n",
       "    </tr>\n",
       "    <tr>\n",
       "      <th>7</th>\n",
       "      <td>4096</td>\n",
       "      <td>64</td>\n",
       "      <td>512</td>\n",
       "    </tr>\n",
       "    <tr>\n",
       "      <th>8</th>\n",
       "      <td>6561</td>\n",
       "      <td>81</td>\n",
       "      <td>729</td>\n",
       "    </tr>\n",
       "    <tr>\n",
       "      <th>9</th>\n",
       "      <td>10000</td>\n",
       "      <td>100</td>\n",
       "      <td>1000</td>\n",
       "    </tr>\n",
       "  </tbody>\n",
       "</table>\n",
       "</div>"
      ],
      "text/plain": [
       "   Numbers  Square of numbers  Cube of numbers\n",
       "0        1                  1                1\n",
       "1       16                  4                8\n",
       "2       81                  9               27\n",
       "3      256                 16               64\n",
       "4      625                 25              125\n",
       "5     1296                 36              216\n",
       "6     2401                 49              343\n",
       "7     4096                 64              512\n",
       "8     6561                 81              729\n",
       "9    10000                100             1000"
      ]
     },
     "execution_count": 62,
     "metadata": {},
     "output_type": "execute_result"
    }
   ],
   "source": [
    "list_4 = [i**4 for i in range (1,11)]\n",
    "finding_sq_cub[\"Numbers\"] = list_4\n",
    "finding_sq_cub"
   ]
  },
  {
   "cell_type": "markdown",
   "id": "76eb4284-e6ca-422a-8491-f5b2f6fc9ebf",
   "metadata": {},
   "source": [
    "### Step - 7\n",
    "#### How to drop a column\n",
    "- if we want to drop a specific column\n",
    "- we will use drop method\n",
    "- we need to use the dot\n",
    "- we already know the difference between keywords or methods\n",
    "- Keywords we can use directly\n",
    "- methods will use with corresponding data frame\n",
    "- **Method name is: drop**"
   ]
  },
  {
   "cell_type": "code",
   "execution_count": 67,
   "id": "11532c1b-1a91-4c10-97c5-bf5fac785849",
   "metadata": {},
   "outputs": [
    {
     "data": {
      "text/plain": [
       "Index(['Numbers', 'Square of numbers', 'Cube of numbers'], dtype='object')"
      ]
     },
     "execution_count": 67,
     "metadata": {},
     "output_type": "execute_result"
    }
   ],
   "source": [
    "finding_sq_cub.columns"
   ]
  },
  {
   "cell_type": "markdown",
   "id": "402b33f5-a103-4ff5-8157-ef5ea7fcd92c",
   "metadata": {},
   "source": [
    "- we need to provide the name of the column that you want to drop\n",
    "- inplace will provide the overwrite data frame or not\n",
    "    - inplace = True, this indicates an overwrite of the data frame\n",
    "    - inplace = False, this indicates the modified data frame will be used when you provide the new variable for operation \n",
    "- axis: it will specify values in a row or column\n",
    "    - axis = 0 => means rows\n",
    "    - by default axis = 0 \n",
    "    - axis = 1 => means columns "
   ]
  },
  {
   "cell_type": "code",
   "execution_count": 78,
   "id": "9324ded5-bafb-4520-ac41-7d68a867cf0e",
   "metadata": {},
   "outputs": [
    {
     "ename": "KeyError",
     "evalue": "\"['Numbers'] not found in axis\"",
     "output_type": "error",
     "traceback": [
      "\u001b[1;31m---------------------------------------------------------------------------\u001b[0m",
      "\u001b[1;31mKeyError\u001b[0m                                  Traceback (most recent call last)",
      "Cell \u001b[1;32mIn[78], line 1\u001b[0m\n\u001b[1;32m----> 1\u001b[0m finding_sq_cub\u001b[38;5;241m.\u001b[39mdrop(\u001b[38;5;124m'\u001b[39m\u001b[38;5;124mNumbers\u001b[39m\u001b[38;5;124m'\u001b[39m)\n",
      "File \u001b[1;32m~\\anaconda3\\Lib\\site-packages\\pandas\\core\\frame.py:5344\u001b[0m, in \u001b[0;36mDataFrame.drop\u001b[1;34m(self, labels, axis, index, columns, level, inplace, errors)\u001b[0m\n\u001b[0;32m   5196\u001b[0m \u001b[38;5;28;01mdef\u001b[39;00m \u001b[38;5;21mdrop\u001b[39m(\n\u001b[0;32m   5197\u001b[0m     \u001b[38;5;28mself\u001b[39m,\n\u001b[0;32m   5198\u001b[0m     labels: IndexLabel \u001b[38;5;241m|\u001b[39m \u001b[38;5;28;01mNone\u001b[39;00m \u001b[38;5;241m=\u001b[39m \u001b[38;5;28;01mNone\u001b[39;00m,\n\u001b[1;32m   (...)\u001b[0m\n\u001b[0;32m   5205\u001b[0m     errors: IgnoreRaise \u001b[38;5;241m=\u001b[39m \u001b[38;5;124m\"\u001b[39m\u001b[38;5;124mraise\u001b[39m\u001b[38;5;124m\"\u001b[39m,\n\u001b[0;32m   5206\u001b[0m ) \u001b[38;5;241m-\u001b[39m\u001b[38;5;241m>\u001b[39m DataFrame \u001b[38;5;241m|\u001b[39m \u001b[38;5;28;01mNone\u001b[39;00m:\n\u001b[0;32m   5207\u001b[0m \u001b[38;5;250m    \u001b[39m\u001b[38;5;124;03m\"\"\"\u001b[39;00m\n\u001b[0;32m   5208\u001b[0m \u001b[38;5;124;03m    Drop specified labels from rows or columns.\u001b[39;00m\n\u001b[0;32m   5209\u001b[0m \n\u001b[1;32m   (...)\u001b[0m\n\u001b[0;32m   5342\u001b[0m \u001b[38;5;124;03m            weight  1.0     0.8\u001b[39;00m\n\u001b[0;32m   5343\u001b[0m \u001b[38;5;124;03m    \"\"\"\u001b[39;00m\n\u001b[1;32m-> 5344\u001b[0m     \u001b[38;5;28;01mreturn\u001b[39;00m \u001b[38;5;28msuper\u001b[39m()\u001b[38;5;241m.\u001b[39mdrop(\n\u001b[0;32m   5345\u001b[0m         labels\u001b[38;5;241m=\u001b[39mlabels,\n\u001b[0;32m   5346\u001b[0m         axis\u001b[38;5;241m=\u001b[39maxis,\n\u001b[0;32m   5347\u001b[0m         index\u001b[38;5;241m=\u001b[39mindex,\n\u001b[0;32m   5348\u001b[0m         columns\u001b[38;5;241m=\u001b[39mcolumns,\n\u001b[0;32m   5349\u001b[0m         level\u001b[38;5;241m=\u001b[39mlevel,\n\u001b[0;32m   5350\u001b[0m         inplace\u001b[38;5;241m=\u001b[39minplace,\n\u001b[0;32m   5351\u001b[0m         errors\u001b[38;5;241m=\u001b[39merrors,\n\u001b[0;32m   5352\u001b[0m     )\n",
      "File \u001b[1;32m~\\anaconda3\\Lib\\site-packages\\pandas\\core\\generic.py:4711\u001b[0m, in \u001b[0;36mNDFrame.drop\u001b[1;34m(self, labels, axis, index, columns, level, inplace, errors)\u001b[0m\n\u001b[0;32m   4709\u001b[0m \u001b[38;5;28;01mfor\u001b[39;00m axis, labels \u001b[38;5;129;01min\u001b[39;00m axes\u001b[38;5;241m.\u001b[39mitems():\n\u001b[0;32m   4710\u001b[0m     \u001b[38;5;28;01mif\u001b[39;00m labels \u001b[38;5;129;01mis\u001b[39;00m \u001b[38;5;129;01mnot\u001b[39;00m \u001b[38;5;28;01mNone\u001b[39;00m:\n\u001b[1;32m-> 4711\u001b[0m         obj \u001b[38;5;241m=\u001b[39m obj\u001b[38;5;241m.\u001b[39m_drop_axis(labels, axis, level\u001b[38;5;241m=\u001b[39mlevel, errors\u001b[38;5;241m=\u001b[39merrors)\n\u001b[0;32m   4713\u001b[0m \u001b[38;5;28;01mif\u001b[39;00m inplace:\n\u001b[0;32m   4714\u001b[0m     \u001b[38;5;28mself\u001b[39m\u001b[38;5;241m.\u001b[39m_update_inplace(obj)\n",
      "File \u001b[1;32m~\\anaconda3\\Lib\\site-packages\\pandas\\core\\generic.py:4753\u001b[0m, in \u001b[0;36mNDFrame._drop_axis\u001b[1;34m(self, labels, axis, level, errors, only_slice)\u001b[0m\n\u001b[0;32m   4751\u001b[0m         new_axis \u001b[38;5;241m=\u001b[39m axis\u001b[38;5;241m.\u001b[39mdrop(labels, level\u001b[38;5;241m=\u001b[39mlevel, errors\u001b[38;5;241m=\u001b[39merrors)\n\u001b[0;32m   4752\u001b[0m     \u001b[38;5;28;01melse\u001b[39;00m:\n\u001b[1;32m-> 4753\u001b[0m         new_axis \u001b[38;5;241m=\u001b[39m axis\u001b[38;5;241m.\u001b[39mdrop(labels, errors\u001b[38;5;241m=\u001b[39merrors)\n\u001b[0;32m   4754\u001b[0m     indexer \u001b[38;5;241m=\u001b[39m axis\u001b[38;5;241m.\u001b[39mget_indexer(new_axis)\n\u001b[0;32m   4756\u001b[0m \u001b[38;5;66;03m# Case for non-unique axis\u001b[39;00m\n\u001b[0;32m   4757\u001b[0m \u001b[38;5;28;01melse\u001b[39;00m:\n",
      "File \u001b[1;32m~\\anaconda3\\Lib\\site-packages\\pandas\\core\\indexes\\base.py:7000\u001b[0m, in \u001b[0;36mIndex.drop\u001b[1;34m(self, labels, errors)\u001b[0m\n\u001b[0;32m   6998\u001b[0m \u001b[38;5;28;01mif\u001b[39;00m mask\u001b[38;5;241m.\u001b[39many():\n\u001b[0;32m   6999\u001b[0m     \u001b[38;5;28;01mif\u001b[39;00m errors \u001b[38;5;241m!=\u001b[39m \u001b[38;5;124m\"\u001b[39m\u001b[38;5;124mignore\u001b[39m\u001b[38;5;124m\"\u001b[39m:\n\u001b[1;32m-> 7000\u001b[0m         \u001b[38;5;28;01mraise\u001b[39;00m \u001b[38;5;167;01mKeyError\u001b[39;00m(\u001b[38;5;124mf\u001b[39m\u001b[38;5;124m\"\u001b[39m\u001b[38;5;132;01m{\u001b[39;00mlabels[mask]\u001b[38;5;241m.\u001b[39mtolist()\u001b[38;5;132;01m}\u001b[39;00m\u001b[38;5;124m not found in axis\u001b[39m\u001b[38;5;124m\"\u001b[39m)\n\u001b[0;32m   7001\u001b[0m     indexer \u001b[38;5;241m=\u001b[39m indexer[\u001b[38;5;241m~\u001b[39mmask]\n\u001b[0;32m   7002\u001b[0m \u001b[38;5;28;01mreturn\u001b[39;00m \u001b[38;5;28mself\u001b[39m\u001b[38;5;241m.\u001b[39mdelete(indexer)\n",
      "\u001b[1;31mKeyError\u001b[0m: \"['Numbers'] not found in axis\""
     ]
    }
   ],
   "source": [
    "finding_sq_cub.drop('Numbers')"
   ]
  },
  {
   "cell_type": "markdown",
   "id": "9117be04-b5c5-44db-88b4-6ba46d96d746",
   "metadata": {},
   "source": [
    "- the above code is giving an error because axis as the value of the 0 by default "
   ]
  },
  {
   "cell_type": "code",
   "execution_count": 83,
   "id": "87c7c814-ffe9-4823-b06c-c762d5ccff92",
   "metadata": {},
   "outputs": [
    {
     "data": {
      "text/html": [
       "<div>\n",
       "<style scoped>\n",
       "    .dataframe tbody tr th:only-of-type {\n",
       "        vertical-align: middle;\n",
       "    }\n",
       "\n",
       "    .dataframe tbody tr th {\n",
       "        vertical-align: top;\n",
       "    }\n",
       "\n",
       "    .dataframe thead th {\n",
       "        text-align: right;\n",
       "    }\n",
       "</style>\n",
       "<table border=\"1\" class=\"dataframe\">\n",
       "  <thead>\n",
       "    <tr style=\"text-align: right;\">\n",
       "      <th></th>\n",
       "      <th>Square of numbers</th>\n",
       "      <th>Cube of numbers</th>\n",
       "    </tr>\n",
       "  </thead>\n",
       "  <tbody>\n",
       "    <tr>\n",
       "      <th>0</th>\n",
       "      <td>1</td>\n",
       "      <td>1</td>\n",
       "    </tr>\n",
       "    <tr>\n",
       "      <th>1</th>\n",
       "      <td>4</td>\n",
       "      <td>8</td>\n",
       "    </tr>\n",
       "    <tr>\n",
       "      <th>2</th>\n",
       "      <td>9</td>\n",
       "      <td>27</td>\n",
       "    </tr>\n",
       "    <tr>\n",
       "      <th>3</th>\n",
       "      <td>16</td>\n",
       "      <td>64</td>\n",
       "    </tr>\n",
       "    <tr>\n",
       "      <th>4</th>\n",
       "      <td>25</td>\n",
       "      <td>125</td>\n",
       "    </tr>\n",
       "    <tr>\n",
       "      <th>5</th>\n",
       "      <td>36</td>\n",
       "      <td>216</td>\n",
       "    </tr>\n",
       "    <tr>\n",
       "      <th>6</th>\n",
       "      <td>49</td>\n",
       "      <td>343</td>\n",
       "    </tr>\n",
       "    <tr>\n",
       "      <th>7</th>\n",
       "      <td>64</td>\n",
       "      <td>512</td>\n",
       "    </tr>\n",
       "    <tr>\n",
       "      <th>8</th>\n",
       "      <td>81</td>\n",
       "      <td>729</td>\n",
       "    </tr>\n",
       "    <tr>\n",
       "      <th>9</th>\n",
       "      <td>100</td>\n",
       "      <td>1000</td>\n",
       "    </tr>\n",
       "  </tbody>\n",
       "</table>\n",
       "</div>"
      ],
      "text/plain": [
       "   Square of numbers  Cube of numbers\n",
       "0                  1                1\n",
       "1                  4                8\n",
       "2                  9               27\n",
       "3                 16               64\n",
       "4                 25              125\n",
       "5                 36              216\n",
       "6                 49              343\n",
       "7                 64              512\n",
       "8                 81              729\n",
       "9                100             1000"
      ]
     },
     "execution_count": 83,
     "metadata": {},
     "output_type": "execute_result"
    }
   ],
   "source": [
    "finding_sq_cub_new = finding_sq_cub.drop('Numbers',axis = 1)\n",
    "finding_sq_cub_new"
   ]
  },
  {
   "cell_type": "code",
   "execution_count": null,
   "id": "3e7d6dcd-57fe-425c-a133-f060fa1da568",
   "metadata": {},
   "outputs": [],
   "source": []
  }
 ],
 "metadata": {
  "kernelspec": {
   "display_name": "Python 3 (ipykernel)",
   "language": "python",
   "name": "python3"
  },
  "language_info": {
   "codemirror_mode": {
    "name": "ipython",
    "version": 3
   },
   "file_extension": ".py",
   "mimetype": "text/x-python",
   "name": "python",
   "nbconvert_exporter": "python",
   "pygments_lexer": "ipython3",
   "version": "3.11.7"
  }
 },
 "nbformat": 4,
 "nbformat_minor": 5
}

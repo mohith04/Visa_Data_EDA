{
 "cells": [
  {
   "cell_type": "markdown",
   "id": "605894e2-43d7-4e81-a553-6f81b66821f1",
   "metadata": {},
   "source": [
    "**Statistics**\n",
    "1. Related to EDA: Exploratory data analysis\n",
    "2. Related to Machine Learning concepts"
   ]
  },
  {
   "cell_type": "markdown",
   "id": "4a2e6c3a-4a51-427c-a815-6faed6372911",
   "metadata": {},
   "source": [
    "Problem:\n",
    "You want to find the loan defaulter\n",
    "1. Gather data\n",
    "2. Preprocess\n",
    "3. Analysis\n",
    "4. Representation\n",
    "5. Presentation "
   ]
  },
  {
   "cell_type": "markdown",
   "id": "9062a72d-98dc-4561-93ff-fa94821b9e23",
   "metadata": {},
   "source": [
    "Statistics is a collection of preprocess, analysis, representation and presentation"
   ]
  },
  {
   "cell_type": "markdown",
   "id": "f5c57c74-de28-479b-9194-2290ded1391c",
   "metadata": {},
   "source": [
    "Data is divided into 2 types \n",
    "1. Categorical data\n",
    "    - It is called as Qualitative data\n",
    "    - example: Name, city, gender, etc\n",
    "2. Numerical data\n",
    "    - It is called as Quantitative data\n",
    "    - example: Age, salary, distance\n",
    "        1. continuous data\n",
    "            - float type: weight\n",
    "            - Measurable  \n",
    "        2. Discrete data\n",
    "            - countable\n",
    "            - how many kids\n",
    "            - how many house"
   ]
  },
  {
   "cell_type": "markdown",
   "id": "75624d1a-6d36-48a1-9b9b-91e55b520856",
   "metadata": {},
   "source": [
    "In data set we have colums and rows will be available \n",
    "- Colums:\n",
    "    - "
   ]
  },
  {
   "cell_type": "markdown",
   "id": "fb72c3db-add1-4d69-abc4-aaabff975685",
   "metadata": {},
   "source": [
    "Data is divided into 4 levels\n",
    "1. Nominal level:\n",
    "    - Its under categorical data\n",
    "    - it is called the lowest level of data\n",
    "    - simple names\n",
    "    - there is no relation between the names\n",
    "    - there is no meaning between the names\n",
    "    - eg: Ramesh, Suresh, Satish, Hyderabad, Bangalore \n",
    "2. Ordinal level:\n",
    "    - Its under categorical data\n",
    "    - we can see the order between the names\n",
    "    - eg: movie- flop, average, hit, superhit and blockbuster\n",
    "    - the above follows an order\n",
    "    - its is an incremental form\n",
    "    - primary, secondary and teritiory\n",
    "3. Interval level:\n",
    "    - Its under the numerical type of data\n",
    "    - it doesn't have a zero scale\n",
    "    - \n",
    "    - data has negative values\n",
    "    - Bank balance\n",
    "    - eg: temperature \n",
    "4. Ratio level:\n",
    "    - Its under the numerical type of data\n",
    "    - it has zero scale\n",
    "    - data has only positive values\n",
    "    - eg: age, height, distance, length, weight "
   ]
  },
  {
   "cell_type": "markdown",
   "id": "d35b0d8e-e681-42f3-bac1-433417c642f6",
   "metadata": {},
   "source": [
    "1. Population\n",
    "    - each and every data point\n",
    "    - working on each and every observation is tough\n",
    "        - time complexity\n",
    "        - money\n",
    "        - resource \n",
    "2. Sample\n",
    "    - only taking some part of the data\n",
    "    - we will work on a small and will estimate the output "
   ]
  }
 ],
 "metadata": {
  "kernelspec": {
   "display_name": "Python 3 (ipykernel)",
   "language": "python",
   "name": "python3"
  },
  "language_info": {
   "codemirror_mode": {
    "name": "ipython",
    "version": 3
   },
   "file_extension": ".py",
   "mimetype": "text/x-python",
   "name": "python",
   "nbconvert_exporter": "python",
   "pygments_lexer": "ipython3",
   "version": "3.11.7"
  }
 },
 "nbformat": 4,
 "nbformat_minor": 5
}

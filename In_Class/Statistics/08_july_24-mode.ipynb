{
 "cells": [
  {
   "cell_type": "markdown",
   "id": "b11cf201-b349-4968-96ee-cc8c58af44d7",
   "metadata": {},
   "source": [
    "-  Left skewer or negative skewed:\n",
    "    - Because of the negative side\n",
    "    - Mode > Median > Mean\n",
    "    - Assume that the data ranges from 0 to 100\n",
    "    - Negative side or the left side data is pulling which means 0 side\n",
    "    - so that the Mean value is low\n",
    "- Right skewer or Positive skewed:\n",
    "    - Because of positive outliers\n",
    "    - Mode < Median < Mean\n",
    "    - Assume that the data ranges from 0 to 100\n",
    "    - Positive side or the right side is pulling which means 100 side\n",
    "    - so that the Mean value is high\n",
    "- No skewer or Normal distribution:\n",
    "    - No outliers\n",
    "    - Mode = Median = Mean\n",
    "    - Bell shape curve\n",
    "    - 50% data in left side and 50% in the right side "
   ]
  },
  {
   "cell_type": "markdown",
   "id": "358ad98c-4eb8-43f6-93f9-d7968ef1c76b",
   "metadata": {},
   "source": [
    "- What is the meaning of skewer: Pulling towards either direction\n",
    "- Who is the reason for Skewer: Outliers\n",
    "- The Outlier is on which side:\n",
    "    - Right side means (Max value)(Based on Coordinates)\n",
    "    - "
   ]
  }
 ],
 "metadata": {
  "kernelspec": {
   "display_name": "Python 3 (ipykernel)",
   "language": "python",
   "name": "python3"
  },
  "language_info": {
   "codemirror_mode": {
    "name": "ipython",
    "version": 3
   },
   "file_extension": ".py",
   "mimetype": "text/x-python",
   "name": "python",
   "nbconvert_exporter": "python",
   "pygments_lexer": "ipython3",
   "version": "3.11.7"
  }
 },
 "nbformat": 4,
 "nbformat_minor": 5
}

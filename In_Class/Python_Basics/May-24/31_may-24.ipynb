{
 "cells": [
  {
   "cell_type": "markdown",
   "id": "af842a44",
   "metadata": {},
   "source": [
    "### eval\n",
    "\n",
    "- eval is to evaluate the number \n",
    "- eval is for numbers not for english \n",
    "- eval converts the integer number to int\n",
    "- eval converts float number to float"
   ]
  },
  {
   "cell_type": "code",
   "execution_count": 5,
   "id": "c5cd0c24",
   "metadata": {},
   "outputs": [
    {
     "name": "stdout",
     "output_type": "stream",
     "text": [
      "enter the number 50\n",
      "enter the number 11.9\n",
      "The addition of the numbers is 61.9 , the substraction is 38.1 , the division is 4.202 and the multiplications is 595.0\n"
     ]
    }
   ],
   "source": [
    "number1 = eval (input (\"enter the number \"))\n",
    "number2 = eval (input (\"enter the number \"))\n",
    "add = number1 + number2\n",
    "sub = number1 - number2\n",
    "div = round (number1 / number2,3)\n",
    "mul = number1 * number2\n",
    "\n",
    "print (\"The addition of the numbers is\",add,\", the substraction is\",sub,\", the division is\",div,\"and the multiplications is\",mul)"
   ]
  },
  {
   "cell_type": "code",
   "execution_count": 11,
   "id": "f5ea9650",
   "metadata": {},
   "outputs": [
    {
     "name": "stdout",
     "output_type": "stream",
     "text": [
      "enter the number 100\n",
      "enter the number 200\n",
      "enter the number 500\n",
      "The average of three number is 266.667\n",
      "The average of 100 , 200 and 500 is 266.667\n"
     ]
    }
   ],
   "source": [
    "number1 = eval (input (\"enter the number \"))\n",
    "number2 = eval (input (\"enter the number \"))\n",
    "number3 = eval (input (\"enter the number \"))\n",
    "avg = round (((number1 + number2 + number3)/3),3)\n",
    "print (\"The average of three number is\", avg)\n",
    "print (\"The average of\", number1,\",\", number2, \"and\", number3,\"is\",avg)"
   ]
  },
  {
   "cell_type": "code",
   "execution_count": 19,
   "id": "29eea798",
   "metadata": {},
   "outputs": [
    {
     "name": "stdout",
     "output_type": "stream",
     "text": [
      "enter the bill amount 1000\n",
      "enter the tip percentage 10\n",
      "The tip amount is 100.0\n",
      "The final amount to be paid is 1100.0\n"
     ]
    }
   ],
   "source": [
    "bill = eval (input (\"enter the bill amount \"))\n",
    "tip_per = eval (input (\"enter the tip percentage \"))\n",
    "tip_amount  = (bill * (tip_per/100))\n",
    "print (\"The tip amount is\",tip_amount)\n",
    "Final_bill = bill + tip_amount\n",
    "print (\"The final amount to be paid is\",Final_bill)"
   ]
  },
  {
   "cell_type": "code",
   "execution_count": 23,
   "id": "077d2feb",
   "metadata": {},
   "outputs": [
    {
     "name": "stdout",
     "output_type": "stream",
     "text": [
      "enter the weight in KG 231\n",
      "The weight in pounds 509.2679130000001\n"
     ]
    }
   ],
   "source": [
    "Wght_kg = eval (input (\"enter the weight in KG \"))\n",
    "Wght_pnd = (Wght_kg * 2.204623)\n",
    "print (\"The weight in pounds\",Wght_pnd)"
   ]
  },
  {
   "cell_type": "markdown",
   "id": "cf251859",
   "metadata": {},
   "source": [
    "### random\n",
    "\n",
    "- we need to import the liberary function before the code \n",
    "- we need to call in the method required to get the random number i.e randint"
   ]
  },
  {
   "cell_type": "code",
   "execution_count": 34,
   "id": "99340a57",
   "metadata": {},
   "outputs": [
    {
     "name": "stdout",
     "output_type": "stream",
     "text": [
      "The first random number generated is 11221  and the second number generated is  55632\n",
      "The addition of two random numbers are 66853\n"
     ]
    }
   ],
   "source": [
    "import random\n",
    "RanN1 = random.randint(1,1000)\n",
    "RanN2 = random.randint(1,1000)\n",
    "print (\"The first random number generated is\",RanN1 ,\" and the second number generated is \",RanN2)\n",
    "add = RanN1 + RanN2\n",
    "print (\"The addition of two random numbers are\",add)"
   ]
  },
  {
   "cell_type": "code",
   "execution_count": 37,
   "id": "25bcd0bd",
   "metadata": {},
   "outputs": [
    {
     "name": "stdout",
     "output_type": "stream",
     "text": [
      "The random weight generated in KGs 800 and weight in pounds 1763.6984000000002\n"
     ]
    }
   ],
   "source": [
    "Wght_kg = random.randint(1,1000)\n",
    "Wght_pnd = (Wght_kg * 2.204623)\n",
    "print (\"The random weight generated in KGs\",Wght_kg,\"and weight in pounds\",Wght_pnd)"
   ]
  },
  {
   "cell_type": "code",
   "execution_count": 39,
   "id": "cc4ca019",
   "metadata": {},
   "outputs": [
    {
     "name": "stdout",
     "output_type": "stream",
     "text": [
      "The average of three number is 588.667\n",
      "The average of 970 , 439 and 357 is 588.667\n"
     ]
    }
   ],
   "source": [
    "number1 = random.randint(1,1000)\n",
    "number2 = random.randint(1,1000)\n",
    "number3 = random.randint(1,1000)\n",
    "avg = round (((number1 + number2 + number3)/3),3)\n",
    "print (\"The average of three number is\", avg)\n",
    "print (\"The average of\", number1,\",\", number2, \"and\", number3,\"is\",avg)"
   ]
  },
  {
   "cell_type": "code",
   "execution_count": 47,
   "id": "c15b9ce1",
   "metadata": {},
   "outputs": [
    {
     "name": "stdout",
     "output_type": "stream",
     "text": [
      "The random Bill amount generated 9463\n",
      "The tip amount is 662.4100000000001\n",
      "The final amount to be paid is 10125.41\n"
     ]
    }
   ],
   "source": [
    "bill = random.randint(1,10000)\n",
    "tip_per = random.randint(1,12)\n",
    "print (\"The random Bill amount generated\",bill)\n",
    "tip_amount  = (bill * (tip_per/100))\n",
    "print (\"The tip amount is\",tip_amount)\n",
    "Final_bill = bill + tip_amount\n",
    "print (\"The final amount to be paid is\",Final_bill)"
   ]
  },
  {
   "cell_type": "code",
   "execution_count": null,
   "id": "ebfd006d",
   "metadata": {},
   "outputs": [],
   "source": []
  },
  {
   "cell_type": "code",
   "execution_count": null,
   "id": "18fe1a5c",
   "metadata": {},
   "outputs": [],
   "source": []
  }
 ],
 "metadata": {
  "kernelspec": {
   "display_name": "Python 3 (ipykernel)",
   "language": "python",
   "name": "python3"
  },
  "language_info": {
   "codemirror_mode": {
    "name": "ipython",
    "version": 3
   },
   "file_extension": ".py",
   "mimetype": "text/x-python",
   "name": "python",
   "nbconvert_exporter": "python",
   "pygments_lexer": "ipython3",
   "version": "3.11.7"
  }
 },
 "nbformat": 4,
 "nbformat_minor": 5
}

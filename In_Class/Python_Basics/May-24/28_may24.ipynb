{
 "cells": [
  {
   "cell_type": "code",
   "execution_count": 19,
   "id": "76050418",
   "metadata": {},
   "outputs": [
    {
     "data": {
      "text/plain": [
       "int"
      ]
     },
     "execution_count": 19,
     "metadata": {},
     "output_type": "execute_result"
    }
   ],
   "source": [
    "number1 = 150\n",
    "type(number1)"
   ]
  },
  {
   "cell_type": "code",
   "execution_count": 20,
   "id": "55ba8404",
   "metadata": {},
   "outputs": [
    {
     "data": {
      "text/plain": [
       "(150, 150.0)"
      ]
     },
     "execution_count": 20,
     "metadata": {},
     "output_type": "execute_result"
    }
   ],
   "source": [
    "number1_float = float(number1)\n",
    "number1, number1_float"
   ]
  },
  {
   "cell_type": "code",
   "execution_count": 21,
   "id": "4c49ae2f",
   "metadata": {},
   "outputs": [
    {
     "data": {
      "text/plain": [
       "(int, float)"
      ]
     },
     "execution_count": 21,
     "metadata": {},
     "output_type": "execute_result"
    }
   ],
   "source": [
    "type(number1),type(number1_float)"
   ]
  },
  {
   "cell_type": "code",
   "execution_count": 22,
   "id": "4ddf7eea",
   "metadata": {},
   "outputs": [],
   "source": [
    "number1_string = str(number1)"
   ]
  },
  {
   "cell_type": "raw",
   "id": "85a7ac77",
   "metadata": {},
   "source": [
    "number1,number1_float,number1_string"
   ]
  },
  {
   "cell_type": "code",
   "execution_count": 23,
   "id": "cbb8b49b",
   "metadata": {},
   "outputs": [
    {
     "data": {
      "text/plain": [
       "(int, float, str)"
      ]
     },
     "execution_count": 23,
     "metadata": {},
     "output_type": "execute_result"
    }
   ],
   "source": [
    "type(number1),type(number1_float),type(number1_string)"
   ]
  },
  {
   "cell_type": "code",
   "execution_count": 24,
   "id": "7f511e24",
   "metadata": {},
   "outputs": [],
   "source": [
    "number1_bool = bool(number1)"
   ]
  },
  {
   "cell_type": "code",
   "execution_count": 25,
   "id": "fde8c8b3",
   "metadata": {},
   "outputs": [
    {
     "data": {
      "text/plain": [
       "(150, 150.0, '150', True)"
      ]
     },
     "execution_count": 25,
     "metadata": {},
     "output_type": "execute_result"
    }
   ],
   "source": [
    "number1,number1_float,number1_string,number1_bool\n",
    "## Boolean of any +ve or -ve number will be True\n",
    "## Boolean of 0 will be false"
   ]
  },
  {
   "cell_type": "code",
   "execution_count": 26,
   "id": "2f2dec14",
   "metadata": {},
   "outputs": [
    {
     "data": {
      "text/plain": [
       "(int, float, str, bool)"
      ]
     },
     "execution_count": 26,
     "metadata": {},
     "output_type": "execute_result"
    }
   ],
   "source": [
    "type(number1),type(number1_float),type(number1_string),type(number1_bool)"
   ]
  },
  {
   "cell_type": "markdown",
   "id": "5ae1908f",
   "metadata": {},
   "source": [
    "Float to other data types"
   ]
  },
  {
   "cell_type": "code",
   "execution_count": 27,
   "id": "157b25f7",
   "metadata": {},
   "outputs": [
    {
     "data": {
      "text/plain": [
       "(138, '138.256', True, False)"
      ]
     },
     "execution_count": 27,
     "metadata": {},
     "output_type": "execute_result"
    }
   ],
   "source": [
    "number2 = 138.256\n",
    "int(number2),str(number2),bool(number2),bool(0.0)"
   ]
  },
  {
   "cell_type": "code",
   "execution_count": 28,
   "id": "9bc44215",
   "metadata": {},
   "outputs": [],
   "source": [
    "#String to other data types"
   ]
  },
  {
   "cell_type": "code",
   "execution_count": 29,
   "id": "491a6346",
   "metadata": {},
   "outputs": [
    {
     "name": "stdout",
     "output_type": "stream",
     "text": [
      "200 200.0 True\n"
     ]
    }
   ],
   "source": [
    "print (int('200'),\n",
    "float('200'),\n",
    "bool('200'))"
   ]
  },
  {
   "cell_type": "code",
   "execution_count": 30,
   "id": "e2351373",
   "metadata": {},
   "outputs": [
    {
     "name": "stdout",
     "output_type": "stream",
     "text": [
      "138.256 True\n"
     ]
    }
   ],
   "source": [
    "print (\n",
    "#int('138.256'),\n",
    "float('138.256'),\n",
    "bool('138.256')) \n",
    "#In this the integer conversion fails "
   ]
  },
  {
   "cell_type": "code",
   "execution_count": 31,
   "id": "dab4592e",
   "metadata": {},
   "outputs": [
    {
     "name": "stdout",
     "output_type": "stream",
     "text": [
      "138\n"
     ]
    },
    {
     "ename": "ValueError",
     "evalue": "invalid literal for int() with base 10: '138.256'",
     "output_type": "error",
     "traceback": [
      "\u001b[0;31m---------------------------------------------------------------------------\u001b[0m",
      "\u001b[0;31mValueError\u001b[0m                                Traceback (most recent call last)",
      "Cell \u001b[0;32mIn[31], line 2\u001b[0m\n\u001b[1;32m      1\u001b[0m \u001b[38;5;28mprint\u001b[39m (\u001b[38;5;28mint\u001b[39m(\u001b[38;5;241m138.256\u001b[39m))\n\u001b[0;32m----> 2\u001b[0m \u001b[38;5;28mprint\u001b[39m (\u001b[38;5;28mint\u001b[39m(\u001b[38;5;124m'\u001b[39m\u001b[38;5;124m138.256\u001b[39m\u001b[38;5;124m'\u001b[39m))\n",
      "\u001b[0;31mValueError\u001b[0m: invalid literal for int() with base 10: '138.256'"
     ]
    }
   ],
   "source": [
    "print (int(138.256))\n",
    "print (int('138.256'))"
   ]
  },
  {
   "cell_type": "code",
   "execution_count": 32,
   "id": "93029926",
   "metadata": {},
   "outputs": [
    {
     "data": {
      "text/plain": [
       "(100.25, 100.25, 100.0)"
      ]
     },
     "execution_count": 32,
     "metadata": {},
     "output_type": "execute_result"
    }
   ],
   "source": [
    "float(100.25),float(\"100.25\"),float(\"100\")"
   ]
  },
  {
   "cell_type": "markdown",
   "id": "e371f5b9",
   "metadata": {},
   "source": [
    "String to other data type"
   ]
  },
  {
   "cell_type": "markdown",
   "id": "eed315d3",
   "metadata": {},
   "source": [
    "print (bool('python'),\n",
    "       int('python'),\n",
    "       float('python'))\n",
    "\n",
    "There is no way to convert the English letter to other data types"
   ]
  },
  {
   "cell_type": "code",
   "execution_count": null,
   "id": "f2e448a6",
   "metadata": {},
   "outputs": [],
   "source": [
    "#Boolean to other data types"
   ]
  },
  {
   "cell_type": "code",
   "execution_count": 35,
   "id": "c16833f3",
   "metadata": {},
   "outputs": [
    {
     "name": "stdout",
     "output_type": "stream",
     "text": [
      "True True True True True False True False True False\n"
     ]
    }
   ],
   "source": [
    "print (bool('100'),\n",
    "       bool(100),\n",
    "       bool(-1000),\n",
    "       bool('-1000'),\n",
    "       bool('0'),\n",
    "       bool(0),\n",
    "       bool('0.0'),\n",
    "       bool(0.0),\n",
    "       bool('python'),\n",
    "       bool(''))"
   ]
  },
  {
   "cell_type": "code",
   "execution_count": 36,
   "id": "4adaab4a",
   "metadata": {},
   "outputs": [
    {
     "name": "stdout",
     "output_type": "stream",
     "text": [
      "138 1 0\n"
     ]
    }
   ],
   "source": [
    "print (int(138.25),\n",
    "# int('138.25'),\n",
    "       int(True),\n",
    "       int(False))"
   ]
  },
  {
   "cell_type": "code",
   "execution_count": 37,
   "id": "1c2e699d",
   "metadata": {},
   "outputs": [
    {
     "name": "stdout",
     "output_type": "stream",
     "text": [
      "138.25 138.25 1.0 0.0\n"
     ]
    }
   ],
   "source": [
    "print (float(138.25),\n",
    "       float('138.25'),\n",
    "       float(True),\n",
    "       float(False))"
   ]
  },
  {
   "cell_type": "code",
   "execution_count": 38,
   "id": "15407f89",
   "metadata": {},
   "outputs": [
    {
     "name": "stdout",
     "output_type": "stream",
     "text": [
      "1331 138.25 True False\n"
     ]
    }
   ],
   "source": [
    "print (str(1331),\n",
    "       str(138.25),\n",
    "       str(True),\n",
    "       str(False))"
   ]
  },
  {
   "cell_type": "code",
   "execution_count": null,
   "id": "7ccb8860",
   "metadata": {},
   "outputs": [],
   "source": []
  }
 ],
 "metadata": {
  "kernelspec": {
   "display_name": "Python 3 (ipykernel)",
   "language": "python",
   "name": "python3"
  },
  "language_info": {
   "codemirror_mode": {
    "name": "ipython",
    "version": 3
   },
   "file_extension": ".py",
   "mimetype": "text/x-python",
   "name": "python",
   "nbconvert_exporter": "python",
   "pygments_lexer": "ipython3",
   "version": "3.11.7"
  }
 },
 "nbformat": 4,
 "nbformat_minor": 5
}

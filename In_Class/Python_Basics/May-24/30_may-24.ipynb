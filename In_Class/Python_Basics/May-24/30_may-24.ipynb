{
 "cells": [
  {
   "cell_type": "markdown",
   "id": "94651927",
   "metadata": {},
   "source": [
    "### Print is only used when there are mulitple answers required \n",
    "- we dont need to use print when there is only one response for a var"
   ]
  },
  {
   "cell_type": "markdown",
   "id": "887e8757",
   "metadata": {},
   "source": [
    "print of an addition and multiplication of 2 numbers "
   ]
  },
  {
   "cell_type": "code",
   "execution_count": 1,
   "id": "7d5b1780",
   "metadata": {},
   "outputs": [],
   "source": [
    "a = 10\n",
    "b = 15\n",
    "add = a + b\n",
    "mul = a * b\n",
    "div = a / b\n",
    "sub = b - a"
   ]
  },
  {
   "cell_type": "code",
   "execution_count": 2,
   "id": "6549423f",
   "metadata": {},
   "outputs": [
    {
     "name": "stdout",
     "output_type": "stream",
     "text": [
      "25\n",
      "the sum of number 10 and the sum of number 15 is 25\n",
      "150\n",
      "0.6666666666666666\n",
      "5\n"
     ]
    }
   ],
   "source": [
    "print (add)\n",
    "print (\"the sum of number\",a,\"and the sum of number\", b, \"is\",add )\n",
    "print (mul)\n",
    "print (div)\n",
    "print (sub)"
   ]
  },
  {
   "cell_type": "code",
   "execution_count": 3,
   "id": "222926ff",
   "metadata": {},
   "outputs": [
    {
     "name": "stdout",
     "output_type": "stream",
     "text": [
      "My name is Python my age is 28 and I am from bangalore\n"
     ]
    }
   ],
   "source": [
    "name = \"Python\"\n",
    "age = 28\n",
    "city = \"bangalore\" \n",
    "print (\"My name is\",name,\"my age is\", age,\"and I am from\", city)"
   ]
  },
  {
   "cell_type": "markdown",
   "id": "76596b81",
   "metadata": {},
   "source": [
    "- first decide it the statement to be printed \n",
    "- use the format \n",
    "   - eg : (print (\"My name is\",name,\"my age is\", age,\"and I am from\", city))"
   ]
  },
  {
   "cell_type": "code",
   "execution_count": 2,
   "id": "ccb68adb",
   "metadata": {},
   "outputs": [
    {
     "name": "stdout",
     "output_type": "stream",
     "text": [
      "enter your name mohith\n",
      "mohith is my name\n"
     ]
    }
   ],
   "source": [
    "name = input (\"enter your name \")\n",
    "print (name,\"is my name\")"
   ]
  },
  {
   "cell_type": "code",
   "execution_count": 5,
   "id": "302b4be5",
   "metadata": {},
   "outputs": [
    {
     "name": "stdout",
     "output_type": "stream",
     "text": [
      "enter your age 28\n"
     ]
    }
   ],
   "source": [
    "age = input (\"enter your age \")"
   ]
  },
  {
   "cell_type": "code",
   "execution_count": 6,
   "id": "ce66dc4a",
   "metadata": {},
   "outputs": [
    {
     "name": "stdout",
     "output_type": "stream",
     "text": [
      "enter your city bangalore\n"
     ]
    }
   ],
   "source": [
    "city = input (\"enter your city \")"
   ]
  },
  {
   "cell_type": "code",
   "execution_count": 7,
   "id": "263b3f42",
   "metadata": {},
   "outputs": [
    {
     "name": "stdout",
     "output_type": "stream",
     "text": [
      "My name is mohith my age is 28 and I am from bangalore\n"
     ]
    }
   ],
   "source": [
    "print (\"My name is\",name,\"my age is\", age,\"and I am from\", city)"
   ]
  },
  {
   "cell_type": "code",
   "execution_count": 8,
   "id": "6b3e1ff3",
   "metadata": {},
   "outputs": [
    {
     "name": "stdout",
     "output_type": "stream",
     "text": [
      "enter your name Mohith\n",
      "enter your age 28\n",
      "enter your city Bangalore\n",
      "My name is Mohith my age is 28 and I am from Bangalore\n"
     ]
    }
   ],
   "source": [
    "name = input (\"enter your name \")\n",
    "age = input (\"enter your age \")\n",
    "city = input (\"enter your city \")\n",
    "print (\"My name is\",name,\"and my age is\", age,\"and I am from\", city)"
   ]
  },
  {
   "cell_type": "markdown",
   "id": "bb786bc3",
   "metadata": {},
   "source": [
    "### we can ge the above input from the user to get the print statment"
   ]
  },
  {
   "cell_type": "code",
   "execution_count": 12,
   "id": "01b61ad9",
   "metadata": {},
   "outputs": [
    {
     "name": "stdout",
     "output_type": "stream",
     "text": [
      "266.6666666666667\n",
      "The average of three number is 266.6666666666667\n",
      "The average of 500 , 100 and 200 is 266.6666666666667\n"
     ]
    }
   ],
   "source": [
    "number1 = 500\n",
    "number2 = 100\n",
    "number3 = 200\n",
    "avg = (number1 + number2 + number3)/3\n",
    "print (avg)\n",
    "print (\"The average of three number is\", avg)\n",
    "print (\"The average of\", number1,\",\", number2, \"and\", number3,\"is\",avg)"
   ]
  },
  {
   "cell_type": "markdown",
   "id": "4335c974",
   "metadata": {},
   "source": [
    "### Input\n",
    "\n",
    "- inputs are always in the form of a string \n",
    "- we will need to convert it to int to do the math operations \n",
    "- we can use float also but if we need a whole number then we need to convert it back to int or a round off method"
   ]
  },
  {
   "cell_type": "code",
   "execution_count": 4,
   "id": "0e328671",
   "metadata": {},
   "outputs": [
    {
     "name": "stdout",
     "output_type": "stream",
     "text": [
      "enter the number 500\n",
      "enter the number 100\n",
      "enter the number 200\n",
      "The average of three number is 266.6666666666667\n",
      "The average of 500 , 100 and 200 is 266.6666666666667\n"
     ]
    }
   ],
   "source": [
    "number1 = int (input (\"enter the number \"))\n",
    "number2 = int (input (\"enter the number \"))\n",
    "number3 = int (input (\"enter the number \")) #number1 of the input is a string without adding int in the start\n",
    "avg = (number1 + number2 + number3)/3\n",
    "print (\"The average of three number is\", avg)\n",
    "print (\"The average of\", number1,\",\", number2, \"and\", number3,\"is\",avg)"
   ]
  },
  {
   "cell_type": "code",
   "execution_count": 5,
   "id": "a332fa33",
   "metadata": {},
   "outputs": [
    {
     "name": "stdout",
     "output_type": "stream",
     "text": [
      "the addition of 200,300 is: 500\n"
     ]
    }
   ],
   "source": [
    "num1 = 200\n",
    "num2 = 300\n",
    "add = num1 + num2\n",
    "print (f\"the addition of {num1},{num2} is: {add}\")"
   ]
  },
  {
   "cell_type": "code",
   "execution_count": 6,
   "id": "c0a823c9",
   "metadata": {},
   "outputs": [
    {
     "name": "stdout",
     "output_type": "stream",
     "text": [
      "enter the number 200\n",
      "enter the number 300\n",
      "the addition of 200,300 is: 500\n"
     ]
    }
   ],
   "source": [
    "num1 = int (input (\"enter the number \"))\n",
    "num2 = int (input (\"enter the number \"))\n",
    "add = num1 + num2\n",
    "print (f\"the addition of {num1},{num2} is: {add}\")"
   ]
  },
  {
   "cell_type": "markdown",
   "id": "17d1c399",
   "metadata": {},
   "source": [
    "### End statement "
   ]
  },
  {
   "cell_type": "code",
   "execution_count": 5,
   "id": "efaacbee",
   "metadata": {},
   "outputs": [
    {
     "name": "stdout",
     "output_type": "stream",
     "text": [
      "hellogood morning\n"
     ]
    }
   ],
   "source": [
    "print (\"hello\" ,end='')\n",
    "print (\"good morning\")"
   ]
  },
  {
   "cell_type": "markdown",
   "id": "52f04574",
   "metadata": {},
   "source": [
    "- if there are multiple print statments and we want the same in one single line "
   ]
  },
  {
   "cell_type": "code",
   "execution_count": 10,
   "id": "e288acdf",
   "metadata": {},
   "outputs": [
    {
     "name": "stdout",
     "output_type": "stream",
     "text": [
      "hello good morning I am comming to the class on time \n"
     ]
    }
   ],
   "source": [
    "print (\"hello\" ,end=' ')\n",
    "print (\"good morning\" ,end=' ')\n",
    "print (\"I am comming to the class on time \")"
   ]
  },
  {
   "cell_type": "markdown",
   "id": "abfec4f5",
   "metadata": {},
   "source": [
    "### Seperate statement"
   ]
  },
  {
   "cell_type": "markdown",
   "id": "5725e042",
   "metadata": {},
   "source": [
    "Inside 1 print statement only we can have multiple values and we can seperate the values with anything"
   ]
  },
  {
   "cell_type": "code",
   "execution_count": 4,
   "id": "88a1dfea",
   "metadata": {},
   "outputs": [
    {
     "name": "stdout",
     "output_type": "stream",
     "text": [
      "Hello ---> good morning\n"
     ]
    }
   ],
   "source": [
    "print (\"Hello\" , \"good morning\" ,sep=\" ---> \")"
   ]
  },
  {
   "cell_type": "markdown",
   "id": "a87bdf99",
   "metadata": {},
   "source": [
    "- print (\"hello\", \"good morning\",end='', sep = '')\n",
    "- print (\"I am comming to the class on time \")\n",
    "- we cannot have both end and seperate statement in one print statement"
   ]
  },
  {
   "cell_type": "code",
   "execution_count": null,
   "id": "4cd28c9c",
   "metadata": {},
   "outputs": [],
   "source": []
  }
 ],
 "metadata": {
  "kernelspec": {
   "display_name": "Python 3 (ipykernel)",
   "language": "python",
   "name": "python3"
  },
  "language_info": {
   "codemirror_mode": {
    "name": "ipython",
    "version": 3
   },
   "file_extension": ".py",
   "mimetype": "text/x-python",
   "name": "python",
   "nbconvert_exporter": "python",
   "pygments_lexer": "ipython3",
   "version": "3.11.7"
  }
 },
 "nbformat": 4,
 "nbformat_minor": 5
}

{
 "cells": [
  {
   "cell_type": "markdown",
   "id": "add33cb1",
   "metadata": {},
   "source": [
    "### For loop\n",
    "- reuse the code for multiple time, unless the given condition statisfy \n",
    "- for and while loops \n",
    "- any loop requires 3 things\n",
    "    - starting point \n",
    "    - what is the condition to stop \n",
    "    - increment or decrement \n",
    "- In for loop we will apply all the above in single line \n",
    "- in while loop we will apply all the above in 3 different line"
   ]
  },
  {
   "cell_type": "markdown",
   "id": "ee926689",
   "metadata": {},
   "source": [
    "#### For loop method - 1\n",
    "- syntax: \n",
    "    - for i in range (stop value):\n",
    "        - print (i)\n",
    "- eg:\n",
    "    - we need to print till 2 like 0 1 2\n",
    "    -  for i in range (3):\n",
    "        - print (i)\n",
    "- the default start point is 0 \n",
    "- default increment is 1 \n",
    "- last value = stop value - 1 "
   ]
  },
  {
   "cell_type": "code",
   "execution_count": 20,
   "id": "7169c9dc",
   "metadata": {},
   "outputs": [],
   "source": [
    "import time \n",
    "import math \n",
    "import random"
   ]
  },
  {
   "cell_type": "code",
   "execution_count": 10,
   "id": "bc6b1e73",
   "metadata": {},
   "outputs": [
    {
     "name": "stdout",
     "output_type": "stream",
     "text": [
      "0 1 2 3 "
     ]
    }
   ],
   "source": [
    "for i in range (4):\n",
    "    print (i,end = \" \")"
   ]
  },
  {
   "cell_type": "code",
   "execution_count": 11,
   "id": "c27fd5d4",
   "metadata": {},
   "outputs": [
    {
     "name": "stdout",
     "output_type": "stream",
     "text": [
      "hello hello hello "
     ]
    }
   ],
   "source": [
    "for i in range (3):\n",
    "    print (\"hello\",end = \" \")"
   ]
  },
  {
   "cell_type": "markdown",
   "id": "129a2d31",
   "metadata": {},
   "source": [
    "#### For loop method - 2\n",
    "- range (start,stop)\n",
    "    - start value = start \n",
    "    - default increment by 1\n",
    "    - last value = stop - 1\n",
    "- syntax:\n",
    "    - for i in range (start,stop):\n",
    "        - print (i)"
   ]
  },
  {
   "cell_type": "code",
   "execution_count": 17,
   "id": "01329bdd",
   "metadata": {},
   "outputs": [
    {
     "name": "stdout",
     "output_type": "stream",
     "text": [
      "8 9 "
     ]
    }
   ],
   "source": [
    "for i in range (8,10):\n",
    "    print (i,end = \" \")"
   ]
  },
  {
   "cell_type": "code",
   "execution_count": 19,
   "id": "7287f3d1",
   "metadata": {},
   "outputs": [
    {
     "name": "stdout",
     "output_type": "stream",
     "text": [
      "1\n",
      "4\n",
      "9\n",
      "16\n"
     ]
    }
   ],
   "source": [
    "# question ask the user to print the square of the number from 1 - 5 \n",
    "# num = eval (input(\"enter the number to find its square: \"))\n",
    "for i in range (1,5):\n",
    "    print ((i*i))"
   ]
  },
  {
   "cell_type": "code",
   "execution_count": 25,
   "id": "8b8fc444",
   "metadata": {},
   "outputs": [
    {
     "name": "stdout",
     "output_type": "stream",
     "text": [
      "The square of the two random numbers 22 is 484\n",
      "The square of the two random numbers 81 is 6561\n",
      "The square of the two random numbers 31 is 961\n",
      "The square of the two random numbers 45 is 2025\n",
      "The square of the two random numbers 89 is 7921\n"
     ]
    }
   ],
   "source": [
    "# WAP ask the user to take 5 random number and print the square of the random number \n",
    "for i in range (5):\n",
    "    num = random.randint(1,100)\n",
    "    sq = (num * num)\n",
    "    print (\"The square of the two random numbers\",num,\"is\",sq)"
   ]
  },
  {
   "cell_type": "code",
   "execution_count": 28,
   "id": "ed2e19a8",
   "metadata": {},
   "outputs": [
    {
     "name": "stdout",
     "output_type": "stream",
     "text": [
      "The square of the two random numbers 74 is 5476\n",
      "The square of the two random numbers 74 is 5476\n",
      "The square of the two random numbers 5 is 25\n",
      "The square of the two random numbers 92 is 8464\n",
      "The square of the two random numbers 51 is 2601\n"
     ]
    }
   ],
   "source": [
    "# WAP ask the user to take 5 random number and print the square of the random number by using function \n",
    "# call the function inside the for loop \n",
    "# method - 1 \n",
    "for i in range (5):\n",
    "    def square_1 ():\n",
    "        num = random.randint(1,100)\n",
    "        sq = (num * num)\n",
    "        print (\"The square of the two random numbers\",num,\"is\",sq)\n",
    "    square_1 ()"
   ]
  },
  {
   "cell_type": "code",
   "execution_count": 29,
   "id": "56c9d40b",
   "metadata": {},
   "outputs": [
    {
     "name": "stdout",
     "output_type": "stream",
     "text": [
      "The square of the two random numbers 56 is 3136\n",
      "The square of the two random numbers 77 is 5929\n",
      "The square of the two random numbers 8 is 64\n",
      "The square of the two random numbers 46 is 2116\n",
      "The square of the two random numbers 50 is 2500\n"
     ]
    }
   ],
   "source": [
    "def square_2 ():\n",
    "    num = random.randint(1,100)\n",
    "    sq = (num * num)\n",
    "    print (\"The square of the two random numbers\",num,\"is\",sq)\n",
    "    \n",
    "for i in range (5):\n",
    "    square_2 ()"
   ]
  },
  {
   "cell_type": "code",
   "execution_count": 31,
   "id": "f7b80da7",
   "metadata": {},
   "outputs": [
    {
     "name": "stdout",
     "output_type": "stream",
     "text": [
      "The square of the two random numbers 1 and 1 \n",
      "The square of the two random numbers 98 and 9604 \n",
      "The square of the two random numbers 67 and 4489 \n",
      "The square of the two random numbers 49 and 2401 \n",
      "The square of the two random numbers 7 and 49 \n"
     ]
    }
   ],
   "source": [
    "def square_3 ():\n",
    "    for i in range (5):\n",
    "        num = random.randint(1,100)\n",
    "        print (f\"The square of the two random numbers {num} and {num*num} \")\n",
    "square_3 ()"
   ]
  },
  {
   "cell_type": "code",
   "execution_count": 34,
   "id": "1e8082b0",
   "metadata": {},
   "outputs": [
    {
     "name": "stdout",
     "output_type": "stream",
     "text": [
      "the number is odd 11\n",
      "the number is even 12\n",
      "the number is odd 13\n",
      "the number is even 14\n",
      "the number is odd 15\n",
      "the number is even 16\n",
      "the number is odd 17\n",
      "the number is even 18\n",
      "the number is odd 19\n",
      "the number is even 20\n"
     ]
    }
   ],
   "source": [
    "#WAP ask the user to print even or odd values  between 11 to 21\n",
    "def even_or_odd ():\n",
    "    for i in range (11,21):\n",
    "        if (i % 2 == 0):\n",
    "            print (\"the number is even\",i)\n",
    "        else:\n",
    "            print (\"the number is odd\",i)\n",
    "even_or_odd ()"
   ]
  },
  {
   "cell_type": "code",
   "execution_count": 41,
   "id": "c61bea47",
   "metadata": {},
   "outputs": [
    {
     "name": "stdout",
     "output_type": "stream",
     "text": [
      "enter the number 1\n",
      "the number is odd 1\n",
      "enter the number 0\n",
      "the number is even 0\n",
      "enter the number 1221\n",
      "the number is odd 1221\n",
      "enter the number 12353823\n",
      "the number is odd 12353823\n",
      "enter the number 12342\n",
      "the number is even 12342\n"
     ]
    }
   ],
   "source": [
    "#WAP ask the user to enter a value 5 time to print that value if its even or odd\n",
    "def even_or_odd_fkb ():\n",
    "    for i in range (5):\n",
    "        num = eval(input(\"enter the number \"))\n",
    "        if (num % 2 == 0):\n",
    "            print (\"the number is even\",num)\n",
    "        else:\n",
    "            print (\"the number is odd\",num)\n",
    "even_or_odd_fkb ()"
   ]
  },
  {
   "cell_type": "markdown",
   "id": "f8fa4ec6",
   "metadata": {},
   "source": [
    "#### For loop method - 3\n",
    "- range (start,last,step)\n",
    "    - start value = start \n",
    "    - last value = stop - 1\n",
    "    - step increment value \n",
    "        - if increment value is positive \n",
    "        - its in postive direction or forward\n",
    "            - last value = stop - 1\n",
    "        - if increment value is negative then \n",
    "        - its in negative direction or backward\n",
    "            - last value = stop +1\n",
    "- syntax:\n",
    "    - for i in range (start,last,step):\n",
    "        - print (i)"
   ]
  },
  {
   "cell_type": "code",
   "execution_count": 47,
   "id": "97beeba5",
   "metadata": {},
   "outputs": [],
   "source": [
    "# case - 1\n",
    "for i in range (2,20,2):\n",
    "    print (i,end =\" \")"
   ]
  },
  {
   "cell_type": "markdown",
   "id": "22876c1f",
   "metadata": {},
   "source": [
    "- first write the start value \n",
    "- then look at the start value if its +ve to -ve direction\n",
    "- then conclude "
   ]
  },
  {
   "cell_type": "code",
   "execution_count": 52,
   "id": "3ecd8afa",
   "metadata": {},
   "outputs": [],
   "source": [
    "# case - 2\n",
    "for i in range (2,20,-2):\n",
    "    print (i,end =\" \")"
   ]
  },
  {
   "cell_type": "markdown",
   "id": "89e29137",
   "metadata": {},
   "source": [
    "- if we dont porvide the -ve with end value then there is no output\n",
    "- as we are travalling in the -ve direction then the range will be wrong hence there is no output\n",
    "- hence there is no error as the code is write"
   ]
  },
  {
   "cell_type": "code",
   "execution_count": 49,
   "id": "ba1ba44e",
   "metadata": {},
   "outputs": [
    {
     "name": "stdout",
     "output_type": "stream",
     "text": [
      "2 0 -2 -4 -6 -8 -10 -12 -14 -16 -18 "
     ]
    }
   ],
   "source": [
    "# case - 3\n",
    "for i in range (2,-20,-2):\n",
    "    print (i,end =\" \")"
   ]
  },
  {
   "cell_type": "code",
   "execution_count": 53,
   "id": "0d58dbe5",
   "metadata": {},
   "outputs": [
    {
     "name": "stdout",
     "output_type": "stream",
     "text": [
      "-2 -4 -6 -8 -10 -12 -14 -16 -18 "
     ]
    }
   ],
   "source": [
    "# case - 4\n",
    "for i in range (-2,-20,-2):\n",
    "    print (i,end =\" \")"
   ]
  },
  {
   "cell_type": "code",
   "execution_count": 54,
   "id": "962db61e",
   "metadata": {},
   "outputs": [],
   "source": [
    "# case - 5\n",
    "for i in range (-2,20,-2):\n",
    "    print (i,end =\" \")"
   ]
  },
  {
   "cell_type": "markdown",
   "id": "40f791e0",
   "metadata": {},
   "source": [
    "- if we dont porvide the +ve with end value then there is no output\n",
    "- in this case the start value and increments are both -ve \n",
    "- as we are travalling in the +ve direction then the range will be wrong hence there is no output\n",
    "- hence there is no error as the code is write"
   ]
  },
  {
   "cell_type": "code",
   "execution_count": 55,
   "id": "fd7b3303",
   "metadata": {},
   "outputs": [
    {
     "name": "stdout",
     "output_type": "stream",
     "text": [
      "-2 0 2 4 6 8 10 12 14 16 18 "
     ]
    }
   ],
   "source": [
    "# case - 6\n",
    "for i in range (-2,20,2):\n",
    "    print (i,end =\" \")"
   ]
  },
  {
   "cell_type": "code",
   "execution_count": 56,
   "id": "a1ab18d6",
   "metadata": {},
   "outputs": [],
   "source": [
    "# case - 7\n",
    "for i in range (-2,-20,2):\n",
    "    print (i,end =\" \")"
   ]
  },
  {
   "cell_type": "markdown",
   "id": "64e0ea42",
   "metadata": {},
   "source": []
  }
 ],
 "metadata": {
  "kernelspec": {
   "display_name": "Python 3 (ipykernel)",
   "language": "python",
   "name": "python3"
  },
  "language_info": {
   "codemirror_mode": {
    "name": "ipython",
    "version": 3
   },
   "file_extension": ".py",
   "mimetype": "text/x-python",
   "name": "python",
   "nbconvert_exporter": "python",
   "pygments_lexer": "ipython3",
   "version": "3.11.7"
  }
 },
 "nbformat": 4,
 "nbformat_minor": 5
}

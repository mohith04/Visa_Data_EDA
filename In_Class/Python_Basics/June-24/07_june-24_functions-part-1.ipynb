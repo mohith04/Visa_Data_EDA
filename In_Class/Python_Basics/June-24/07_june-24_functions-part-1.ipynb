{
 "cells": [
  {
   "cell_type": "markdown",
   "id": "6a211be0",
   "metadata": {},
   "source": [
    "#### Functions \n",
    "- Reuse of the code \n",
    "- Imagine you want to calculate tax of all tax payers \n",
    "- Let there be 100 tax payer \n",
    "- In order to calculate tax we need 5 lines of code \n",
    "- for 100 then it will be 500 \n",
    "- it will not be a fesiable approch \n",
    "- Using functions we can get the code to 5 lines for 500 people "
   ]
  },
  {
   "cell_type": "code",
   "execution_count": 1,
   "id": "0b899629",
   "metadata": {},
   "outputs": [
    {
     "name": "stdout",
     "output_type": "stream",
     "text": [
      "Enter the salary: 600000\n",
      "Enter the tax per: 10\n",
      "The tax to be paid to the goverment:  60000.0\n"
     ]
    }
   ],
   "source": [
    "salary = eval(input (\"Enter the salary: \"))\n",
    "tax_per = eval(input (\"Enter the tax per: \"))\n",
    "tax_amount = salary * (tax_per/100)\n",
    "print (\"The tax to be paid to the goverment: \",tax_amount)"
   ]
  },
  {
   "cell_type": "markdown",
   "id": "259e0d3c",
   "metadata": {},
   "source": [
    "#### functions\n",
    "- def function_name ():\n",
    "    - code starts "
   ]
  },
  {
   "cell_type": "code",
   "execution_count": 2,
   "id": "5769958b",
   "metadata": {},
   "outputs": [
    {
     "name": "stdout",
     "output_type": "stream",
     "text": [
      "30\n"
     ]
    }
   ],
   "source": [
    "n1 = 10\n",
    "n2 = 20\n",
    "add = n1 + n2\n",
    "print (add)"
   ]
  },
  {
   "cell_type": "code",
   "execution_count": 3,
   "id": "1dc58a85",
   "metadata": {},
   "outputs": [],
   "source": [
    "def addition ():\n",
    "    n1 = 10\n",
    "    n2 = 20\n",
    "    add = n1 + n2\n",
    "    print (add)"
   ]
  },
  {
   "cell_type": "code",
   "execution_count": 4,
   "id": "b237ebd0",
   "metadata": {},
   "outputs": [
    {
     "name": "stdout",
     "output_type": "stream",
     "text": [
      "30\n"
     ]
    }
   ],
   "source": [
    "addition ()"
   ]
  },
  {
   "cell_type": "markdown",
   "id": "6404b62e",
   "metadata": {},
   "source": [
    "#### Errors while working with functions\n",
    "- forgetting the brackets \n",
    "    - syntax error\n",
    "- : mistake\n",
    "    - syntax error\n",
    "- indetations mistakes \n",
    "    - indetation error\n",
    "- alingment mistake\n",
    "    - indetation error\n",
    "- While calling the function use the brackets ()\n",
    "- #### var name and function name should not be same \n",
    "    - this error will show up in future but it will work \n",
    "- #### Function is also called a method "
   ]
  },
  {
   "cell_type": "code",
   "execution_count": 7,
   "id": "053ba18a",
   "metadata": {},
   "outputs": [
    {
     "ename": "IndentationError",
     "evalue": "expected an indented block after function definition on line 2 (1357489127.py, line 3)",
     "output_type": "error",
     "traceback": [
      "\u001b[0;36m  Cell \u001b[0;32mIn[7], line 3\u001b[0;36m\u001b[0m\n\u001b[0;31m    n1 = 10\u001b[0m\n\u001b[0m    ^\u001b[0m\n\u001b[0;31mIndentationError\u001b[0m\u001b[0;31m:\u001b[0m expected an indented block after function definition on line 2\n"
     ]
    }
   ],
   "source": [
    "try: \n",
    "    def addition ():\n",
    "    n1 = 10\n",
    "    n2 = 20\n",
    "    add = n1 + n2\n",
    "    print (add)\n",
    "except Exception as e:\n",
    "    print (e)"
   ]
  },
  {
   "cell_type": "code",
   "execution_count": 8,
   "id": "ab54ad26",
   "metadata": {},
   "outputs": [
    {
     "ename": "SyntaxError",
     "evalue": "invalid syntax (3656407126.py, line 1)",
     "output_type": "error",
     "traceback": [
      "\u001b[0;36m  Cell \u001b[0;32mIn[8], line 1\u001b[0;36m\u001b[0m\n\u001b[0;31m    def addition (:\u001b[0m\n\u001b[0m                  ^\u001b[0m\n\u001b[0;31mSyntaxError\u001b[0m\u001b[0;31m:\u001b[0m invalid syntax\n"
     ]
    }
   ],
   "source": [
    "def addition (:\n",
    "    n1 = 10\n",
    "    n2 = 20\n",
    "    add = n1 + n2\n",
    "    print (add)"
   ]
  },
  {
   "cell_type": "code",
   "execution_count": 9,
   "id": "23cd2e1c",
   "metadata": {},
   "outputs": [
    {
     "ename": "SyntaxError",
     "evalue": "expected ':' (222509851.py, line 1)",
     "output_type": "error",
     "traceback": [
      "\u001b[0;36m  Cell \u001b[0;32mIn[9], line 1\u001b[0;36m\u001b[0m\n\u001b[0;31m    def addition ()\u001b[0m\n\u001b[0m                   ^\u001b[0m\n\u001b[0;31mSyntaxError\u001b[0m\u001b[0;31m:\u001b[0m expected ':'\n"
     ]
    }
   ],
   "source": [
    "def addition ()\n",
    "    n1 = 10\n",
    "    n2 = 20\n",
    "    add = n1 + n2\n",
    "    print (add)"
   ]
  },
  {
   "cell_type": "code",
   "execution_count": 12,
   "id": "1575aaf4",
   "metadata": {},
   "outputs": [],
   "source": [
    "def addition ():\n",
    "    n1 = 10\n",
    "    n2 = 20\n",
    "    addition = n1 + n2\n",
    "    print (addition)"
   ]
  },
  {
   "cell_type": "code",
   "execution_count": 13,
   "id": "7b35d48e",
   "metadata": {},
   "outputs": [
    {
     "name": "stdout",
     "output_type": "stream",
     "text": [
      "30\n"
     ]
    }
   ],
   "source": [
    "addition ()"
   ]
  },
  {
   "cell_type": "code",
   "execution_count": 16,
   "id": "df52f402",
   "metadata": {},
   "outputs": [],
   "source": [
    "def addition ():\n",
    "    n1 = eval(input (\"Enter the number 1: \"))\n",
    "    n2 = eval(input (\"Enter the number 2: \"))\n",
    "    add = n1111 + n2\n",
    "    print (add)"
   ]
  },
  {
   "cell_type": "code",
   "execution_count": 17,
   "id": "6e1b3e4e",
   "metadata": {},
   "outputs": [
    {
     "name": "stdout",
     "output_type": "stream",
     "text": [
      "Enter the number 1: 123\n",
      "Enter the number 2: 345\n"
     ]
    },
    {
     "ename": "NameError",
     "evalue": "name 'n1111' is not defined",
     "output_type": "error",
     "traceback": [
      "\u001b[0;31m---------------------------------------------------------------------------\u001b[0m",
      "\u001b[0;31mNameError\u001b[0m                                 Traceback (most recent call last)",
      "Cell \u001b[0;32mIn[17], line 1\u001b[0m\n\u001b[0;32m----> 1\u001b[0m addition()\n",
      "Cell \u001b[0;32mIn[16], line 4\u001b[0m, in \u001b[0;36maddition\u001b[0;34m()\u001b[0m\n\u001b[1;32m      2\u001b[0m n1 \u001b[38;5;241m=\u001b[39m \u001b[38;5;28meval\u001b[39m(\u001b[38;5;28minput\u001b[39m (\u001b[38;5;124m\"\u001b[39m\u001b[38;5;124mEnter the number 1: \u001b[39m\u001b[38;5;124m\"\u001b[39m))\n\u001b[1;32m      3\u001b[0m n2 \u001b[38;5;241m=\u001b[39m \u001b[38;5;28meval\u001b[39m(\u001b[38;5;28minput\u001b[39m (\u001b[38;5;124m\"\u001b[39m\u001b[38;5;124mEnter the number 2: \u001b[39m\u001b[38;5;124m\"\u001b[39m))\n\u001b[0;32m----> 4\u001b[0m add \u001b[38;5;241m=\u001b[39m n1111 \u001b[38;5;241m+\u001b[39m n2\n\u001b[1;32m      5\u001b[0m \u001b[38;5;28mprint\u001b[39m (add)\n",
      "\u001b[0;31mNameError\u001b[0m: name 'n1111' is not defined"
     ]
    }
   ],
   "source": [
    "addition()"
   ]
  },
  {
   "cell_type": "markdown",
   "id": "48301f9e",
   "metadata": {},
   "source": [
    "- Defining the functions will not give error \n",
    "- Errors show up during the callback "
   ]
  },
  {
   "cell_type": "markdown",
   "id": "c786603b",
   "metadata": {},
   "source": [
    "#### Questions \n",
    "1. create a function 3 numbers and find the avg of the number \n",
    "2. create a function ask the user to enter the bill\n",
    "    - enter the tip percentage \n",
    "    - calculate the total bill\n",
    "3. create a function ask the user to enter the radius \n",
    "    - calculate the area of the circle \n",
    "4. create a function ask the user to enter the breadth and hight of the triangle\n",
    "    - calculate the area of the triangle\n",
    "5. create a function ask the user to enter the number to find if the number is odd or even \n",
    "6. create a function ask the user to enter 3 number to find the greater of the 3 numbers "
   ]
  },
  {
   "cell_type": "code",
   "execution_count": 22,
   "id": "dcddc867",
   "metadata": {},
   "outputs": [],
   "source": [
    "import random\n",
    "import time \n",
    "import math"
   ]
  },
  {
   "cell_type": "code",
   "execution_count": 20,
   "id": "73faf979",
   "metadata": {},
   "outputs": [],
   "source": [
    "# Question 1\n",
    "def average():\n",
    "    num1 = random.randint(1,100)\n",
    "    print (\"the number 1 randomly generated is:\",num1)\n",
    "    num2 = random.randint(1,100)\n",
    "    print (\"the number 2 randomly generated is:\",num2)\n",
    "    num3 = random.randint(1,100)\n",
    "    print (\"the number 3 randomly generated is:\",num3)\n",
    "    avg = num1 + num2 + num3\n",
    "    print (\"The average of the 3 random numbers are\",avg)"
   ]
  },
  {
   "cell_type": "code",
   "execution_count": 21,
   "id": "bd527914",
   "metadata": {},
   "outputs": [],
   "source": [
    "# Question 2\n",
    "def hotel_bill ():\n",
    "    bill = random.randint(500,10000)\n",
    "    print (\"the bill randomly generated is:\",bill)\n",
    "    tip_per = random.randint(1,5)\n",
    "    print (\"the tip percentage randomly generated is:\",tip_per)\n",
    "    total_bill = bill + (tip_per / 100)\n",
    "    print (\"The total bill is \", total_bill)"
   ]
  },
  {
   "cell_type": "code",
   "execution_count": 23,
   "id": "15e60682",
   "metadata": {},
   "outputs": [],
   "source": [
    "# Question 3\n",
    "def area_circle ():\n",
    "    radius = random.randint(1,50)\n",
    "    pi = math.pi\n",
    "    area = pi * radius * radius\n",
    "    print (\"The area of the cirle is\",area)"
   ]
  },
  {
   "cell_type": "code",
   "execution_count": 24,
   "id": "739363d7",
   "metadata": {},
   "outputs": [],
   "source": [
    "# Question 4\n",
    "def area_triangle ():\n",
    "    length_triangle = random.randint(1,20)\n",
    "    breadth_triangle = random.randint(1,50)\n",
    "    area = (1 / 2) * (breadth_triangle * length_triangle)\n",
    "    print (\"The area of the triangle is\",area)"
   ]
  },
  {
   "cell_type": "code",
   "execution_count": 25,
   "id": "c085e13d",
   "metadata": {},
   "outputs": [],
   "source": [
    "# Question 5\n",
    "def odd_even ():\n",
    "    num = random.randint(1,1000)\n",
    "    if num % 2 == 0:\n",
    "        print (\"print the number is even\",num)\n",
    "    else:\n",
    "        print (\"print the number is odd\",num)"
   ]
  },
  {
   "cell_type": "code",
   "execution_count": 38,
   "id": "27501dde",
   "metadata": {},
   "outputs": [],
   "source": [
    "# Question 6\n",
    "def greater_numbers ():\n",
    "    num1 = random.randint(1,100)\n",
    "    print (\"the number 1 randomly generated is:\",num1)\n",
    "    num2 = random.randint(1,100)\n",
    "    print (\"the number 2 randomly generated is:\",num2)\n",
    "    num3 = random.randint(1,100)\n",
    "    print (\"the number 3 randomly generated is:\",num3)\n",
    "    if num1>num2 and num1>num3:\n",
    "        print (\"the number 1 is greater than the wrt other numbers:\",num1)\n",
    "    elif num2>num1 and num2>num3:\n",
    "        print (\"the number 2 is greater than the wrt other numbers:\",num2)\n",
    "    else:\n",
    "        print (\"the number 3 is greater than the wrt other numbers:\",num3)"
   ]
  },
  {
   "cell_type": "code",
   "execution_count": 27,
   "id": "0c23b250",
   "metadata": {},
   "outputs": [
    {
     "name": "stdout",
     "output_type": "stream",
     "text": [
      "The average of the 3 random numbers are 232\n"
     ]
    }
   ],
   "source": [
    "average()"
   ]
  },
  {
   "cell_type": "code",
   "execution_count": 28,
   "id": "c1662368",
   "metadata": {},
   "outputs": [
    {
     "name": "stdout",
     "output_type": "stream",
     "text": [
      "The total bill is  4566.02\n"
     ]
    }
   ],
   "source": [
    "hotel_bill()"
   ]
  },
  {
   "cell_type": "code",
   "execution_count": 29,
   "id": "0000b289",
   "metadata": {},
   "outputs": [
    {
     "name": "stdout",
     "output_type": "stream",
     "text": [
      "The area of the cirle is 5808.804816487527\n"
     ]
    }
   ],
   "source": [
    "area_circle ()"
   ]
  },
  {
   "cell_type": "code",
   "execution_count": 30,
   "id": "1e4b32c4",
   "metadata": {},
   "outputs": [
    {
     "name": "stdout",
     "output_type": "stream",
     "text": [
      "The area of the triangle is 160.0\n"
     ]
    }
   ],
   "source": [
    "area_triangle ()"
   ]
  },
  {
   "cell_type": "code",
   "execution_count": 31,
   "id": "e51974ac",
   "metadata": {},
   "outputs": [
    {
     "name": "stdout",
     "output_type": "stream",
     "text": [
      "print the number is odd 381\n"
     ]
    }
   ],
   "source": [
    "odd_even ()"
   ]
  },
  {
   "cell_type": "code",
   "execution_count": 37,
   "id": "44fa244a",
   "metadata": {},
   "outputs": [
    {
     "name": "stdout",
     "output_type": "stream",
     "text": [
      "the number 2 is greater than the wrt other numbers: 56\n"
     ]
    }
   ],
   "source": [
    "greater_numbers ()"
   ]
  },
  {
   "cell_type": "code",
   "execution_count": 33,
   "id": "1f47968b",
   "metadata": {},
   "outputs": [],
   "source": [
    "# Question 7\n",
    "# Find the number if its positive or negative or zero\n",
    "\n",
    "def pos_neg_zer ():\n",
    "    num = random.randint(-100,100)\n",
    "    if (num > 0):\n",
    "        print (\"The number is positive\",num)\n",
    "    elif (num == 0):\n",
    "        print (\"The number is zero\",num)\n",
    "    else:\n",
    "        print (\"the number is negative\",num)"
   ]
  },
  {
   "cell_type": "code",
   "execution_count": 34,
   "id": "981479b0",
   "metadata": {},
   "outputs": [
    {
     "name": "stdout",
     "output_type": "stream",
     "text": [
      "the number is negative -35\n"
     ]
    }
   ],
   "source": [
    "pos_neg_zer()"
   ]
  },
  {
   "cell_type": "markdown",
   "id": "956fb2b8",
   "metadata": {},
   "source": [
    "#### Method - 1\n",
    "##### Functions without arguments \n",
    "- when we define the functions we will provide the brackets\n",
    "    - eg: \n",
    "         -def addition ():\n",
    "         - n1 = eval(input (\"Enter the number 1: \"))\n",
    "         - n2 = eval(input (\"Enter the number 2: \"))\n",
    "         - add = n1 + n2\n",
    "         - print (add)\n",
    "- inside these brackets we can provide the values also\n",
    "- these values are know as arguments or parameters\n",
    "- if we dont provide the arguments its known as\n",
    "    ##### - Functions without arguments "
   ]
  },
  {
   "cell_type": "markdown",
   "id": "85c226c8",
   "metadata": {},
   "source": [
    "#### Method - 2\n",
    "##### Functions with arguments\n",
    "- how many variables are there in a given function:\n",
    "    - input variables : user will provide \n",
    "    - output variables : are the output to store the value of the code requirement \n",
    "- we need to only work on input variables only \n",
    "    - eg:\n",
    "           -def addition (n1,n2):\n",
    "        - add = n1 + n2\n",
    "        - print (add)\n",
    "        - addition (31,21)\n",
    "        - only then the output will come out "
   ]
  }
 ],
 "metadata": {
  "kernelspec": {
   "display_name": "Python 3 (ipykernel)",
   "language": "python",
   "name": "python3"
  },
  "language_info": {
   "codemirror_mode": {
    "name": "ipython",
    "version": 3
   },
   "file_extension": ".py",
   "mimetype": "text/x-python",
   "name": "python",
   "nbconvert_exporter": "python",
   "pygments_lexer": "ipython3",
   "version": "3.11.7"
  }
 },
 "nbformat": 4,
 "nbformat_minor": 5
}

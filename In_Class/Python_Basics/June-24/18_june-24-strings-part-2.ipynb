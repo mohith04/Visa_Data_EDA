{
 "cells": [
  {
   "cell_type": "markdown",
   "id": "1d5c16ab",
   "metadata": {},
   "source": [
    "#### Index\n",
    "- it will give the corresponding element of the number written\n",
    "- the indexing starts from 0\n",
    "- eg:\n",
    "    - str1 = \"Hello python\"\n",
    "    - str1 [0]\n",
    "        - output will be \"H\""
   ]
  },
  {
   "cell_type": "code",
   "execution_count": 23,
   "id": "d6694c2f",
   "metadata": {},
   "outputs": [],
   "source": [
    "import random\n",
    "import math \n",
    "import string\n",
    "import time"
   ]
  },
  {
   "cell_type": "code",
   "execution_count": 1,
   "id": "4ca4e024",
   "metadata": {},
   "outputs": [
    {
     "data": {
      "text/plain": [
       "'H'"
      ]
     },
     "execution_count": 1,
     "metadata": {},
     "output_type": "execute_result"
    }
   ],
   "source": [
    "str1 = \"Hello python\"\n",
    "str1 [0]"
   ]
  },
  {
   "cell_type": "code",
   "execution_count": 14,
   "id": "3722c176",
   "metadata": {},
   "outputs": [
    {
     "name": "stdout",
     "output_type": "stream",
     "text": [
      "W e l c o m e   t o   p y t h "
     ]
    }
   ],
   "source": [
    "def find_the_string ():\n",
    "    str1 = \"Welcome to python\"\n",
    "    for i in range (15):\n",
    "        string = str1[i]\n",
    "        print (string,end = \" \")\n",
    "        \n",
    "find_the_string ()"
   ]
  },
  {
   "cell_type": "code",
   "execution_count": 22,
   "id": "4070ef29",
   "metadata": {},
   "outputs": [
    {
     "name": "stdout",
     "output_type": "stream",
     "text": [
      "m e   t o   p y t h o "
     ]
    }
   ],
   "source": [
    "def find_the_nega_string ():\n",
    "    str1 = \"Welcome to python\"\n",
    "    for i in range (-12,-1):\n",
    "        string = str1[i]\n",
    "        print (string,end = \" \")\n",
    "        \n",
    "find_the_nega_string ()"
   ]
  },
  {
   "cell_type": "code",
   "execution_count": 54,
   "id": "efad46ad",
   "metadata": {},
   "outputs": [
    {
     "name": "stdout",
     "output_type": "stream",
     "text": [
      "35\n",
      "W e l c o m e   t o   p y t h o n   m y   n a m e   i s   m o h i t h "
     ]
    }
   ],
   "source": [
    "str1 = \"Welcome to python my name is mohith\"\n",
    "# string = string.ascii_letters\n",
    "# print (string)\n",
    "def find_the_len_string ():\n",
    "    count = 0\n",
    "    for char in str1:\n",
    "        if char in str1:\n",
    "            count = count + 1\n",
    "    print (count)\n",
    "    for i in range (count):\n",
    "        string = str1[i]\n",
    "        print (string,end = \" \")\n",
    "        \n",
    "find_the_len_string ()"
   ]
  },
  {
   "cell_type": "code",
   "execution_count": 64,
   "id": "be90bbce",
   "metadata": {},
   "outputs": [
    {
     "name": "stdout",
     "output_type": "stream",
     "text": [
      "17\n",
      "The positive index of  W is 0\n",
      "The positive index of  e is 1\n",
      "The positive index of  l is 2\n",
      "The positive index of  c is 3\n",
      "The positive index of  o is 4\n",
      "The positive index of  m is 5\n",
      "The positive index of  e is 6\n",
      "The positive index of    is 7\n",
      "The positive index of  t is 8\n",
      "The positive index of  o is 9\n",
      "The positive index of    is 10\n",
      "The positive index of  p is 11\n",
      "The positive index of  y is 12\n",
      "The positive index of  t is 13\n",
      "The positive index of  h is 14\n",
      "The positive index of  o is 15\n",
      "The positive index of  n is 16\n"
     ]
    }
   ],
   "source": [
    "#WAP to print the each letter index postive\n",
    "#print the index of element is 0\n",
    "\n",
    "def find_the_pos_string ():\n",
    "    str1 = \"Welcome to python\"\n",
    "    print (len(str1))\n",
    "    for i in range (len(str1)):\n",
    "        str1[i]\n",
    "        print (\"The positive index of \",str1[i],\"is\",i)\n",
    "        \n",
    "find_the_pos_string ()"
   ]
  },
  {
   "cell_type": "code",
   "execution_count": 62,
   "id": "449c7f27",
   "metadata": {},
   "outputs": [
    {
     "name": "stdout",
     "output_type": "stream",
     "text": [
      "The negative index of  W is -17\n",
      "The negative index of  e is -16\n",
      "The negative index of  l is -15\n",
      "The negative index of  c is -14\n",
      "The negative index of  o is -13\n",
      "The negative index of  m is -12\n",
      "The negative index of  e is -11\n",
      "The negative index of    is -10\n",
      "The negative index of  t is -9\n",
      "The negative index of  o is -8\n",
      "The negative index of    is -7\n",
      "The negative index of  p is -6\n",
      "The negative index of  y is -5\n",
      "The negative index of  t is -4\n",
      "The negative index of  h is -3\n",
      "The negative index of  o is -2\n",
      "The negative index of  n is -1\n"
     ]
    }
   ],
   "source": [
    "#WAP to print the each letter index negative\n",
    "#print the index of element is 0\n",
    "def find_the_negative_string ():\n",
    "    str1 = \"Welcome to python\"\n",
    "    for i in range (-len(str1),0):\n",
    "        string = str1[i]\n",
    "        print (\"The negative index of \",str1[i],\"is\",i)\n",
    "        \n",
    "find_the_negative_string ()"
   ]
  },
  {
   "cell_type": "code",
   "execution_count": 66,
   "id": "394c4623",
   "metadata": {},
   "outputs": [
    {
     "name": "stdout",
     "output_type": "stream",
     "text": [
      "The positive index of W is 0 and the negative is -17\n",
      "The positive index of e is 1 and the negative is -16\n",
      "The positive index of l is 2 and the negative is -15\n",
      "The positive index of c is 3 and the negative is -14\n",
      "The positive index of o is 4 and the negative is -13\n",
      "The positive index of m is 5 and the negative is -12\n",
      "The positive index of e is 6 and the negative is -11\n",
      "The positive index of   is 7 and the negative is -10\n",
      "The positive index of t is 8 and the negative is -9\n",
      "The positive index of o is 9 and the negative is -8\n",
      "The positive index of   is 10 and the negative is -7\n",
      "The positive index of p is 11 and the negative is -6\n",
      "The positive index of y is 12 and the negative is -5\n",
      "The positive index of t is 13 and the negative is -4\n",
      "The positive index of h is 14 and the negative is -3\n",
      "The positive index of o is 15 and the negative is -2\n",
      "The positive index of n is 16 and the negative is -1\n"
     ]
    }
   ],
   "source": [
    "#WAP to print the each letter index both postive and negative using one for loop \n",
    "#print the index of element is 0\n",
    "def find_the_both_string ():\n",
    "    str1 = \"Welcome to python\"\n",
    "    for i in range (len(str1)):\n",
    "        string = str1[i]\n",
    "        print (f\"The positive index of {str1[i]} is {i} and the negative is {i-len(str1)}\")\n",
    "        \n",
    "find_the_both_string ()"
   ]
  },
  {
   "cell_type": "markdown",
   "id": "e04e565d",
   "metadata": {},
   "source": [
    "- When to use in and when to use range operation in for loop \n",
    "#### eg :"
   ]
  },
  {
   "cell_type": "code",
   "execution_count": 67,
   "id": "91d4e98f",
   "metadata": {},
   "outputs": [
    {
     "name": "stdout",
     "output_type": "stream",
     "text": [
      "a\n",
      "v\n",
      "a\n",
      "i\n",
      "l\n",
      "a\n",
      "b\n",
      "l\n",
      "e\n"
     ]
    }
   ],
   "source": [
    "str1 = \"available\"\n",
    "for i in str1:\n",
    "    print (i)"
   ]
  },
  {
   "cell_type": "code",
   "execution_count": 75,
   "id": "ba845a06",
   "metadata": {},
   "outputs": [
    {
     "name": "stdout",
     "output_type": "stream",
     "text": [
      "Enter any sentence: available\n",
      "the length of the string is  9\n",
      "The 1 occurences of a index in the string is 0\n",
      "The 2 occurences of a index in the string is 2\n",
      "The 3 occurences of a index in the string is 5\n"
     ]
    }
   ],
   "source": [
    "#WAP ask the user to get the index of occurences of \"a\" in a given string \n",
    "def find_a_in_string():\n",
    "    str1 = input (\"Enter any sentence: \")\n",
    "    count = 0\n",
    "    print (\"the length of the string is \",len(str1))\n",
    "    for i in range (len(str1)) :\n",
    "        if str1[i] == 'a':\n",
    "            count += 1\n",
    "            print (\"The\",count ,\"occurences of a index in the string is\",i) \n",
    "find_a_in_string()"
   ]
  },
  {
   "cell_type": "code",
   "execution_count": 77,
   "id": "ed597a3b",
   "metadata": {
    "scrolled": true
   },
   "outputs": [
    {
     "name": "stdout",
     "output_type": "stream",
     "text": [
      "The 3 occurences of a index in the string is 8\n",
      "The sum of all the occurences of a is  7\n"
     ]
    }
   ],
   "source": [
    "#Get the sum of all the index of all the occurence \n",
    "def get_sum_of_occurence ():\n",
    "    count = 0 \n",
    "    sume = 0\n",
    "    str1 = \"available\"\n",
    "    for i in range (len(str1)):\n",
    "        if str1[i] == \"a\":\n",
    "            count = count + 1\n",
    "            sume = sume + i \n",
    "    print (\"The\",count ,\"occurences of a index in the string is\",i) \n",
    "    print (\"The sum of all indies of the occurences of a is \", sume)\n",
    "get_sum_of_occurence ()"
   ]
  },
  {
   "cell_type": "code",
   "execution_count": 88,
   "id": "a3996c8b",
   "metadata": {},
   "outputs": [
    {
     "name": "stdout",
     "output_type": "stream",
     "text": [
      "Theof occurence of a is 1\n",
      "Theof occurence of a is 4\n",
      "The number of vowels in the string are  7\n"
     ]
    }
   ],
   "source": [
    "# find all the vowels in the string \n",
    "# str1 = hai how are you \n",
    "# find the count of vowels \n",
    "\n",
    "def vowels_in_string():\n",
    "    count = 0\n",
    "    sume = 0\n",
    "    str1 = \"hai how are you\"\n",
    "    for i in range (len(str1)):\n",
    "        if str1[i] == \"a\":\n",
    "            count = count + 1\n",
    "            sume = sume + 1\n",
    "            print (\"Theof occurence of a is\",count)\n",
    "        elif str1[i] == \"e\":\n",
    "            count = count + 1\n",
    "            sume = sume + 1\n",
    "        elif str1[i] == \"i\":\n",
    "            count = count + 1\n",
    "            sume = sume + 1\n",
    "        elif str1[i] == \"o\":\n",
    "            count = count + 1\n",
    "            sume = sume + 1\n",
    "        elif str1[i] == \"u\":\n",
    "            count = count + 1\n",
    "            sume = sume + 1\n",
    "    print (\"The number of vowels in the string are \",count)\n",
    "vowels_in_string()"
   ]
  },
  {
   "cell_type": "code",
   "execution_count": 89,
   "id": "81266494",
   "metadata": {
    "scrolled": true
   },
   "outputs": [
    {
     "name": "stdout",
     "output_type": "stream",
     "text": [
      "Theof occurence of a is 1\n",
      "Theof occurence of a is 4\n",
      "The number of vowels in the string are  7\n",
      "7\n"
     ]
    }
   ],
   "source": [
    "# find all the vowels in the string \n",
    "# str1 = hai how are you \n",
    "# find the indies of vowels \n",
    "# find the count of vowels \n",
    "# find the sum of indies of vowels \n",
    "\n",
    "def vowels_in_string_sum():\n",
    "    count = 0\n",
    "    sume = 0\n",
    "    str1 = \"hai how are you\"\n",
    "    for i in range (len(str1)):\n",
    "        if str1[i] == \"a\":\n",
    "            count = count + 1\n",
    "            sume = sume + 1\n",
    "            print (\"Theof occurence of a is\",count)\n",
    "        elif str1[i] == \"e\":\n",
    "            count = count + 1\n",
    "            sume = sume + 1\n",
    "        elif str1[i] == \"i\":\n",
    "            count = count + 1\n",
    "            sume = sume + 1\n",
    "        elif str1[i] == \"o\":\n",
    "            count = count + 1\n",
    "            sume = sume + 1\n",
    "        elif str1[i] == \"u\":\n",
    "            count = count + 1\n",
    "            sume = sume + 1\n",
    "    print (\"The number of vowels in the string are \",count)\n",
    "    \n",
    "vowels_in_string_sum()"
   ]
  },
  {
   "cell_type": "code",
   "execution_count": 4,
   "id": "f7f9f0e6",
   "metadata": {},
   "outputs": [],
   "source": [
    "import string"
   ]
  },
  {
   "cell_type": "code",
   "execution_count": 6,
   "id": "f8f4785b-1e11-4e24-bf11-2ca0263078c6",
   "metadata": {},
   "outputs": [
    {
     "data": {
      "text/plain": [
       "['Formatter',\n",
       " 'Template',\n",
       " '_ChainMap',\n",
       " '__all__',\n",
       " '__builtins__',\n",
       " '__cached__',\n",
       " '__doc__',\n",
       " '__file__',\n",
       " '__loader__',\n",
       " '__name__',\n",
       " '__package__',\n",
       " '__spec__',\n",
       " '_re',\n",
       " '_sentinel_dict',\n",
       " '_string',\n",
       " 'ascii_letters',\n",
       " 'ascii_lowercase',\n",
       " 'ascii_uppercase',\n",
       " 'capwords',\n",
       " 'digits',\n",
       " 'hexdigits',\n",
       " 'octdigits',\n",
       " 'printable',\n",
       " 'punctuation',\n",
       " 'whitespace']"
      ]
     },
     "execution_count": 6,
     "metadata": {},
     "output_type": "execute_result"
    }
   ],
   "source": [
    "dir (string)"
   ]
  },
  {
   "cell_type": "code",
   "execution_count": null,
   "id": "5cff2aa0-2820-4f88-8104-59d38fc8a3f6",
   "metadata": {},
   "outputs": [],
   "source": []
  }
 ],
 "metadata": {
  "kernelspec": {
   "display_name": "Python 3 (ipykernel)",
   "language": "python",
   "name": "python3"
  },
  "language_info": {
   "codemirror_mode": {
    "name": "ipython",
    "version": 3
   },
   "file_extension": ".py",
   "mimetype": "text/x-python",
   "name": "python",
   "nbconvert_exporter": "python",
   "pygments_lexer": "ipython3",
   "version": "3.11.7"
  }
 },
 "nbformat": 4,
 "nbformat_minor": 5
}

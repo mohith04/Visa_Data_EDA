{
 "cells": [
  {
   "cell_type": "markdown",
   "id": "0ecbf938",
   "metadata": {},
   "source": [
    "- Calculate the the area for the circle \n",
    "- take the input from the user \n",
    "- take the pi value from math pkg\n"
   ]
  },
  {
   "cell_type": "code",
   "execution_count": 10,
   "id": "a6286e66",
   "metadata": {},
   "outputs": [],
   "source": [
    "import math\n",
    "import random"
   ]
  },
  {
   "cell_type": "code",
   "execution_count": 7,
   "id": "3247d71a",
   "metadata": {},
   "outputs": [
    {
     "name": "stdout",
     "output_type": "stream",
     "text": [
      "enter the radius 5\n",
      "The area of the Circle is  78.54\n"
     ]
    }
   ],
   "source": [
    "pi = math.pi\n",
    "radius = eval(input(\"enter the radius \"))\n",
    "area = round (pi * radius * radius,2)\n",
    "print (\"The area of the Circle is \",area)"
   ]
  },
  {
   "cell_type": "code",
   "execution_count": 9,
   "id": "2958df79",
   "metadata": {},
   "outputs": [
    {
     "name": "stdout",
     "output_type": "stream",
     "text": [
      "enter the height 12\n",
      "enter the breadth 15\n",
      "90.0\n"
     ]
    }
   ],
   "source": [
    "height = eval(input(\"enter the height \"))\n",
    "breadth = eval(input(\"enter the breadth \"))\n",
    "area_triangle = round ((0.5 * breadth * height),2)\n",
    "print (area_triangle)"
   ]
  },
  {
   "cell_type": "code",
   "execution_count": 14,
   "id": "3c0b7f81",
   "metadata": {},
   "outputs": [
    {
     "name": "stdout",
     "output_type": "stream",
     "text": [
      "The random height genrated is  46 the random breadth genrated is  73\n",
      "1679.0\n"
     ]
    }
   ],
   "source": [
    "height = random.randint(10,100)\n",
    "breadth = random.randint(10,100)\n",
    "area_triangle = round ((0.5 * breadth * height),2)\n",
    "print (\"The random height genrated is \",height ,\"the random breadth genrated is \",breadth)\n",
    "print (area_triangle)"
   ]
  },
  {
   "cell_type": "code",
   "execution_count": 15,
   "id": "2425c31e",
   "metadata": {},
   "outputs": [
    {
     "name": "stdout",
     "output_type": "stream",
     "text": [
      "enter the starting range 10\n",
      "enter the ending range 100\n",
      "The random height genrated is  98 the random breadth genrated is  10\n",
      "490.0\n"
     ]
    }
   ],
   "source": [
    "start = eval(input(\"enter the starting range \"))\n",
    "end = eval(input(\"enter the ending range \"))\n",
    "height = random.randint(start,end)\n",
    "breadth = random.randint(start,end)\n",
    "area_triangle = round ((0.5 * breadth * height),2)\n",
    "print (\"The random height genrated is \",height ,\"the random breadth genrated is \",breadth)\n",
    "print (area_triangle)"
   ]
  },
  {
   "cell_type": "markdown",
   "id": "16bcd982",
   "metadata": {},
   "source": [
    "** Print the area of the rectangle in 3 methods **\n"
   ]
  },
  {
   "cell_type": "code",
   "execution_count": 29,
   "id": "812772a9",
   "metadata": {},
   "outputs": [
    {
     "name": "stdout",
     "output_type": "stream",
     "text": [
      "The random length genrated is  10 the random breadth genrated is  20\n",
      "120\n"
     ]
    }
   ],
   "source": [
    "length = 10\n",
    "breadth = 20\n",
    "area_rect = round ((4*(length + breadth)),2)\n",
    "print (\"The length is \",length ,\"the breadth is \",breadth)\n",
    "print (area_rect)"
   ]
  },
  {
   "cell_type": "code",
   "execution_count": 31,
   "id": "4d329574",
   "metadata": {},
   "outputs": [
    {
     "name": "stdout",
     "output_type": "stream",
     "text": [
      "enter the length 10\n",
      "enter the breadth 20\n",
      "The length is  10 the breadth is  20\n",
      "120\n"
     ]
    }
   ],
   "source": [
    "length = eval(input(\"enter the length \"))\n",
    "breadth = eval(input(\"enter the breadth \"))\n",
    "area_rect = round ((4*(length + breadth)),2)\n",
    "print (\"The length is \",length ,\"the breadth is \",breadth)\n",
    "print (area_rect)"
   ]
  },
  {
   "cell_type": "code",
   "execution_count": 24,
   "id": "82cdfb88",
   "metadata": {},
   "outputs": [
    {
     "name": "stdout",
     "output_type": "stream",
     "text": [
      "The random length genrated is  92 the random breadth genrated is  20\n",
      "440\n"
     ]
    }
   ],
   "source": [
    "length = random.randint(10,100)\n",
    "breadth = random.randint(10,100)\n",
    "area_rect = round ((4*(length + breadth)),2)\n",
    "print (\"The random length genrated is \",length ,\"the random breadth genrated is \",breadth)\n",
    "print (area_rect)"
   ]
  },
  {
   "cell_type": "markdown",
   "id": "9b9543cb",
   "metadata": {},
   "source": [
    "### find the volume of the cylinder\n",
    "- formula is pi*r*r*h"
   ]
  },
  {
   "cell_type": "code",
   "execution_count": 18,
   "id": "aea9f70b",
   "metadata": {},
   "outputs": [
    {
     "name": "stdout",
     "output_type": "stream",
     "text": [
      "enter the height 10\n",
      "enter the radius 10\n",
      "3141.593\n"
     ]
    }
   ],
   "source": [
    "height = eval(input(\"enter the height \"))\n",
    "radius = eval(input(\"enter the radius \"))\n",
    "pi = math.pi\n",
    "volume_cylinder = round ((pi * radius * radius * height),3)\n",
    "print (volume_cylinder)\n",
    "#taking values from the user "
   ]
  },
  {
   "cell_type": "code",
   "execution_count": 19,
   "id": "681d6816",
   "metadata": {},
   "outputs": [
    {
     "name": "stdout",
     "output_type": "stream",
     "text": [
      "3141.593\n"
     ]
    }
   ],
   "source": [
    "height = 10\n",
    "radius = 10\n",
    "pi = math.pi\n",
    "volume_cylinder = round ((pi * radius * radius * height),3)\n",
    "print (volume_cylinder)\n",
    "#Hard coding the values"
   ]
  },
  {
   "cell_type": "code",
   "execution_count": 32,
   "id": "58237e03",
   "metadata": {},
   "outputs": [
    {
     "name": "stdout",
     "output_type": "stream",
     "text": [
      "50.265\n"
     ]
    }
   ],
   "source": [
    "height = random.randint(1,10)\n",
    "radius = random.randint(1,10)\n",
    "pi = math.pi\n",
    "volume_cylinder = round ((pi * radius * radius * height),3)\n",
    "print (volume_cylinder)\n",
    "#Hard coding the values"
   ]
  },
  {
   "cell_type": "markdown",
   "id": "e51e682b",
   "metadata": {},
   "source": [
    "### Story mode \n",
    "- By using inputs \n",
    "- story between mother, daughter and conductor\n",
    "Daugther: Hey Mom!\n",
    "Mom: Hello beta\n",
    "Daugther: Mom do you know TS govt has implemented free bus ride\n",
    "Mom: Oh! wow super!!!\n",
    "Daugther: Lets go to granny's home \n",
    "Conductor: Where do you want to go \n",
    "Conductor: Show me ID card \n",
    "Mom: We don't have any ID card\n",
    "Conductor: Then you need to pay the money \n",
    "Mom:How much per kilometer\n",
    "Conductor: 5\n",
    "Mom:How many kilometer\n",
    "Conductor: 100\n",
    "Mom: How much money is required \n",
    "Conductor:  500\n",
    "Daugther: I have ID card\n",
    "Conductor: Enjoy the free ride"
   ]
  },
  {
   "cell_type": "code",
   "execution_count": 1,
   "id": "e2dd4b25",
   "metadata": {},
   "outputs": [
    {
     "name": "stdout",
     "output_type": "stream",
     "text": [
      "Daugther: Hey Mom!\n",
      "Mom: Hello beta\n",
      "Daugther: Mom do you know TS govt has implemented free bus ride\n",
      "Mom: Oh! wow super!!!\n",
      "Daugther: Lets go to granny's home \n",
      "Conductor: Where do you want to go \n",
      "Conductor: Show me ID card \n",
      "Mom: We don't have any ID card\n",
      "Conductor: Then you need to pay the money \n",
      "Mom:How much per kilometer\n",
      "Conductor: 5\n",
      "Mom:How many kilometer\n",
      "Conductor: 100\n",
      "Mom: How much money is required \n",
      "Conductor:  500\n",
      "Daugther: I have ID card\n",
      "Conductor: Enjoy the free ride\n"
     ]
    },
    {
     "data": {
      "text/plain": [
       "'Enjoy the free ride'"
      ]
     },
     "execution_count": 1,
     "metadata": {},
     "output_type": "execute_result"
    }
   ],
   "source": [
    "input (\"Daugther: \")\n",
    "input (\"Mom: \")\n",
    "input (\"Daugther: \")\n",
    "input (\"Mom: \")\n",
    "input (\"Daugther: \")\n",
    "input (\"Conductor: \")\n",
    "input (\"Conductor: \")\n",
    "input (\"Mom: \")\n",
    "input (\"Conductor: \")\n",
    "input (\"Mom:\")\n",
    "price = int (input (\"Conductor: \"))\n",
    "input (\"Mom:\")\n",
    "Km = int (input (\"Conductor: \"))\n",
    "input (\"Mom: \")\n",
    "total_price = price * Km\n",
    "print (\"Conductor: \",total_price)\n",
    "input (\"Daugther: \")\n",
    "input (\"Conductor: \")"
   ]
  },
  {
   "cell_type": "code",
   "execution_count": null,
   "id": "9f4d08c4",
   "metadata": {},
   "outputs": [],
   "source": [
    "Daugther:Hey Mom!\n",
    "Mom:Hello beta\n",
    "Daugther:Mom do you know TS govt has implemented free bus ride\n",
    "Mom:Oh! wow super!!!\n",
    "Daugther:Lets go to granny's home \n",
    "Conductor:Where do you want to go \n",
    "Conductor:Show me ID card \n",
    "Mom:We don't have any ID card\n",
    "Conductor:Then you need to pay the money \n",
    "Mom:How much per kilometer\n",
    "Conductor:5 Rupees\n",
    "Mom:How many kilometer\n",
    "Conductor:100km\n",
    "Mom:How much money is required \n",
    "Conductor:5 * 100 = 500\n",
    "Daugther:I have ID card\n",
    "Conductor:Enjoy the free ride\n"
   ]
  }
 ],
 "metadata": {
  "kernelspec": {
   "display_name": "Python 3 (ipykernel)",
   "language": "python",
   "name": "python3"
  },
  "language_info": {
   "codemirror_mode": {
    "name": "ipython",
    "version": 3
   },
   "file_extension": ".py",
   "mimetype": "text/x-python",
   "name": "python",
   "nbconvert_exporter": "python",
   "pygments_lexer": "ipython3",
   "version": "3.11.7"
  }
 },
 "nbformat": 4,
 "nbformat_minor": 5
}

{
 "cells": [
  {
   "cell_type": "markdown",
   "id": "d771c1b6",
   "metadata": {},
   "source": [
    "#### Method - 2\n",
    "##### Functions with arguments\n",
    "- how many variables are there in a given function:\n",
    "    - input variables : user will provide \n",
    "    - output variables : are the output to store the value of the code requirement \n",
    "- we need to only work on input variables only \n",
    "    - eg:\n",
    "           -def addition (n1,n2):\n",
    "        - add = n1 + n2\n",
    "        - print (add)\n",
    "        - addition (31,21)\n",
    "        - only then the output will come out \n",
    "- we can right the program in 3 using functions\n",
    "    - hard coded \n",
    "        -  which means that the variables are already pre assigned\n",
    "    - eval (input())\n",
    "        - which means we take the input from the key board\n",
    "    - random\n",
    "        - get random variables using the random method "
   ]
  },
  {
   "cell_type": "code",
   "execution_count": 2,
   "id": "1cd70189",
   "metadata": {},
   "outputs": [],
   "source": [
    "import math\n",
    "import random\n",
    "import time"
   ]
  },
  {
   "cell_type": "code",
   "execution_count": 3,
   "id": "7758cf2c",
   "metadata": {},
   "outputs": [
    {
     "name": "stdout",
     "output_type": "stream",
     "text": [
      "the number 3 randomly generated is: 300\n",
      "The average of the 3 random numbers are 330\n",
      "enter the value123\n",
      "the number 1 randomly generated is: 123\n",
      "the number 2 randomly generated is: 19\n",
      "the number 3 randomly generated is: 47\n",
      "The average of the 3 random numbers are 189\n",
      "the number 1 randomly generated is: 39\n",
      "the number 2 randomly generated is: 74\n",
      "the number 3 randomly generated is: 79\n",
      "The average of the 3 random numbers are 192\n",
      "the number 1 randomly generated is: 85\n",
      "the number 2 randomly generated is: 87\n",
      "the number 3 randomly generated is: 50\n",
      "The average of the 3 random numbers are 222\n"
     ]
    }
   ],
   "source": [
    "# Question 1\n",
    "\n",
    "# hard coded\n",
    "def average(num1,num2,num3):\n",
    "    print (\"the number 3 randomly generated is:\",num3)\n",
    "    avg = num1 + num2 + num3\n",
    "    print (\"The average of the 3 random numbers are\",avg)\n",
    "average (10,20,300)\n",
    "\n",
    "#eval \n",
    "\n",
    "def average(num1):\n",
    "    print (\"the number 1 randomly generated is:\",num1)\n",
    "    num2 = random.randint(1,100)\n",
    "    print (\"the number 2 randomly generated is:\",num2)\n",
    "    num3 = random.randint(1,100)\n",
    "    print (\"the number 3 randomly generated is:\",num3)\n",
    "    avg = num1 + num2 + num3\n",
    "    print (\"The average of the 3 random numbers are\",avg)\n",
    "average (eval(input(\"enter the value\")))\n",
    "\n",
    "#random\n",
    "def average(num1):\n",
    "    print (\"the number 1 randomly generated is:\",num1)\n",
    "    num2 = random.randint(1,100)\n",
    "    print (\"the number 2 randomly generated is:\",num2)\n",
    "    num3 = random.randint(1,100)\n",
    "    print (\"the number 3 randomly generated is:\",num3)\n",
    "    avg = num1 + num2 + num3\n",
    "    print (\"The average of the 3 random numbers are\",avg)\n",
    "average(random.randint(1,100))\n",
    "\n",
    "# all random\n",
    "\n",
    "def average():\n",
    "    num1 = random.randint(1,100)\n",
    "    print (\"the number 1 randomly generated is:\",num1)\n",
    "    num2 = random.randint(1,100)\n",
    "    print (\"the number 2 randomly generated is:\",num2)\n",
    "    num3 = random.randint(1,100)\n",
    "    print (\"the number 3 randomly generated is:\",num3)\n",
    "    avg = num1 + num2 + num3\n",
    "    print (\"The average of the 3 random numbers are\",avg)\n",
    "average()"
   ]
  },
  {
   "cell_type": "code",
   "execution_count": 5,
   "id": "cdc9aa39",
   "metadata": {},
   "outputs": [
    {
     "name": "stdout",
     "output_type": "stream",
     "text": [
      "the bill generated is: 9987\n",
      "the tip percentage randomly generated is: 5\n",
      "The total bill is  9987.05\n",
      "enter the bill amount9986\n",
      "enter the tip percentage4\n",
      "the bill entered is: 9986\n",
      "the tip percentage randomly generated is: 4\n",
      "The total bill is  9986.04\n",
      "the bill randomly generated is: 2516\n",
      "the tip percentage randomly generated is: 3\n",
      "The total bill is  2516.03\n",
      "the bill randomly generated is: 6915\n",
      "the tip percentage randomly generated is: 9\n",
      "The total bill is  6915.09\n"
     ]
    }
   ],
   "source": [
    "# Question 2\n",
    "\n",
    "# hard coded\n",
    "def hotel_bill (bill):\n",
    "    print (\"the bill generated is:\",bill)\n",
    "    tip_per = random.randint(1,5)\n",
    "    print (\"the tip percentage randomly generated is:\",tip_per)\n",
    "    total_bill = bill + (tip_per / 100)\n",
    "    print (\"The total bill is \", total_bill)\n",
    "hotel_bill (9987)\n",
    "\n",
    "#eval\n",
    "def hotel_bill (bill,tip_per):\n",
    "    print (\"the bill entered is:\",bill)\n",
    "    print (\"the tip percentage randomly generated is:\",tip_per)\n",
    "    total_bill = bill + (tip_per / 100)\n",
    "    print (\"The total bill is \", total_bill)\n",
    "hotel_bill(eval(input(\"enter the bill amount\")),eval(input(\"enter the tip percentage\")))\n",
    "\n",
    "# random\n",
    "def hotel_bill (bill):\n",
    "    print (\"the bill randomly generated is:\",bill)\n",
    "    tip_per = random.randint(1,5)\n",
    "    print (\"the tip percentage randomly generated is:\",tip_per)\n",
    "    total_bill = bill + (tip_per / 100)\n",
    "    print (\"The total bill is \", total_bill)\n",
    "hotel_bill (random.randint(500,10000))\n",
    "\n",
    "\n",
    "def hotel_bill (bill,tip_per):\n",
    "    print (\"the bill randomly generated is:\",bill)\n",
    "    print (\"the tip percentage randomly generated is:\",tip_per)\n",
    "    total_bill = bill + (tip_per / 100)\n",
    "    print (\"The total bill is \", total_bill)\n",
    "hotel_bill (random.randint(500,10000),random.randint(1,10))"
   ]
  },
  {
   "cell_type": "markdown",
   "id": "8d68419e",
   "metadata": {},
   "source": [
    "#### Method - 3\n",
    "##### Default arguments \n",
    "- in this the arguments are fixed and values will be entered in the arguments"
   ]
  },
  {
   "cell_type": "code",
   "execution_count": 6,
   "id": "769561f1",
   "metadata": {},
   "outputs": [
    {
     "name": "stdout",
     "output_type": "stream",
     "text": [
      "the bill is:  9999\n",
      "the tip_per is: 20\n",
      "11998.8\n"
     ]
    }
   ],
   "source": [
    "def billing (bill,tip_per=20):\n",
    "    print (\"the bill is: \", bill)\n",
    "    print (\"the tip_per is:\",tip_per)\n",
    "    tip_amount = (bill*tip_per)/100\n",
    "    total = bill + tip_amount\n",
    "    print (total)\n",
    "billing (9999)"
   ]
  },
  {
   "cell_type": "markdown",
   "id": "a6219b7c",
   "metadata": {},
   "source": [
    "#### Case 1 \n",
    "- make all the arguments default"
   ]
  },
  {
   "cell_type": "code",
   "execution_count": 7,
   "id": "f78e81c5",
   "metadata": {},
   "outputs": [
    {
     "name": "stdout",
     "output_type": "stream",
     "text": [
      "the bill is:  9999\n",
      "the tip_per is: 7\n",
      "10698.93\n"
     ]
    }
   ],
   "source": [
    "def billing (bill = 9999,tip_per=7):\n",
    "    print (\"the bill is: \", bill)\n",
    "    print (\"the tip_per is:\",tip_per)\n",
    "    tip_amount = (bill*tip_per)/100\n",
    "    total = bill + tip_amount\n",
    "    print (total)\n",
    "billing ()"
   ]
  },
  {
   "cell_type": "markdown",
   "id": "4462edde",
   "metadata": {},
   "source": [
    "#### Case 2\n",
    "- all default parameters should be assigned after non default arguments "
   ]
  },
  {
   "cell_type": "code",
   "execution_count": 8,
   "id": "639c17bb",
   "metadata": {},
   "outputs": [
    {
     "ename": "SyntaxError",
     "evalue": "non-default argument follows default argument (1690401976.py, line 4)",
     "output_type": "error",
     "traceback": [
      "\u001b[0;36m  Cell \u001b[0;32mIn[8], line 4\u001b[0;36m\u001b[0m\n\u001b[0;31m    def billing (bill = 9999,tip_per):\u001b[0m\n\u001b[0m                             ^\u001b[0m\n\u001b[0;31mSyntaxError\u001b[0m\u001b[0;31m:\u001b[0m non-default argument follows default argument\n"
     ]
    }
   ],
   "source": [
    "# here non default argument: tip_per\n",
    "# Assigned after default argument: bill\n",
    "# when you call the function, it will assign the value to the default value for bill only \n",
    "def billing (bill = 9999,tip_per):\n",
    "    print (\"the bill is: \", bill)\n",
    "    print (\"the tip_per is:\",tip_per)\n",
    "    tip_amount = (bill*tip_per)/100\n",
    "    total = bill + tip_amount\n",
    "    print (total)\n",
    "billing (20)"
   ]
  },
  {
   "cell_type": "code",
   "execution_count": 9,
   "id": "8324a7a4",
   "metadata": {},
   "outputs": [
    {
     "name": "stdout",
     "output_type": "stream",
     "text": [
      "the bill is:  9999\n",
      "the tip_per is: 7\n",
      "10698.93\n"
     ]
    }
   ],
   "source": [
    "# we need to change the positions of the arguments \n",
    "def billing (tip_per,bill = 9999):\n",
    "    print (\"the bill is: \", bill)\n",
    "    print (\"the tip_per is:\",tip_per)\n",
    "    tip_amount = (bill*tip_per)/100\n",
    "    total = bill + tip_amount\n",
    "    print (total)\n",
    "billing (7)"
   ]
  },
  {
   "cell_type": "code",
   "execution_count": 10,
   "id": "79b0d62a",
   "metadata": {},
   "outputs": [
    {
     "name": "stdout",
     "output_type": "stream",
     "text": [
      "the bill is:  10000\n",
      "the tip_per is: 9\n",
      "10900.0\n"
     ]
    }
   ],
   "source": [
    "def billing (bill = 9999,tip_per=20):\n",
    "    print (\"the bill is: \", bill)\n",
    "    print (\"the tip_per is:\",tip_per)\n",
    "    tip_amount = (bill*tip_per)/100\n",
    "    total = bill + tip_amount\n",
    "    print (total)\n",
    "billing (10000,9)\n",
    "# In this function the default arguments are given \n",
    "# Still during the function call back the values are again given \n",
    "# Python will take the updated value and execute not the default arguments "
   ]
  },
  {
   "cell_type": "markdown",
   "id": "91f66219",
   "metadata": {},
   "source": [
    "#### Priority list of arguments \n",
    "- Define the functions ----> call the functions ----> run the functions\n",
    "1. Define the functions:\n",
    "    - the variable is provided in the program instead in the function arguments \n",
    "    - eg: \n",
    "        - def billing (bill = 9999,tip_per=20):\n",
    "        - bill = 5000\n",
    "        - print (\"the bill is: \", bill)\n",
    "    - it will take the value inside the function not the which is in the argument or the call back argument\n",
    "2. call the functions\n",
    "    - eg:\n",
    "        - def billing (bill = 9999,tip_per=20):\n",
    "        - billing (10000,9)\n",
    "    - this will take the value in the call back arguments \n",
    "3. run the function\n",
    "    - eg:\n",
    "        - def billing (bill = 9999,tip_per=20):\n",
    "    - what ever arguments we provide the arguments and there is no other local variable is in the program "
   ]
  },
  {
   "cell_type": "markdown",
   "id": "1ed36da9",
   "metadata": {},
   "source": [
    "### Global variables and local variables \n",
    "1. local variables means the variables defined inside the function \n",
    "2. local variables can not be accessed outside the function \n",
    "3. global variables means the variables define outside the function \n",
    "4. global variable can access anywhere anytime "
   ]
  },
  {
   "cell_type": "code",
   "execution_count": 11,
   "id": "2d785131",
   "metadata": {},
   "outputs": [
    {
     "name": "stdout",
     "output_type": "stream",
     "text": [
      "300\n",
      "20000\n",
      "-100\n",
      "0.5\n"
     ]
    }
   ],
   "source": [
    "# Simple calculator\n",
    "num1 = 100\n",
    "num2 = 200\n",
    "\n",
    "def addition ():\n",
    "    print (num1 + num2)\n",
    "\n",
    "def mul ():\n",
    "    print (num1 * num2)\n",
    "\n",
    "def sub():\n",
    "    print (num1 - num2)\n",
    "\n",
    "def div():\n",
    "    print (num1 / num2)\n",
    "\n",
    "addition()\n",
    "mul()\n",
    "sub()\n",
    "div()"
   ]
  },
  {
   "cell_type": "markdown",
   "id": "29d9b7df",
   "metadata": {},
   "source": [
    "#### Special case\n",
    "- we want to use the local variable outside function also\n",
    "- we can use the global tag to give the local variable and use it like a global variable "
   ]
  },
  {
   "cell_type": "code",
   "execution_count": 12,
   "id": "1b89c8d7",
   "metadata": {},
   "outputs": [
    {
     "name": "stdout",
     "output_type": "stream",
     "text": [
      "40\n"
     ]
    }
   ],
   "source": [
    "def addition ():\n",
    "    global number1,number2\n",
    "    number1 = 10\n",
    "    number2 = 30\n",
    "    print (number1 + number2)\n",
    "addition ()"
   ]
  },
  {
   "cell_type": "code",
   "execution_count": 14,
   "id": "76af3098",
   "metadata": {},
   "outputs": [
    {
     "name": "stdout",
     "output_type": "stream",
     "text": [
      "10 30\n"
     ]
    }
   ],
   "source": [
    "print (number1,number2)"
   ]
  },
  {
   "cell_type": "code",
   "execution_count": null,
   "id": "fec15b7a",
   "metadata": {},
   "outputs": [],
   "source": []
  }
 ],
 "metadata": {
  "kernelspec": {
   "display_name": "Python 3 (ipykernel)",
   "language": "python",
   "name": "python3"
  },
  "language_info": {
   "codemirror_mode": {
    "name": "ipython",
    "version": 3
   },
   "file_extension": ".py",
   "mimetype": "text/x-python",
   "name": "python",
   "nbconvert_exporter": "python",
   "pygments_lexer": "ipython3",
   "version": "3.11.7"
  }
 },
 "nbformat": 4,
 "nbformat_minor": 5
}

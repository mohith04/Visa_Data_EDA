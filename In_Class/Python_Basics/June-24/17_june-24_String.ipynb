{
 "cells": [
  {
   "cell_type": "markdown",
   "id": "5305970b",
   "metadata": {},
   "source": [
    "### String\n",
    "- In this we will learn \n",
    "    - string\n",
    "    - lists \n",
    "    - dictionary \n",
    "    - tuples\n",
    "    - sets\n",
    "    - lamda function\n",
    "    - file handling \n",
    "#### intialize of strings \n",
    "- single quotes\n",
    "    - easy way to represent a string \n",
    "- double quotes\n",
    "    - easy way to represent a string\n",
    "- triple quotes \n",
    "    - this means doc string "
   ]
  },
  {
   "cell_type": "code",
   "execution_count": 17,
   "id": "4adb8791",
   "metadata": {},
   "outputs": [],
   "source": [
    "import random\n",
    "import math \n",
    "import string\n",
    "import time"
   ]
  },
  {
   "cell_type": "code",
   "execution_count": 6,
   "id": "41287752",
   "metadata": {},
   "outputs": [],
   "source": [
    "string = 'python'\n",
    "String = \"PYTHON\"\n",
    "STring = \"\"\"Hello,\n",
    "my name is mohith\n",
    "i am learning python by doing \"\"\""
   ]
  },
  {
   "cell_type": "markdown",
   "id": "21ae9136",
   "metadata": {},
   "source": [
    "-  these are the examples of the string quotes "
   ]
  },
  {
   "cell_type": "code",
   "execution_count": 7,
   "id": "92c512ed",
   "metadata": {},
   "outputs": [
    {
     "name": "stdout",
     "output_type": "stream",
     "text": [
      "python\n",
      "PYTHON\n",
      "Hello,\n",
      "my name is mohith\n",
      "i am learning python by doing \n"
     ]
    }
   ],
   "source": [
    "print (string)\n",
    "print (String)\n",
    "print (STring)"
   ]
  },
  {
   "cell_type": "markdown",
   "id": "5a418ae7",
   "metadata": {},
   "source": [
    "- type \n",
    "- print\n",
    "- len \n",
    "- max\n",
    "- min \n",
    "- reversed \n",
    "    - it will reverse the of the string \n",
    "- sorted \n",
    "    - it will give the output in ascending or descending order \n",
    "    - it has one argument called reversed\n",
    "    - reverse is default argument"
   ]
  },
  {
   "cell_type": "markdown",
   "id": "19438059",
   "metadata": {},
   "source": [
    "#### type\n",
    "- type is a keyword \n",
    "- it will give the type value"
   ]
  },
  {
   "cell_type": "markdown",
   "id": "354cf94e",
   "metadata": {},
   "source": [
    "##### Difference between keywords and packages \n",
    "- keywords is resvered word \n",
    "- different methods are avaliable on different packages \n",
    "- we have limited keywords: 35 keyword are there \n",
    "- keywords starts with the keyword unlike packages \n",
    "- eg: \n",
    "    - eval, input, print \n",
    "    - random.randint(), time.sleep(), math.pi()\n",
    "    "
   ]
  },
  {
   "cell_type": "code",
   "execution_count": 11,
   "id": "eb11eb64",
   "metadata": {},
   "outputs": [
    {
     "name": "stdout",
     "output_type": "stream",
     "text": [
      "6 y h ['h', 'n', 'o', 'p', 't', 'y'] <reversed object at 0x1037fa200> "
     ]
    }
   ],
   "source": [
    "print (len(string),\n",
    "       max(string),\n",
    "       min(string),\n",
    "      sorted(string),\n",
    "      reversed(string),end = \" \")"
   ]
  },
  {
   "cell_type": "code",
   "execution_count": 12,
   "id": "be3618de",
   "metadata": {},
   "outputs": [
    {
     "data": {
      "text/plain": [
       "<reversed at 0x1037f94b0>"
      ]
     },
     "execution_count": 12,
     "metadata": {},
     "output_type": "execute_result"
    }
   ],
   "source": [
    "reversed(String)"
   ]
  },
  {
   "cell_type": "markdown",
   "id": "93723453",
   "metadata": {},
   "source": [
    "#### ** Note **\n",
    "- whenever you see the output like above\n",
    "- means the output is stored insided that \n",
    "- it is nothing but an iterator\n",
    "- Iterator means the output can see using loops"
   ]
  },
  {
   "cell_type": "code",
   "execution_count": 17,
   "id": "1e52c6fa",
   "metadata": {},
   "outputs": [
    {
     "name": "stdout",
     "output_type": "stream",
     "text": [
      "ASCII value of 'p' is 112\n",
      "ASCII value of 'y' is 121\n",
      "ASCII value of 't' is 116\n",
      "ASCII value of 'h' is 104\n",
      "ASCII value of 'o' is 111\n",
      "ASCII value of 'n' is 110\n"
     ]
    }
   ],
   "source": [
    "def string_char():\n",
    "    string = \"python\"\n",
    "    for char in string:\n",
    "        ascii_value = ord(char)\n",
    "        print(f\"ASCII value of '{char}' is {ascii_value}\")\n",
    "\n",
    "string_char()"
   ]
  },
  {
   "cell_type": "code",
   "execution_count": 21,
   "id": "3a25e45d",
   "metadata": {},
   "outputs": [
    {
     "data": {
      "text/plain": [
       "['Y', 'T', 'P', 'O', 'N', 'H']"
      ]
     },
     "execution_count": 21,
     "metadata": {},
     "output_type": "execute_result"
    }
   ],
   "source": [
    "sorted(String,reverse = True)\n",
    "# if there is \\ then dont assign any arguments before the slash"
   ]
  },
  {
   "cell_type": "code",
   "execution_count": 20,
   "id": "4c5d1dc8",
   "metadata": {},
   "outputs": [
    {
     "name": "stdout",
     "output_type": "stream",
     "text": [
      "(66+83j)\n"
     ]
    }
   ],
   "source": [
    "a = random.randint(1,100)\n",
    "b = random.randint(1,100)\n",
    "print (complex (a,b))"
   ]
  },
  {
   "cell_type": "code",
   "execution_count": 31,
   "id": "2f2175ec",
   "metadata": {},
   "outputs": [
    {
     "data": {
      "text/plain": [
       "['BPF',\n",
       " 'LOG4',\n",
       " 'NV_MAGICCONST',\n",
       " 'RECIP_BPF',\n",
       " 'Random',\n",
       " 'SG_MAGICCONST',\n",
       " 'SystemRandom',\n",
       " 'TWOPI',\n",
       " '_ONE',\n",
       " '_Sequence',\n",
       " '_Set',\n",
       " '__all__',\n",
       " '__builtins__',\n",
       " '__cached__',\n",
       " '__doc__',\n",
       " '__file__',\n",
       " '__loader__',\n",
       " '__name__',\n",
       " '__package__',\n",
       " '__spec__',\n",
       " '__warningregistry__',\n",
       " '_accumulate',\n",
       " '_acos',\n",
       " '_bisect',\n",
       " '_ceil',\n",
       " '_cos',\n",
       " '_e',\n",
       " '_exp',\n",
       " '_floor',\n",
       " '_index',\n",
       " '_inst',\n",
       " '_isfinite',\n",
       " '_log',\n",
       " '_os',\n",
       " '_pi',\n",
       " '_random',\n",
       " '_repeat',\n",
       " '_sha512',\n",
       " '_sin',\n",
       " '_sqrt',\n",
       " '_test',\n",
       " '_test_generator',\n",
       " '_urandom',\n",
       " '_warn',\n",
       " 'betavariate',\n",
       " 'choice',\n",
       " 'choices',\n",
       " 'expovariate',\n",
       " 'gammavariate',\n",
       " 'gauss',\n",
       " 'getrandbits',\n",
       " 'getstate',\n",
       " 'lognormvariate',\n",
       " 'normalvariate',\n",
       " 'paretovariate',\n",
       " 'randbytes',\n",
       " 'randint',\n",
       " 'random',\n",
       " 'randrange',\n",
       " 'sample',\n",
       " 'seed',\n",
       " 'setstate',\n",
       " 'shuffle',\n",
       " 'triangular',\n",
       " 'uniform',\n",
       " 'vonmisesvariate',\n",
       " 'weibullvariate']"
      ]
     },
     "execution_count": 31,
     "metadata": {},
     "output_type": "execute_result"
    }
   ],
   "source": [
    "dir (random)"
   ]
  },
  {
   "cell_type": "code",
   "execution_count": 34,
   "id": "5eaa53c7",
   "metadata": {},
   "outputs": [
    {
     "name": "stdout",
     "output_type": "stream",
     "text": [
      "Help on built-in function random:\n",
      "\n",
      "random() method of random.Random instance\n",
      "    random() -> x in the interval [0, 1).\n",
      "\n"
     ]
    }
   ],
   "source": [
    "help (random.random)"
   ]
  },
  {
   "cell_type": "markdown",
   "id": "778d2459",
   "metadata": {},
   "source": [
    "##### in operator\n"
   ]
  },
  {
   "cell_type": "code",
   "execution_count": 12,
   "id": "320abfcc",
   "metadata": {},
   "outputs": [
    {
     "name": "stdout",
     "output_type": "stream",
     "text": [
      "The counter the alphabet 3\n"
     ]
    }
   ],
   "source": [
    "#WAP ask the user to get the number of a in a given string \n",
    "#str1 = \"hello how are you, im anand\"\n",
    "def string_count():\n",
    "    str1 = 'hello how are you, im anand'\n",
    "    count = 0\n",
    "    for i in str1:\n",
    "        if i == 'a':\n",
    "            count = count + 1\n",
    "    print (f\"The counter the alphabet {count}\")\n",
    "string_count()"
   ]
  },
  {
   "cell_type": "code",
   "execution_count": null,
   "id": "a5d3945e",
   "metadata": {},
   "outputs": [],
   "source": []
  }
 ],
 "metadata": {
  "kernelspec": {
   "display_name": "Python 3 (ipykernel)",
   "language": "python",
   "name": "python3"
  },
  "language_info": {
   "codemirror_mode": {
    "name": "ipython",
    "version": 3
   },
   "file_extension": ".py",
   "mimetype": "text/x-python",
   "name": "python",
   "nbconvert_exporter": "python",
   "pygments_lexer": "ipython3",
   "version": "3.11.7"
  }
 },
 "nbformat": 4,
 "nbformat_minor": 5
}

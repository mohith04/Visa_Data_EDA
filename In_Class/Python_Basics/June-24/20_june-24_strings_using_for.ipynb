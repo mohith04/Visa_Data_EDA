{
 "cells": [
  {
   "cell_type": "markdown",
   "id": "17b1dbd0",
   "metadata": {},
   "source": [
    "#### Unique vowels or items \n",
    "- always make an empty string \n",
    "- iterate the letter of orginal string throught for loop \n",
    "- whenever vowel condition match keep that letter in empty string \n",
    "- now onwords \n",
    "    - is that a vowel \n",
    "    - is that present in the new string "
   ]
  },
  {
   "cell_type": "code",
   "execution_count": 2,
   "id": "774c8a4c",
   "metadata": {},
   "outputs": [
    {
     "data": {
      "text/plain": [
       "'ae'"
      ]
     },
     "execution_count": 2,
     "metadata": {},
     "output_type": "execute_result"
    }
   ],
   "source": [
    "str1 = 'aabbccddee'\n",
    "str2 = ''\n",
    "for i in str1:\n",
    "    if i in 'aeiou' not in str2:\n",
    "        if i not in str2:\n",
    "            str2 = str2+i\n",
    "str2"
   ]
  },
  {
   "cell_type": "markdown",
   "id": "ddc220e1",
   "metadata": {},
   "source": [
    "- Or "
   ]
  },
  {
   "cell_type": "code",
   "execution_count": 10,
   "id": "b8017a25",
   "metadata": {},
   "outputs": [
    {
     "data": {
      "text/plain": [
       "'ae'"
      ]
     },
     "execution_count": 10,
     "metadata": {},
     "output_type": "execute_result"
    }
   ],
   "source": [
    "str1 = 'aabbccddee'\n",
    "str2 = ''\n",
    "for i in str1:\n",
    "    if i in 'aeiou' and i not in str2:\n",
    "        str2 = str2+i\n",
    "str2"
   ]
  },
  {
   "cell_type": "code",
   "execution_count": 12,
   "id": "80a14dfe",
   "metadata": {},
   "outputs": [
    {
     "data": {
      "text/plain": [
       "'aabcdee'"
      ]
     },
     "execution_count": 12,
     "metadata": {},
     "output_type": "execute_result"
    }
   ],
   "source": [
    "str1 = 'aabbccddee'\n",
    "str2 = ''\n",
    "for i in str1:\n",
    "    if i not in str2 or i in 'aeiou':\n",
    "        str2 = str2+i\n",
    "str2"
   ]
  },
  {
   "cell_type": "code",
   "execution_count": 14,
   "id": "e0f8ad94",
   "metadata": {},
   "outputs": [
    {
     "data": {
      "text/plain": [
       "'Python Is Easy'"
      ]
     },
     "execution_count": 14,
     "metadata": {},
     "output_type": "execute_result"
    }
   ],
   "source": [
    "str3= 'python is easy'\n",
    "str3.title()"
   ]
  },
  {
   "cell_type": "code",
   "execution_count": 16,
   "id": "e3b8df76",
   "metadata": {},
   "outputs": [
    {
     "data": {
      "text/plain": [
       "'Hello How Are You'"
      ]
     },
     "execution_count": 16,
     "metadata": {},
     "output_type": "execute_result"
    }
   ],
   "source": [
    "#WAP \n",
    "# str1 = 'hello how are you'\n",
    "str4 = 'hello how are you'\n",
    "str4.title()"
   ]
  },
  {
   "cell_type": "code",
   "execution_count": 33,
   "id": "2baa505c",
   "metadata": {},
   "outputs": [
    {
     "name": "stdout",
     "output_type": "stream",
     "text": [
      "Hello How Are You\n"
     ]
    }
   ],
   "source": [
    "str4 = 'hello how are you'\n",
    "words = str4.split()\n",
    "str5 = ' '.join(word.capitalize()for word in words)\n",
    "\n",
    "print(str5)"
   ]
  },
  {
   "cell_type": "markdown",
   "id": "1030ccae",
   "metadata": {},
   "source": [
    "#### Count"
   ]
  },
  {
   "cell_type": "code",
   "execution_count": 34,
   "id": "27cdfe36",
   "metadata": {},
   "outputs": [
    {
     "data": {
      "text/plain": [
       "2"
      ]
     },
     "execution_count": 34,
     "metadata": {},
     "output_type": "execute_result"
    }
   ],
   "source": [
    "str6 = 'ola ola ola'\n",
    "str6.count('ola ')"
   ]
  },
  {
   "cell_type": "code",
   "execution_count": 35,
   "id": "4af3263d",
   "metadata": {},
   "outputs": [
    {
     "data": {
      "text/plain": [
       "12"
      ]
     },
     "execution_count": 35,
     "metadata": {},
     "output_type": "execute_result"
    }
   ],
   "source": [
    "str6.count('')\n",
    "# length of the string "
   ]
  },
  {
   "cell_type": "code",
   "execution_count": 36,
   "id": "a0a36d49",
   "metadata": {},
   "outputs": [
    {
     "data": {
      "text/plain": [
       "2"
      ]
     },
     "execution_count": 36,
     "metadata": {},
     "output_type": "execute_result"
    }
   ],
   "source": [
    "str6.count('a',5)"
   ]
  },
  {
   "cell_type": "code",
   "execution_count": 37,
   "id": "67e61362",
   "metadata": {},
   "outputs": [
    {
     "data": {
      "text/plain": [
       "1"
      ]
     },
     "execution_count": 37,
     "metadata": {},
     "output_type": "execute_result"
    }
   ],
   "source": [
    "str6.count('a',7)"
   ]
  },
  {
   "cell_type": "code",
   "execution_count": 38,
   "id": "bde18008",
   "metadata": {},
   "outputs": [
    {
     "data": {
      "text/plain": [
       "2"
      ]
     },
     "execution_count": 38,
     "metadata": {},
     "output_type": "execute_result"
    }
   ],
   "source": [
    "str6.count(' ',1)\n",
    "#it is checking for the spaces in the string "
   ]
  },
  {
   "cell_type": "code",
   "execution_count": 42,
   "id": "80339884",
   "metadata": {},
   "outputs": [
    {
     "data": {
      "text/plain": [
       "3"
      ]
     },
     "execution_count": 42,
     "metadata": {},
     "output_type": "execute_result"
    }
   ],
   "source": [
    "str6.count('la',1)"
   ]
  },
  {
   "cell_type": "code",
   "execution_count": 43,
   "id": "5d586d30",
   "metadata": {},
   "outputs": [
    {
     "data": {
      "text/plain": [
       "2"
      ]
     },
     "execution_count": 43,
     "metadata": {},
     "output_type": "execute_result"
    }
   ],
   "source": [
    "str6.count('a',4,11)"
   ]
  },
  {
   "cell_type": "code",
   "execution_count": 44,
   "id": "9970173b",
   "metadata": {},
   "outputs": [
    {
     "data": {
      "text/plain": [
       "2"
      ]
     },
     "execution_count": 44,
     "metadata": {},
     "output_type": "execute_result"
    }
   ],
   "source": [
    "str6.count('a',4,21)"
   ]
  },
  {
   "cell_type": "markdown",
   "id": "47cefbfa",
   "metadata": {},
   "source": [
    "- there is no error in counting as it will take even the string out of bounds "
   ]
  },
  {
   "cell_type": "code",
   "execution_count": 87,
   "id": "56d1a61b",
   "metadata": {},
   "outputs": [
    {
     "data": {
      "text/plain": [
       "3"
      ]
     },
     "execution_count": 87,
     "metadata": {},
     "output_type": "execute_result"
    }
   ],
   "source": [
    "# find the number of ola \n",
    "str6 = 'ola ola ola'\n",
    "number = 0 \n",
    "str7 = 'ola'\n",
    "for i in range (len(str6) - len(str7)+1):\n",
    "    if str6[i:i + len(str7)] == str7:\n",
    "        number = number + 1\n",
    "number"
   ]
  },
  {
   "cell_type": "code",
   "execution_count": 63,
   "id": "e1ed90c1",
   "metadata": {},
   "outputs": [
    {
     "data": {
      "text/plain": [
       "'heKKo'"
      ]
     },
     "execution_count": 63,
     "metadata": {},
     "output_type": "execute_result"
    }
   ],
   "source": [
    "# replace letters \n",
    "str8 = 'hello'\n",
    "str8.replace('l',\"K\")"
   ]
  },
  {
   "cell_type": "markdown",
   "id": "7bf0a19a",
   "metadata": {},
   "source": [
    "- in replace count = -1 as default value in replace \n",
    "- whiche means it will replace all the letters\n",
    "- so if i wnat to replace only one letter cain give the count "
   ]
  },
  {
   "cell_type": "code",
   "execution_count": 71,
   "id": "67deb8a9",
   "metadata": {},
   "outputs": [
    {
     "data": {
      "text/plain": [
       "'hLellllo'"
      ]
     },
     "execution_count": 71,
     "metadata": {},
     "output_type": "execute_result"
    }
   ],
   "source": [
    "str9 = 'hlellllo'\n",
    "str9.replace('l','L',1) "
   ]
  },
  {
   "cell_type": "markdown",
   "id": "5e4aeb3e",
   "metadata": {},
   "source": [
    "- / means do not give the arguments name, just directly provide the value \n",
    "- the count =1 means only the first letter of the occurance will get replaced with which ever we have given\n",
    "- read the dog string carefully \n",
    "- if the letter that we are tring to replace is not present in the string then it will not give any error\n",
    "- if there is no substing then there is 0\n",
    "- if there is no substring, then the answer will be the orginal string "
   ]
  },
  {
   "cell_type": "code",
   "execution_count": 76,
   "id": "95d1fb8e",
   "metadata": {},
   "outputs": [
    {
     "data": {
      "text/plain": [
       "'$estart'"
      ]
     },
     "execution_count": 76,
     "metadata": {},
     "output_type": "execute_result"
    }
   ],
   "source": [
    "#WAP ask the user to replace the string \n",
    "# input = str:\"restart\"\n",
    "#op = 'resta$t'\n",
    "str10 = \"restart\"\n",
    "str10.replace(\"r\",\"$\",1)\n"
   ]
  },
  {
   "cell_type": "code",
   "execution_count": 77,
   "id": "72c72e55",
   "metadata": {},
   "outputs": [
    {
     "data": {
      "text/plain": [
       "'$rt'"
      ]
     },
     "execution_count": 77,
     "metadata": {},
     "output_type": "execute_result"
    }
   ],
   "source": [
    "str10 = \"restart\"\n",
    "str10.replace(\"r\",\"$\",1)"
   ]
  },
  {
   "cell_type": "code",
   "execution_count": 82,
   "id": "adc4d6e5",
   "metadata": {},
   "outputs": [
    {
     "data": {
      "text/plain": [
       "'resta$t'"
      ]
     },
     "execution_count": 82,
     "metadata": {},
     "output_type": "execute_result"
    }
   ],
   "source": [
    "str10[::-1].replace('r','$',1)[::-1]"
   ]
  },
  {
   "cell_type": "code",
   "execution_count": 86,
   "id": "e89215f1",
   "metadata": {},
   "outputs": [
    {
     "data": {
      "text/plain": [
       "'resta$t'"
      ]
     },
     "execution_count": 86,
     "metadata": {},
     "output_type": "execute_result"
    }
   ],
   "source": [
    "str11=str10[::-1]\n",
    "str12=str11.replace(\"r\",\"$\",1)\n",
    "str13=str12[::-1]\n",
    "str13"
   ]
  },
  {
   "cell_type": "markdown",
   "id": "cdd1820a",
   "metadata": {},
   "source": [
    "- index"
   ]
  },
  {
   "cell_type": "code",
   "execution_count": 111,
   "id": "b43280e6",
   "metadata": {},
   "outputs": [
    {
     "data": {
      "text/plain": [
       "5"
      ]
     },
     "execution_count": 111,
     "metadata": {},
     "output_type": "execute_result"
    }
   ],
   "source": [
    "str10 = \"restart\"\n",
    "str10.index('r',1,7)\n"
   ]
  },
  {
   "cell_type": "code",
   "execution_count": 115,
   "id": "1af7df51",
   "metadata": {},
   "outputs": [
    {
     "name": "stdout",
     "output_type": "stream",
     "text": [
      "1 5 9 13 17\n"
     ]
    }
   ],
   "source": [
    "str20 = \"hai hai hai hai hai\"\n",
    "i1 = str20.index('a')\n",
    "i2 = str20.index('a',i1+1)\n",
    "i3 = str20.index('a',i2+1)\n",
    "i4 = str20.index('a',i3+1)\n",
    "i5 = str20.index('a',i4+1)\n",
    "print (i1,i2,i3,i4,i5)"
   ]
  },
  {
   "cell_type": "code",
   "execution_count": null,
   "id": "b38be913",
   "metadata": {},
   "outputs": [],
   "source": []
  }
 ],
 "metadata": {
  "kernelspec": {
   "display_name": "Python 3 (ipykernel)",
   "language": "python",
   "name": "python3"
  },
  "language_info": {
   "codemirror_mode": {
    "name": "ipython",
    "version": 3
   },
   "file_extension": ".py",
   "mimetype": "text/x-python",
   "name": "python",
   "nbconvert_exporter": "python",
   "pygments_lexer": "ipython3",
   "version": "3.11.7"
  }
 },
 "nbformat": 4,
 "nbformat_minor": 5
}

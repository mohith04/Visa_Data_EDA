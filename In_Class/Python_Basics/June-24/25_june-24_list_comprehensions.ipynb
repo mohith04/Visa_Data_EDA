{
 "cells": [
  {
   "cell_type": "code",
   "execution_count": 80,
   "id": "a940cbf2-580e-420f-bc11-5184226c7ba3",
   "metadata": {},
   "outputs": [],
   "source": [
    "import random\n",
    "import math\n",
    "import string\n",
    "import time"
   ]
  },
  {
   "cell_type": "code",
   "execution_count": 20,
   "id": "6b2e2254-f44a-4ba6-84df-d6bb4573928f",
   "metadata": {},
   "outputs": [
    {
     "name": "stdout",
     "output_type": "stream",
     "text": [
      "can 1\n",
      "can 1\n",
      "can 2\n",
      "can 2\n",
      "can 2\n",
      "can 3\n",
      "can 3\n",
      "can 3\n",
      "can 4\n",
      "can 4\n",
      "can 4\n",
      "can 4\n",
      "can 5\n",
      "canner 0\n",
      "canner 1\n",
      "canner 1\n",
      "canner 1\n",
      "canner 1\n",
      "canner 1\n",
      "canner 1\n",
      "canner 2\n",
      "canner 2\n",
      "canner 2\n",
      "canner 2\n",
      "canner 2\n",
      "canner 2\n",
      "can 1\n",
      "can 1\n",
      "can 2\n",
      "can 2\n",
      "can 2\n",
      "can 3\n",
      "can 3\n",
      "can 3\n",
      "can 4\n",
      "can 4\n",
      "can 4\n",
      "can 4\n",
      "can 5\n",
      "not 0\n",
      "not 0\n",
      "not 0\n",
      "not 1\n",
      "not 1\n",
      "not 1\n",
      "not 1\n",
      "not 1\n",
      "not 1\n",
      "not 1\n",
      "not 1\n",
      "not 1\n",
      "not 1\n",
      "a 0\n",
      "a 0\n",
      "a 0\n",
      "a 0\n",
      "a 1\n",
      "a 1\n",
      "a 1\n",
      "a 1\n",
      "a 1\n",
      "a 1\n",
      "a 1\n",
      "a 2\n",
      "a 2\n",
      "can 1\n",
      "can 1\n",
      "can 2\n",
      "can 2\n",
      "can 2\n",
      "can 3\n",
      "can 3\n",
      "can 3\n",
      "can 4\n",
      "can 4\n",
      "can 4\n",
      "can 4\n",
      "can 5\n",
      "but 0\n",
      "but 0\n",
      "but 0\n",
      "but 0\n",
      "but 0\n",
      "but 0\n",
      "but 1\n",
      "but 1\n",
      "but 1\n",
      "but 1\n",
      "but 1\n",
      "but 1\n",
      "but 1\n",
      "canner 0\n",
      "canner 1\n",
      "canner 1\n",
      "canner 1\n",
      "canner 1\n",
      "canner 1\n",
      "canner 1\n",
      "canner 2\n",
      "canner 2\n",
      "canner 2\n",
      "canner 2\n",
      "canner 2\n",
      "canner 2\n",
      "can 1\n",
      "can 1\n",
      "can 2\n",
      "can 2\n",
      "can 2\n",
      "can 3\n",
      "can 3\n",
      "can 3\n",
      "can 4\n",
      "can 4\n",
      "can 4\n",
      "can 4\n",
      "can 5\n",
      "you 0\n",
      "you 0\n",
      "you 0\n",
      "you 0\n",
      "you 0\n",
      "you 0\n",
      "you 0\n",
      "you 0\n",
      "you 0\n",
      "you 1\n",
      "you 1\n",
      "you 1\n",
      "you 1\n",
      "make 0\n",
      "make 0\n",
      "make 0\n",
      "make 0\n",
      "make 0\n",
      "make 0\n",
      "make 0\n",
      "make 0\n",
      "make 0\n",
      "make 0\n",
      "make 1\n",
      "make 1\n",
      "make 1\n",
      "a 0\n",
      "a 0\n",
      "a 0\n",
      "a 0\n",
      "a 1\n",
      "a 1\n",
      "a 1\n",
      "a 1\n",
      "a 1\n",
      "a 1\n",
      "a 1\n",
      "a 2\n",
      "a 2\n",
      "can 1\n",
      "can 1\n",
      "can 2\n",
      "can 2\n",
      "can 2\n",
      "can 3\n",
      "can 3\n",
      "can 3\n",
      "can 4\n",
      "can 4\n",
      "can 4\n",
      "can 4\n",
      "can 5\n"
     ]
    }
   ],
   "source": [
    "s = 'can canner can not a can but canner can you make a can'\n",
    "l = s.split()\n",
    "for i in l:\n",
    "    count = 0 \n",
    "    for j in l:\n",
    "        if i == j:\n",
    "            count = count + 1\n",
    "        print (i,count)"
   ]
  },
  {
   "cell_type": "code",
   "execution_count": null,
   "id": "56419af3-c136-4a4e-b372-985454a98183",
   "metadata": {},
   "outputs": [],
   "source": [
    "l ['apple','cat','dog','ball']\n",
    "\n",
    "l= [10,15,2,25,89]\n",
    "# sort without the using sort method\n",
    "\n",
    "# find the maximum word \n",
    "l1= [1,2,3,4]\n",
    "l2= [10,20,30,40]\n",
    "out = [11,22,33,44]\n",
    "\n",
    "l1 = [1,2,3,4,5]\n",
    "l2= [10,20,30,40]\n",
    "out = [11,22,33,44,5]\n",
    "\n",
    "s = 'hello how are you im good at python in naresh it'\n",
    "#find the max length word\n",
    "#find the nin length word\n",
    "# find the most repeated word"
   ]
  },
  {
   "cell_type": "markdown",
   "id": "c9979c92-64ce-4b5e-973f-7f1161773bf5",
   "metadata": {},
   "source": [
    "#### List comprehensions"
   ]
  },
  {
   "cell_type": "markdown",
   "id": "286e04d4-b2db-445e-85dd-aebcd1eb96cc",
   "metadata": {},
   "source": [
    "$pattern - 1$\n",
    "**only for loop**\n",
    "- syntax\n",
    "- l = [output_forloop]"
   ]
  },
  {
   "cell_type": "code",
   "execution_count": 25,
   "id": "1b794fb7-9bb7-4b6f-b022-41cf26dfb5c3",
   "metadata": {},
   "outputs": [
    {
     "name": "stdin",
     "output_type": "stream",
     "text": [
      "enter the numbers till you want to find the sqaure 5\n"
     ]
    },
    {
     "name": "stdout",
     "output_type": "stream",
     "text": [
      "[1, 4, 9, 16]\n"
     ]
    }
   ],
   "source": [
    "#wap ask the user to print square of the number \n",
    "n = eval (input (\"enter the numbers till you want to find the sqaure\"))\n",
    "l=[]\n",
    "for i in range (1,n):\n",
    "    l.append(i*i)\n",
    "print (l)"
   ]
  },
  {
   "cell_type": "markdown",
   "id": "3543389d-d1f7-4aea-a5f0-bd4f8b05b192",
   "metadata": {},
   "source": [
    "##### OR"
   ]
  },
  {
   "cell_type": "code",
   "execution_count": 30,
   "id": "3469d5fe-cba8-4559-b51f-b0e5f30f6e49",
   "metadata": {},
   "outputs": [
    {
     "name": "stdin",
     "output_type": "stream",
     "text": [
      "enter the numbers till you want to find the sqaure 5\n"
     ]
    },
    {
     "name": "stdout",
     "output_type": "stream",
     "text": [
      "[1, 4, 9, 16]\n"
     ]
    }
   ],
   "source": [
    "n1 = eval (input (\"enter the numbers till you want to find the sqaure\"))\n",
    "l5 = [i * i for i in range (1,n1)]\n",
    "print (l5)"
   ]
  },
  {
   "cell_type": "markdown",
   "id": "17a56267-8af6-4431-866c-da31a1d468fd",
   "metadata": {},
   "source": [
    "- the second code is much easier compared and will take up less space "
   ]
  },
  {
   "cell_type": "code",
   "execution_count": 35,
   "id": "223c89fc-3dcb-4177-9de9-5910ecaba8aa",
   "metadata": {},
   "outputs": [
    {
     "name": "stdout",
     "output_type": "stream",
     "text": [
      "['hello', 'hello', 'hello', 'hello', 'hello']\n"
     ]
    }
   ],
   "source": [
    "l4 = ['hello' for i in range (5)]\n",
    "print (l4)"
   ]
  },
  {
   "cell_type": "markdown",
   "id": "5c3777b9-f86d-4e41-a731-88a5fb9f488f",
   "metadata": {},
   "source": [
    "$pattern - 2$\n",
    "- for loop with if condtion\n",
    "- syntax\n",
    "    - [output_for loop_if condition]"
   ]
  },
  {
   "cell_type": "code",
   "execution_count": 43,
   "id": "acf7d654-0736-4824-9cf8-44bd95f3491f",
   "metadata": {},
   "outputs": [
    {
     "data": {
      "text/plain": [
       "['Hyd']"
      ]
     },
     "execution_count": 43,
     "metadata": {},
     "output_type": "execute_result"
    }
   ],
   "source": [
    "l = ['Hyd','bengalore','chennai','pune']\n",
    "out = []\n",
    "for i in l:\n",
    "    if i.istitle():\n",
    "        out.append(i)\n",
    "out"
   ]
  },
  {
   "cell_type": "code",
   "execution_count": 49,
   "id": "ee113b95-862d-4e96-8fca-a0eed2536e0c",
   "metadata": {},
   "outputs": [
    {
     "data": {
      "text/plain": [
       "['Hyd']"
      ]
     },
     "execution_count": 49,
     "metadata": {},
     "output_type": "execute_result"
    }
   ],
   "source": [
    "l = ['Hyd','bengalore','chennai','pune']\n",
    "out1 = [i for i in l if i.istitle()]\n",
    "out1"
   ]
  },
  {
   "cell_type": "code",
   "execution_count": 55,
   "id": "a30e0e67-0ffa-4427-97c5-c4cd28b212f9",
   "metadata": {},
   "outputs": [
    {
     "data": {
      "text/plain": [
       "['bl#r', 'Che#nnai']"
      ]
     },
     "execution_count": 55,
     "metadata": {},
     "output_type": "execute_result"
    }
   ],
   "source": [
    "l = ['HYD','bl#r','Che#nnai','PUNE']\n",
    "out2 = [i for i in l if '#' in i]\n",
    "out2"
   ]
  },
  {
   "cell_type": "markdown",
   "id": "715fb377-2dd7-4aa1-82d1-dc1f86e27732",
   "metadata": {},
   "source": [
    "$Pattern - 3$\n",
    "- for-if-else\n",
    "    - syntax:\n",
    "        - [output_for-loop]\n",
    "        - [output_for-loop_if-condition]\n",
    "        - [if-output_if-condition_else_else-output_for-loop]"
   ]
  },
  {
   "cell_type": "code",
   "execution_count": 60,
   "id": "808f3541-10de-4a07-b833-80e35c73467d",
   "metadata": {},
   "outputs": [
    {
     "data": {
      "text/plain": [
       "['odd1',\n",
       " 'even2',\n",
       " 'odd3',\n",
       " 'even4',\n",
       " 'odd5',\n",
       " 'even6',\n",
       " 'odd7',\n",
       " 'even8',\n",
       " 'odd9',\n",
       " 'even10']"
      ]
     },
     "execution_count": 60,
     "metadata": {},
     "output_type": "execute_result"
    }
   ],
   "source": [
    "out3 = []\n",
    "for i in range (1,11):\n",
    "    if i % 2 == 0:\n",
    "        out3.append(f\"even{i}\")\n",
    "    else:\n",
    "        out3.append(f\"odd{i}\")\n",
    "out3"
   ]
  },
  {
   "cell_type": "code",
   "execution_count": 72,
   "id": "eb993318-cfe7-49dc-b562-c78a3ba8d7ee",
   "metadata": {},
   "outputs": [
    {
     "data": {
      "text/plain": [
       "['odd1',\n",
       " 'even2',\n",
       " 'odd3',\n",
       " 'even4',\n",
       " 'odd5',\n",
       " 'even6',\n",
       " 'odd7',\n",
       " 'even8',\n",
       " 'odd9',\n",
       " 'even10']"
      ]
     },
     "execution_count": 72,
     "metadata": {},
     "output_type": "execute_result"
    }
   ],
   "source": [
    "out4 = [f\"even{i}\" if i%2==0 else f\"odd{i}\" for i in range (1,11)]\n",
    "out4"
   ]
  },
  {
   "cell_type": "code",
   "execution_count": 74,
   "id": "5933cd67-e9f0-4958-a884-db263f6c4347",
   "metadata": {},
   "outputs": [
    {
     "data": {
      "text/plain": [
       "['__add__',\n",
       " '__class__',\n",
       " '__class_getitem__',\n",
       " '__contains__',\n",
       " '__delattr__',\n",
       " '__delitem__',\n",
       " '__dir__',\n",
       " '__doc__',\n",
       " '__eq__',\n",
       " '__format__',\n",
       " '__ge__',\n",
       " '__getattribute__',\n",
       " '__getitem__',\n",
       " '__getstate__',\n",
       " '__gt__',\n",
       " '__hash__',\n",
       " '__iadd__',\n",
       " '__imul__',\n",
       " '__init__',\n",
       " '__init_subclass__',\n",
       " '__iter__',\n",
       " '__le__',\n",
       " '__len__',\n",
       " '__lt__',\n",
       " '__mul__',\n",
       " '__ne__',\n",
       " '__new__',\n",
       " '__reduce__',\n",
       " '__reduce_ex__',\n",
       " '__repr__',\n",
       " '__reversed__',\n",
       " '__rmul__',\n",
       " '__setattr__',\n",
       " '__setitem__',\n",
       " '__sizeof__',\n",
       " '__str__',\n",
       " '__subclasshook__',\n",
       " 'append',\n",
       " 'clear',\n",
       " 'copy',\n",
       " 'count',\n",
       " 'extend',\n",
       " 'index',\n",
       " 'insert',\n",
       " 'pop',\n",
       " 'remove',\n",
       " 'reverse',\n",
       " 'sort']"
      ]
     },
     "execution_count": 74,
     "metadata": {},
     "output_type": "execute_result"
    }
   ],
   "source": [
    "dir (list)"
   ]
  },
  {
   "cell_type": "code",
   "execution_count": 147,
   "id": "2dd98e9a-0d03-4885-8e81-c9534bbf1071",
   "metadata": {},
   "outputs": [
    {
     "data": {
      "text/plain": [
       "3"
      ]
     },
     "execution_count": 147,
     "metadata": {},
     "output_type": "execute_result"
    }
   ],
   "source": [
    "l6 = [10,10,10,100,200,300]\n",
    "l6.count(10)"
   ]
  },
  {
   "cell_type": "code",
   "execution_count": 90,
   "id": "1998f1a8-68e6-42e2-8ed4-4465767c8454",
   "metadata": {},
   "outputs": [
    {
     "data": {
      "text/plain": [
       "5"
      ]
     },
     "execution_count": 90,
     "metadata": {},
     "output_type": "execute_result"
    }
   ],
   "source": [
    "s = 'can canner can not a can but canner can you make a can'\n",
    "l=s.split()\n",
    "l1=l.count(\"can\")\n",
    "l1"
   ]
  },
  {
   "cell_type": "code",
   "execution_count": 94,
   "id": "15a62232-40d4-4d05-be5f-e6823cb27cf9",
   "metadata": {},
   "outputs": [
    {
     "name": "stdout",
     "output_type": "stream",
     "text": [
      "can 5\n",
      "canner 2\n",
      "not 1\n",
      "a 2\n",
      "but 1\n",
      "you 1\n",
      "make 1\n"
     ]
    }
   ],
   "source": [
    "s = 'can canner can not a can but canner can you make a can'\n",
    "l=s.split()\n",
    "l1=[]\n",
    "for i in l:\n",
    "    if i not in l1:\n",
    "        print (i,l.count(i))\n",
    "        l1.append(i)"
   ]
  },
  {
   "cell_type": "code",
   "execution_count": 96,
   "id": "8ef0ab0d-cf5e-47c7-b682-f3e12fdce259",
   "metadata": {},
   "outputs": [
    {
     "ename": "SyntaxError",
     "evalue": "expected 'else' after 'if' expression (154972475.py, line 3)",
     "output_type": "error",
     "traceback": [
      "\u001b[1;36m  Cell \u001b[1;32mIn[96], line 3\u001b[1;36m\u001b[0m\n\u001b[1;33m    l1=[i,l.count(i) if i not in l1 for i in l]\u001b[0m\n\u001b[1;37m          ^\u001b[0m\n\u001b[1;31mSyntaxError\u001b[0m\u001b[1;31m:\u001b[0m expected 'else' after 'if' expression\n"
     ]
    }
   ],
   "source": [
    "s = 'can canner can not a can but canner can you make a can'\n",
    "l=s.split()\n",
    "l1=[i,l.count(i) if i not in l1 for i in l]\n",
    "# if the if statement has not in in its statement the list comp will not work "
   ]
  },
  {
   "cell_type": "code",
   "execution_count": 102,
   "id": "d50fb46e-55ef-4aa9-bc6a-d9238a20a578",
   "metadata": {},
   "outputs": [
    {
     "data": {
      "text/plain": [
       "['a', 'b', 'c', 1, 2, 3]"
      ]
     },
     "execution_count": 102,
     "metadata": {},
     "output_type": "execute_result"
    }
   ],
   "source": [
    "l1 = [1,2,3]\n",
    "l2 = ['a','b','c']\n",
    "l2.extend(l1)\n",
    "l2"
   ]
  },
  {
   "cell_type": "markdown",
   "id": "c10723de-0ad4-455f-b2b7-e362e20d6d88",
   "metadata": {},
   "source": [
    "- difference between concatitnation and extend \n",
    "- extends gives a new and add the list together\n",
    "- but in concatitnation the list will remain the same and it will not get updated"
   ]
  },
  {
   "cell_type": "code",
   "execution_count": 105,
   "id": "67d04060-be77-47c2-bc39-0c499540ddf8",
   "metadata": {},
   "outputs": [
    {
     "data": {
      "text/plain": [
       "[1, 2, 3, 'a', 'b', 'c']"
      ]
     },
     "execution_count": 105,
     "metadata": {},
     "output_type": "execute_result"
    }
   ],
   "source": [
    "l1 = [1,2,3]\n",
    "l2 = ['a','b','c']\n",
    "l1+l2"
   ]
  },
  {
   "cell_type": "code",
   "execution_count": 107,
   "id": "e9b1b8fd-10cd-4fb4-937e-4e508469259f",
   "metadata": {},
   "outputs": [
    {
     "data": {
      "text/plain": [
       "[1, 2, 3]"
      ]
     },
     "execution_count": 107,
     "metadata": {},
     "output_type": "execute_result"
    }
   ],
   "source": [
    "l1"
   ]
  },
  {
   "cell_type": "code",
   "execution_count": 125,
   "id": "0d0fd1a2-4471-4e00-ade0-3f572fae1e9f",
   "metadata": {},
   "outputs": [
    {
     "data": {
      "text/plain": [
       "[1, 2, 100, 3, 4]"
      ]
     },
     "execution_count": 125,
     "metadata": {},
     "output_type": "execute_result"
    }
   ],
   "source": [
    "l = [1,2,3,4]\n",
    "# l.append(100) This will only add the element to last of the list \n",
    "l.insert(2,100) # This will add to element to designated location in the list\n",
    "l"
   ]
  },
  {
   "cell_type": "code",
   "execution_count": 139,
   "id": "5729d673-9afb-4a21-840a-9f360fa83b8e",
   "metadata": {},
   "outputs": [
    {
     "data": {
      "text/plain": [
       "[1, 4, 7, 10, 'apple', 13, 16, 19]"
      ]
     },
     "execution_count": 139,
     "metadata": {},
     "output_type": "execute_result"
    }
   ],
   "source": [
    "l = [i for i in range (1,20,3)]\n",
    "index = l.index(10)\n",
    "l.insert(index+1,'apple')\n",
    "l"
   ]
  },
  {
   "cell_type": "code",
   "execution_count": 141,
   "id": "33738368-ddb3-40f0-b5f6-b544561af95c",
   "metadata": {},
   "outputs": [
    {
     "data": {
      "text/plain": [
       "[1, 4, 7, 10, 'apple', 13, 16]"
      ]
     },
     "execution_count": 141,
     "metadata": {},
     "output_type": "execute_result"
    }
   ],
   "source": [
    "l.pop()\n",
    "l"
   ]
  },
  {
   "cell_type": "markdown",
   "id": "886690e8-213e-46c0-bfe3-8ef3e8cb6df2",
   "metadata": {},
   "source": [
    "- pop will remove the last value\n",
    "- inside pop we have index arguement\n",
    "- by default index=-1,-1 means the last value \n",
    "- pop will remove the value, the output will overwrite\n",
    "- pop will also return the item value"
   ]
  },
  {
   "cell_type": "code",
   "execution_count": 150,
   "id": "b33b90d0-bf89-455e-8f1c-4569e368d390",
   "metadata": {},
   "outputs": [],
   "source": [
    "l6.remove(10)"
   ]
  },
  {
   "cell_type": "code",
   "execution_count": 152,
   "id": "9c586b54-0393-4ee2-ba44-54b4a74169f6",
   "metadata": {},
   "outputs": [
    {
     "data": {
      "text/plain": [
       "[10, 10, 100, 200, 300]"
      ]
     },
     "execution_count": 152,
     "metadata": {},
     "output_type": "execute_result"
    }
   ],
   "source": [
    "l6"
   ]
  },
  {
   "cell_type": "code",
   "execution_count": null,
   "id": "f08af4a4-078c-439f-ae48-5deceea8124f",
   "metadata": {},
   "outputs": [],
   "source": [
    "l6.remove(10)"
   ]
  }
 ],
 "metadata": {
  "kernelspec": {
   "display_name": "Python 3 (ipykernel)",
   "language": "python",
   "name": "python3"
  },
  "language_info": {
   "codemirror_mode": {
    "name": "ipython",
    "version": 3
   },
   "file_extension": ".py",
   "mimetype": "text/x-python",
   "name": "python",
   "nbconvert_exporter": "python",
   "pygments_lexer": "ipython3",
   "version": "3.11.7"
  }
 },
 "nbformat": 4,
 "nbformat_minor": 5
}

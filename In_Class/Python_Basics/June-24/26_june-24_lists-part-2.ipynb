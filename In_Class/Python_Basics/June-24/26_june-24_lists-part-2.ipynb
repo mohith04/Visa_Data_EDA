{
 "cells": [
  {
   "cell_type": "code",
   "execution_count": 1,
   "id": "08cfb8df-9f2b-474a-a44c-109e1b36cbbb",
   "metadata": {},
   "outputs": [],
   "source": [
    "import random\n",
    "import math\n",
    "import string\n",
    "import time"
   ]
  },
  {
   "cell_type": "code",
   "execution_count": 11,
   "id": "b06acb47-1c16-49f3-ae6b-6962085c5b15",
   "metadata": {},
   "outputs": [
    {
     "data": {
      "text/plain": [
       "[1, 4, 12, 34]"
      ]
     },
     "execution_count": 11,
     "metadata": {},
     "output_type": "execute_result"
    }
   ],
   "source": [
    "l1 = [4,12,34,1]\n",
    "l1.sort()\n",
    "l1"
   ]
  },
  {
   "cell_type": "code",
   "execution_count": 13,
   "id": "60d268d8-e4b1-4d2c-8fab-543c27d60a36",
   "metadata": {},
   "outputs": [
    {
     "data": {
      "text/plain": [
       "[34, 12, 4, 1]"
      ]
     },
     "execution_count": 13,
     "metadata": {},
     "output_type": "execute_result"
    }
   ],
   "source": [
    "l1.reverse()\n",
    "l1"
   ]
  },
  {
   "cell_type": "code",
   "execution_count": 15,
   "id": "9713e7f0-bde1-4fac-80bb-e10094521b24",
   "metadata": {},
   "outputs": [],
   "source": [
    "va = [11,2,3,4].reverse()\n",
    "va"
   ]
  },
  {
   "cell_type": "markdown",
   "id": "a5536562-5413-4507-923b-446c6f35c564",
   "metadata": {},
   "source": [
    "#### Differences btw keyword and methods\n",
    "- keywords are used for the entire python \n",
    "- sorted and reversed keywords can used for both string and list \n",
    "- every data type has its own methods\n",
    "- whenever you work on which data type you need to work on those methods only "
   ]
  },
  {
   "cell_type": "markdown",
   "id": "032edb00-c5bc-4a33-a198-8053437e46f8",
   "metadata": {},
   "source": [
    "#### del\n",
    "- if we have to delete any element in the list then use del\n",
    "- it will overwrite the list and it will give out a new list "
   ]
  },
  {
   "cell_type": "code",
   "execution_count": 30,
   "id": "76f14422-a90f-4adb-bd95-d20854c1992c",
   "metadata": {},
   "outputs": [
    {
     "data": {
      "text/plain": [
       "[2, 3, 4]"
      ]
     },
     "execution_count": 30,
     "metadata": {},
     "output_type": "execute_result"
    }
   ],
   "source": [
    "l = [1,2,3,4]\n",
    "del (l[0])\n",
    "l"
   ]
  },
  {
   "cell_type": "code",
   "execution_count": 32,
   "id": "bde630a6-47c5-41a9-89a8-4b91adc6eb9b",
   "metadata": {},
   "outputs": [
    {
     "data": {
      "text/plain": [
       "2"
      ]
     },
     "execution_count": 32,
     "metadata": {},
     "output_type": "execute_result"
    }
   ],
   "source": [
    "l[0]"
   ]
  },
  {
   "cell_type": "markdown",
   "id": "46d2545b-557b-4b55-82a0-e68f7db814a0",
   "metadata": {},
   "source": [
    "- del(l)\n",
    "- this will delete the enter list and if we try to run it will not work and will say l is not defined as l was completely deleted"
   ]
  },
  {
   "cell_type": "markdown",
   "id": "6bc3fa56-be85-4a18-bf4b-be59c05daf10",
   "metadata": {},
   "source": [
    "$zip$"
   ]
  },
  {
   "cell_type": "code",
   "execution_count": 37,
   "id": "a38291b9-3f5a-41ba-ba90-4532dce7b52c",
   "metadata": {},
   "outputs": [
    {
     "data": {
      "text/plain": [
       "[11, 14, 16]"
      ]
     },
     "execution_count": 37,
     "metadata": {},
     "output_type": "execute_result"
    }
   ],
   "source": [
    "l1 = [1,2,3]\n",
    "l2 = [10,12,13]\n",
    "#out=[11,14,16]\n",
    "out = []\n",
    "for i in range (len(l1)):\n",
    "    out.append(l1[i]+l2[i])\n",
    "out"
   ]
  },
  {
   "cell_type": "code",
   "execution_count": 45,
   "id": "4fbbcddb-ee41-4726-8ad4-9023591ab11b",
   "metadata": {},
   "outputs": [
    {
     "data": {
      "text/plain": [
       "[11, 14, 16]"
      ]
     },
     "execution_count": 45,
     "metadata": {},
     "output_type": "execute_result"
    }
   ],
   "source": [
    "out1 = [(l1[i]+l2[i]) for i in range (len(l1))]\n",
    "out1"
   ]
  },
  {
   "cell_type": "markdown",
   "id": "558f0606-b642-4c6e-9c98-26e6782e13ef",
   "metadata": {},
   "source": [
    "- if we have to use zip try this "
   ]
  },
  {
   "cell_type": "code",
   "execution_count": 48,
   "id": "a19c5bcf-6511-4df8-b7b2-8dfb7a561808",
   "metadata": {},
   "outputs": [
    {
     "name": "stdout",
     "output_type": "stream",
     "text": [
      "12 15\n",
      "13 16\n",
      "14 17\n"
     ]
    }
   ],
   "source": [
    "l3 = [12,13,14]\n",
    "l4 = [15,16,17]\n",
    "for i,j in zip(l3,l4):\n",
    "    print (i,j)"
   ]
  },
  {
   "cell_type": "markdown",
   "id": "dc47e74f-d8ad-4cbc-8538-b61dcdb5bcd8",
   "metadata": {},
   "source": [
    "#### Dictionary \n",
    "- Dictionary is represented with curly braces\n",
    "- strins using quotes\n",
    "- list using square blocks\n",
    "- type using parnthses\n",
    "- Dictionary is always a pair key and value\n",
    "- syntax :\n",
    "    - {key:value}\n",
    "- keys are very important\n",
    "- keys should not be duplicate\n",
    "- values can be dulpicate\n",
    "- which means different keys can have the same value\n",
    "- tuple can be a key"
   ]
  },
  {
   "cell_type": "code",
   "execution_count": 52,
   "id": "d5ba5693-f90f-4402-8638-319ebc33a789",
   "metadata": {},
   "outputs": [
    {
     "data": {
      "text/plain": [
       "{'Manish': 25, 'Shubam': 20, 'Govindh': 15}"
      ]
     },
     "execution_count": 52,
     "metadata": {},
     "output_type": "execute_result"
    }
   ],
   "source": [
    "dict1 = {'Manish':25,'Shubam':20,'Govindh':15}\n",
    "dict1"
   ]
  },
  {
   "cell_type": "markdown",
   "id": "f6b03414-c430-4ff7-900a-e2948fa7d674",
   "metadata": {},
   "source": [
    "- Here keys are :'Manish','Shubam','Govindh'\n",
    "- and values are : 25,20,15\n",
    "- and \"manish\" and 25 are called key value pair"
   ]
  },
  {
   "cell_type": "code",
   "execution_count": 55,
   "id": "764daf02-be89-45c8-8555-623d4bebffbb",
   "metadata": {},
   "outputs": [
    {
     "data": {
      "text/plain": [
       "dict"
      ]
     },
     "execution_count": 55,
     "metadata": {},
     "output_type": "execute_result"
    }
   ],
   "source": [
    "type(dict1)"
   ]
  },
  {
   "cell_type": "code",
   "execution_count": 57,
   "id": "91a587d5-957d-4c54-b625-2f3fa194867e",
   "metadata": {},
   "outputs": [
    {
     "data": {
      "text/plain": [
       "{'Manish': 20}"
      ]
     },
     "execution_count": 57,
     "metadata": {},
     "output_type": "execute_result"
    }
   ],
   "source": [
    "dict2 = {'Manish':25,'Manish':20}\n",
    "dict2"
   ]
  },
  {
   "cell_type": "code",
   "execution_count": 61,
   "id": "5fd11ed0-7c83-474a-9b5d-13b834fe7b73",
   "metadata": {},
   "outputs": [
    {
     "data": {
      "text/plain": [
       "{25: 'Manish', 'Manish': '20'}"
      ]
     },
     "execution_count": 61,
     "metadata": {},
     "output_type": "execute_result"
    }
   ],
   "source": [
    "dict3 = {25:'Manish','Manish':'20'}\n",
    "dict3"
   ]
  },
  {
   "cell_type": "code",
   "execution_count": 64,
   "id": "29bed146-4993-459a-8c48-afc59ceea075",
   "metadata": {},
   "outputs": [
    {
     "data": {
      "text/plain": [
       "{'Manish': 25, 'Shubam': 20, 'Govindh': 20}"
      ]
     },
     "execution_count": 64,
     "metadata": {},
     "output_type": "execute_result"
    }
   ],
   "source": [
    "dict4 = {'Manish':25,'Shubam':20,'Govindh':20}\n",
    "dict4"
   ]
  },
  {
   "cell_type": "code",
   "execution_count": 67,
   "id": "ffd2c605-01ef-4ff9-bbf6-e74f6d9d6fc1",
   "metadata": {},
   "outputs": [
    {
     "data": {
      "text/plain": [
       "'Shubam'"
      ]
     },
     "execution_count": 67,
     "metadata": {},
     "output_type": "execute_result"
    }
   ],
   "source": [
    "max(dict1)"
   ]
  },
  {
   "cell_type": "code",
   "execution_count": 69,
   "id": "f748d39c-274c-438b-b1ba-5551b2eaddf3",
   "metadata": {},
   "outputs": [
    {
     "data": {
      "text/plain": [
       "'Govindh'"
      ]
     },
     "execution_count": 69,
     "metadata": {},
     "output_type": "execute_result"
    }
   ],
   "source": [
    "min(dict1)"
   ]
  },
  {
   "cell_type": "code",
   "execution_count": 71,
   "id": "f7195701-54d3-4f51-aa38-5011869f112f",
   "metadata": {},
   "outputs": [
    {
     "data": {
      "text/plain": [
       "3"
      ]
     },
     "execution_count": 71,
     "metadata": {},
     "output_type": "execute_result"
    }
   ],
   "source": [
    "len(dict1)"
   ]
  },
  {
   "cell_type": "code",
   "execution_count": 73,
   "id": "1184a01a-a787-4f12-a555-9dbf51d25e95",
   "metadata": {},
   "outputs": [
    {
     "data": {
      "text/plain": [
       "dict"
      ]
     },
     "execution_count": 73,
     "metadata": {},
     "output_type": "execute_result"
    }
   ],
   "source": [
    "type(dict1)"
   ]
  },
  {
   "cell_type": "code",
   "execution_count": 75,
   "id": "20162818-e289-4bb8-abef-0b5a7e770cd8",
   "metadata": {},
   "outputs": [
    {
     "data": {
      "text/plain": [
       "<dict_reversekeyiterator at 0x255ddcbef20>"
      ]
     },
     "execution_count": 75,
     "metadata": {},
     "output_type": "execute_result"
    }
   ],
   "source": [
    "reversed(dict1)"
   ]
  },
  {
   "cell_type": "code",
   "execution_count": 95,
   "id": "d299deab-907f-4f44-97b5-34b4883a3ed4",
   "metadata": {},
   "outputs": [
    {
     "ename": "TypeError",
     "evalue": "list.reverse() takes no arguments (1 given)",
     "output_type": "error",
     "traceback": [
      "\u001b[1;31m---------------------------------------------------------------------------\u001b[0m",
      "\u001b[1;31mTypeError\u001b[0m                                 Traceback (most recent call last)",
      "Cell \u001b[1;32mIn[95], line 3\u001b[0m\n\u001b[0;32m      1\u001b[0m out1 \u001b[38;5;241m=\u001b[39m []\n\u001b[0;32m      2\u001b[0m \u001b[38;5;28;01mfor\u001b[39;00m i \u001b[38;5;129;01min\u001b[39;00m (dict1):\n\u001b[1;32m----> 3\u001b[0m     out\u001b[38;5;241m.\u001b[39mreverse(dict1)\n",
      "\u001b[1;31mTypeError\u001b[0m: list.reverse() takes no arguments (1 given)"
     ]
    }
   ],
   "source": [
    "out1 = []\n",
    "for i in (dict1):\n",
    "    out.reverse(dict1)"
   ]
  },
  {
   "cell_type": "code",
   "execution_count": null,
   "id": "7d0989ec-28be-488a-9b48-739b61149237",
   "metadata": {},
   "outputs": [],
   "source": []
  }
 ],
 "metadata": {
  "kernelspec": {
   "display_name": "Python 3 (ipykernel)",
   "language": "python",
   "name": "python3"
  },
  "language_info": {
   "codemirror_mode": {
    "name": "ipython",
    "version": 3
   },
   "file_extension": ".py",
   "mimetype": "text/x-python",
   "name": "python",
   "nbconvert_exporter": "python",
   "pygments_lexer": "ipython3",
   "version": "3.11.7"
  }
 },
 "nbformat": 4,
 "nbformat_minor": 5
}

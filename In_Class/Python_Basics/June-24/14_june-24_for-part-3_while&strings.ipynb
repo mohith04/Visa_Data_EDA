{
 "cells": [
  {
   "cell_type": "markdown",
   "id": "e896fc77",
   "metadata": {},
   "source": [
    "### For loop\n",
    "- to print a string in a varibale using for for loop"
   ]
  },
  {
   "cell_type": "code",
   "execution_count": 2,
   "id": "579f8971",
   "metadata": {},
   "outputs": [
    {
     "name": "stdout",
     "output_type": "stream",
     "text": [
      "m o h i t h "
     ]
    }
   ],
   "source": [
    "name = \"mohith\"\n",
    "for i in name:\n",
    "    print (i,end=\" \")"
   ]
  },
  {
   "cell_type": "markdown",
   "id": "f205b045",
   "metadata": {},
   "source": [
    "- ASCII - American Standard Code for Information Interchange"
   ]
  },
  {
   "cell_type": "markdown",
   "id": "c6a5be5c",
   "metadata": {},
   "source": [
    "#### ord - chr \n",
    "- ord is the keyword which provide ascii number of the charcters \n",
    "- chr is a keyword which provides charecters for the given ascii value "
   ]
  },
  {
   "cell_type": "code",
   "execution_count": 3,
   "id": "bc723786",
   "metadata": {},
   "outputs": [
    {
     "data": {
      "text/plain": [
       "(97, 65)"
      ]
     },
     "execution_count": 3,
     "metadata": {},
     "output_type": "execute_result"
    }
   ],
   "source": [
    "ord ('a'),ord ('A')"
   ]
  },
  {
   "cell_type": "code",
   "execution_count": 5,
   "id": "06c410a3",
   "metadata": {},
   "outputs": [
    {
     "data": {
      "text/plain": [
       "('9', 'd')"
      ]
     },
     "execution_count": 5,
     "metadata": {},
     "output_type": "execute_result"
    }
   ],
   "source": [
    "chr (57), chr (100)"
   ]
  },
  {
   "cell_type": "markdown",
   "id": "4f65a831",
   "metadata": {},
   "source": [
    "- import package name string "
   ]
  },
  {
   "cell_type": "code",
   "execution_count": 9,
   "id": "0c9d41f2",
   "metadata": {},
   "outputs": [],
   "source": [
    "import string"
   ]
  },
  {
   "cell_type": "code",
   "execution_count": 12,
   "id": "23d6c676",
   "metadata": {},
   "outputs": [
    {
     "data": {
      "text/plain": [
       "['Formatter',\n",
       " 'Template',\n",
       " '_ChainMap',\n",
       " '__all__',\n",
       " '__builtins__',\n",
       " '__cached__',\n",
       " '__doc__',\n",
       " '__file__',\n",
       " '__loader__',\n",
       " '__name__',\n",
       " '__package__',\n",
       " '__spec__',\n",
       " '_re',\n",
       " '_sentinel_dict',\n",
       " '_string',\n",
       " 'ascii_letters',\n",
       " 'ascii_lowercase',\n",
       " 'ascii_uppercase',\n",
       " 'capwords',\n",
       " 'digits',\n",
       " 'hexdigits',\n",
       " 'octdigits',\n",
       " 'printable',\n",
       " 'punctuation',\n",
       " 'whitespace']"
      ]
     },
     "execution_count": 12,
     "metadata": {},
     "output_type": "execute_result"
    }
   ],
   "source": [
    "dir (string)"
   ]
  },
  {
   "cell_type": "code",
   "execution_count": 13,
   "id": "dc6def98",
   "metadata": {},
   "outputs": [
    {
     "data": {
      "text/plain": [
       "'ABCDEFGHIJKLMNOPQRSTUVWXYZ'"
      ]
     },
     "execution_count": 13,
     "metadata": {},
     "output_type": "execute_result"
    }
   ],
   "source": [
    "string.ascii_uppercase"
   ]
  },
  {
   "cell_type": "code",
   "execution_count": 31,
   "id": "50e89f2e",
   "metadata": {},
   "outputs": [
    {
     "name": "stdout",
     "output_type": "stream",
     "text": [
      "The ascii value of a is 97\n",
      "The ascii value of b is 98\n",
      "The ascii value of c is 99\n",
      "The ascii value of d is 100\n",
      "The ascii value of e is 101\n",
      "The ascii value of f is 102\n",
      "The ascii value of g is 103\n",
      "The ascii value of h is 104\n",
      "The ascii value of i is 105\n",
      "The ascii value of j is 106\n",
      "The ascii value of k is 107\n",
      "The ascii value of l is 108\n",
      "The ascii value of m is 109\n",
      "The ascii value of n is 110\n",
      "The ascii value of o is 111\n",
      "The ascii value of p is 112\n",
      "The ascii value of q is 113\n",
      "The ascii value of r is 114\n",
      "The ascii value of s is 115\n",
      "The ascii value of t is 116\n",
      "The ascii value of u is 117\n",
      "The ascii value of v is 118\n",
      "The ascii value of w is 119\n",
      "The ascii value of x is 120\n",
      "The ascii value of y is 121\n",
      "The ascii value of z is 122\n",
      "The ascii value of A is 65\n",
      "The ascii value of B is 66\n",
      "The ascii value of C is 67\n",
      "The ascii value of D is 68\n",
      "The ascii value of E is 69\n",
      "The ascii value of F is 70\n",
      "The ascii value of G is 71\n",
      "The ascii value of H is 72\n",
      "The ascii value of I is 73\n",
      "The ascii value of J is 74\n",
      "The ascii value of K is 75\n",
      "The ascii value of L is 76\n",
      "The ascii value of M is 77\n",
      "The ascii value of N is 78\n",
      "The ascii value of O is 79\n",
      "The ascii value of P is 80\n",
      "The ascii value of Q is 81\n",
      "The ascii value of R is 82\n",
      "The ascii value of S is 83\n",
      "The ascii value of T is 84\n",
      "The ascii value of U is 85\n",
      "The ascii value of V is 86\n",
      "The ascii value of W is 87\n",
      "The ascii value of X is 88\n",
      "The ascii value of Y is 89\n",
      "The ascii value of Z is 90\n"
     ]
    }
   ],
   "source": [
    "def ascii_strings ():\n",
    "#     stri = (string.ascii_letters)\n",
    "    for i in (string.ascii_letters):\n",
    "        print (f\"The ascii value of {i} is {ord (i)}\")\n",
    "        \n",
    "ascii_strings()"
   ]
  },
  {
   "cell_type": "code",
   "execution_count": 39,
   "id": "342d13cd",
   "metadata": {},
   "outputs": [
    {
     "name": "stdout",
     "output_type": "stream",
     "text": [
      "49:1 50:2 51:3 52:4 53:5 54:6 55:7 56:8 57:9 58:: 59:; 60:< 61:= 62:> 63:? 64:@ 65:A 66:B 67:C 68:D 69:E 70:F 71:G 72:H 73:I 74:J 75:K 76:L 77:M 78:N 79:O 80:P 81:Q 82:R 83:S 84:T 85:U 86:V 87:W 88:X 89:Y 90:Z 91:[ 92:\\ 93:] 94:^ 95:_ 96:` 97:a 98:b 99:c "
     ]
    }
   ],
   "source": [
    "def find_the_ascii_value ():\n",
    "    for i in range (49,100):\n",
    "        print(f\"{i}:{chr(i)}\",end=\" \")\n",
    "\n",
    "find_the_ascii_value()"
   ]
  },
  {
   "cell_type": "markdown",
   "id": "ddefd128",
   "metadata": {},
   "source": [
    "### While loop \n",
    "- if you want to apply unlimited itterations we choose while loop\n",
    "- any loop we required 3 things \n",
    "    - intial point or start point\n",
    "    - condtion to stop \n",
    "    - increament or decrement \n",
    "- in for loop we use all the 3 in a single line\n",
    "- in while loop we use this in 3 different lines"
   ]
  },
  {
   "cell_type": "markdown",
   "id": "17304d27",
   "metadata": {},
   "source": [
    "##### syntax for while loop\n",
    "- intial point\n",
    "- while (condtion):\n",
    "    - statements \n",
    "    - increment or decrement \n",
    "    "
   ]
  },
  {
   "cell_type": "code",
   "execution_count": 4,
   "id": "99243728",
   "metadata": {},
   "outputs": [
    {
     "name": "stdout",
     "output_type": "stream",
     "text": [
      "1 2 3 4 5 "
     ]
    }
   ],
   "source": [
    "i = 1\n",
    "while (i < 6):\n",
    "    print (i,end=\" \")\n",
    "    i = i + 1"
   ]
  },
  {
   "cell_type": "code",
   "execution_count": 7,
   "id": "0df7ac19",
   "metadata": {},
   "outputs": [
    {
     "name": "stdout",
     "output_type": "stream",
     "text": [
      "enter the natural numbers to be displayed: 123\n",
      "1 2 3 4 5 6 7 8 9 10 11 12 13 14 15 16 17 18 19 20 21 22 23 24 25 26 27 28 29 30 31 32 33 34 35 36 37 38 39 40 41 42 43 44 45 46 47 48 49 50 51 52 53 54 55 56 57 58 59 60 61 62 63 64 65 66 67 68 69 70 71 72 73 74 75 76 77 78 79 80 81 82 83 84 85 86 87 88 89 90 91 92 93 94 95 96 97 98 99 100 101 102 103 104 105 106 107 108 109 110 111 112 113 114 115 116 117 118 119 120 121 122 123 "
     ]
    }
   ],
   "source": [
    "i = 1\n",
    "n = eval (input(\"enter the natural numbers to be displayed: \"))\n",
    "while (i <= n):\n",
    "    print (i,end=\" \")\n",
    "    i = i + 1"
   ]
  },
  {
   "cell_type": "markdown",
   "id": "38a87508",
   "metadata": {},
   "source": [
    "#### Infinite loop \n",
    "- when ever infinite loop occurs\n",
    "- apply the if condition and then apply break "
   ]
  },
  {
   "cell_type": "code",
   "execution_count": 9,
   "id": "8fcafe84",
   "metadata": {},
   "outputs": [
    {
     "name": "stdout",
     "output_type": "stream",
     "text": [
      "1 2 3 4 5 6 7 8 9 10 11 12 13 14 15 16 17 18 19 20 21 22 23 24 25 26 27 28 29 30 31 32 33 34 35 36 37 38 39 40 41 42 43 44 45 46 47 48 49 50 51 52 53 54 55 56 57 58 59 60 61 62 63 64 65 66 67 68 69 70 71 72 73 74 75 76 77 78 79 80 81 82 83 84 85 86 87 88 89 90 91 92 93 94 95 96 97 98 99 100 101 102 103 104 105 106 107 108 109 110 111 112 113 114 115 116 117 118 119 120 121 122 123 124 125 126 127 128 129 130 131 132 133 134 135 136 137 138 139 140 141 142 143 144 145 146 147 148 149 "
     ]
    }
   ],
   "source": [
    "i=1\n",
    "while i != 0:\n",
    "    print (i,end=\" \")\n",
    "    i = i + 1\n",
    "    if (i == 150):\n",
    "        break"
   ]
  },
  {
   "cell_type": "code",
   "execution_count": 10,
   "id": "69ddd5f5",
   "metadata": {},
   "outputs": [
    {
     "name": "stdout",
     "output_type": "stream",
     "text": [
      "1 2 3 4 5 6 7 8 9 10 11 12 13 14 "
     ]
    }
   ],
   "source": [
    "i=1\n",
    "while True:\n",
    "    print (i,end=\" \")\n",
    "    i = i + 1\n",
    "    if (i == 15):\n",
    "        break"
   ]
  },
  {
   "cell_type": "code",
   "execution_count": 13,
   "id": "850381fd",
   "metadata": {},
   "outputs": [
    {
     "name": "stdout",
     "output_type": "stream",
     "text": [
      "-10 -9 -8 -7 -6 -5 -4 -3 -2 -1 "
     ]
    }
   ],
   "source": [
    "#WAP to print -10 to - 1\n",
    "# using for and while loop \n",
    "for i in range (-10,0,1):\n",
    "    print (i,end=\" \")"
   ]
  },
  {
   "cell_type": "code",
   "execution_count": 16,
   "id": "ed2adc3e",
   "metadata": {},
   "outputs": [
    {
     "name": "stdout",
     "output_type": "stream",
     "text": [
      "-10\n",
      "-9\n",
      "-8\n",
      "-7\n",
      "-6\n",
      "-5\n",
      "-4\n",
      "-3\n",
      "-2\n",
      "-1\n"
     ]
    }
   ],
   "source": [
    "#while loop \n",
    "i = -10\n",
    "while (i < 0):\n",
    "    print (i)\n",
    "    i = i + 1"
   ]
  },
  {
   "cell_type": "code",
   "execution_count": 15,
   "id": "e4b871c0",
   "metadata": {},
   "outputs": [
    {
     "name": "stdout",
     "output_type": "stream",
     "text": [
      "-1 -2 -3 -4 -5 -6 -7 -8 -9 -10 "
     ]
    }
   ],
   "source": [
    "#WAP to print -1 to - 10\n",
    "# using for and while loop \n",
    "for i in range (-1,-11,-1):\n",
    "    print (i,end=\" \")"
   ]
  },
  {
   "cell_type": "code",
   "execution_count": 2,
   "id": "a1c06c60",
   "metadata": {},
   "outputs": [
    {
     "name": "stdout",
     "output_type": "stream",
     "text": [
      "-1\n",
      "-2\n",
      "-3\n",
      "-4\n",
      "-5\n",
      "-6\n",
      "-7\n",
      "-8\n",
      "-9\n",
      "-10\n"
     ]
    }
   ],
   "source": [
    "#while loop \n",
    "i = -1\n",
    "while (i < 0):\n",
    "    print (i)\n",
    "    i = i - 1\n",
    "    if (i == -11):\n",
    "        break"
   ]
  },
  {
   "cell_type": "code",
   "execution_count": 1,
   "id": "7644be4f",
   "metadata": {},
   "outputs": [
    {
     "name": "stdout",
     "output_type": "stream",
     "text": [
      "10\n",
      "9\n",
      "8\n",
      "7\n",
      "6\n",
      "5\n",
      "4\n",
      "3\n",
      "2\n",
      "1\n"
     ]
    }
   ],
   "source": [
    "#WAP to print 10 to 1\n",
    "# using for and while loop\n",
    "for i in range (10,0,-1):\n",
    "    print (i,end=\" \")"
   ]
  },
  {
   "cell_type": "code",
   "execution_count": 1,
   "id": "88e2d8c9",
   "metadata": {},
   "outputs": [
    {
     "name": "stdout",
     "output_type": "stream",
     "text": [
      "10 9 8 7 6 5 4 3 2 1 "
     ]
    }
   ],
   "source": [
    "#while loop \n",
    "i = 10\n",
    "while (i > 0):\n",
    "    print (i,end=\" \")\n",
    "    i = i - 1\n",
    "    if (i == 0):\n",
    "        break"
   ]
  },
  {
   "cell_type": "markdown",
   "id": "f294aada",
   "metadata": {},
   "source": [
    "- For loop assignment \n",
    "- all for lopp class rom qns apply while answers \n"
   ]
  },
  {
   "cell_type": "code",
   "execution_count": 3,
   "id": "cec418d3",
   "metadata": {},
   "outputs": [
    {
     "name": "stdout",
     "output_type": "stream",
     "text": [
      "11 is an odd number\n",
      "12 is an even number\n",
      "13 is an odd number\n",
      "14 is an even number\n",
      "15 is an odd number\n",
      "16 is an even number\n",
      "17 is an odd number\n",
      "18 is an even number\n",
      "19 is an odd number\n",
      "20 is an even number\n",
      "21 is an odd number\n",
      "22 is an even number\n"
     ]
    }
   ],
   "source": [
    "i = 11\n",
    "while i <=22:\n",
    "    if i % 2==0:\n",
    "        print (i,\"is an even number\")\n",
    "    else:\n",
    "        print (i,\"is an odd number\")\n",
    "    i = i + 1"
   ]
  },
  {
   "cell_type": "code",
   "execution_count": null,
   "id": "96ca6c09",
   "metadata": {},
   "outputs": [],
   "source": []
  }
 ],
 "metadata": {
  "kernelspec": {
   "display_name": "Python 3 (ipykernel)",
   "language": "python",
   "name": "python3"
  },
  "language_info": {
   "codemirror_mode": {
    "name": "ipython",
    "version": 3
   },
   "file_extension": ".py",
   "mimetype": "text/x-python",
   "name": "python",
   "nbconvert_exporter": "python",
   "pygments_lexer": "ipython3",
   "version": "3.11.7"
  }
 },
 "nbformat": 4,
 "nbformat_minor": 5
}

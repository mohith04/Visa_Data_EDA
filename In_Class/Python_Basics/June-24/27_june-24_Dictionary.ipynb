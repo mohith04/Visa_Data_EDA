{
 "cells": [
  {
   "cell_type": "markdown",
   "id": "0720e54d-2f51-44f9-985b-db518a80dc01",
   "metadata": {},
   "source": [
    "#### Indexing in dictionary\n",
    "- dictionary is a **key-value** pair\n",
    "- there is no concept of index as number\n",
    "- if you want to retrive any value we need to provide key as index\n",
    "- we can access values using only corresponding **keys**"
   ]
  },
  {
   "cell_type": "code",
   "execution_count": 6,
   "id": "d79dda10-e0a3-4740-acf7-9e72a8c1ccfd",
   "metadata": {},
   "outputs": [],
   "source": [
    "import random\n",
    "import math\n",
    "import string\n",
    "import time"
   ]
  },
  {
   "cell_type": "code",
   "execution_count": 8,
   "id": "28cf2b1e-5975-4f18-8bdc-42dc4f52f6c4",
   "metadata": {},
   "outputs": [
    {
     "name": "stdout",
     "output_type": "stream",
     "text": [
      "25\n",
      "20\n",
      "15\n"
     ]
    }
   ],
   "source": [
    "dict1 = {'Manish':25,'Shubam':20,'Govindh':15}\n",
    "print (dict1['Manish'])\n",
    "print (dict1['Shubam'])\n",
    "print (dict1['Govindh'])"
   ]
  },
  {
   "cell_type": "code",
   "execution_count": 16,
   "id": "bdc4a1a9-09d1-4312-9b96-68972532cd45",
   "metadata": {},
   "outputs": [
    {
     "name": "stdout",
     "output_type": "stream",
     "text": [
      "The name is Manish and there age is 25\n",
      "The name is Shubam and there age is 20\n",
      "The name is Govindh and there age is 15\n"
     ]
    }
   ],
   "source": [
    "for i in dict1:\n",
    "    print (\"The name is\",i,'and there age is',dict1[i])\n",
    "# i is the key that it takes as i and the contents of i is values "
   ]
  },
  {
   "cell_type": "code",
   "execution_count": 22,
   "id": "f9a71182-964c-434e-8299-cdacc8a8222d",
   "metadata": {},
   "outputs": [
    {
     "data": {
      "text/plain": [
       "['apple', 'mango']"
      ]
     },
     "execution_count": 22,
     "metadata": {},
     "output_type": "execute_result"
    }
   ],
   "source": [
    "# accessing elements \n",
    "d1 = {'fruites':['apple','mango']}\n",
    "d1['fruites']"
   ]
  },
  {
   "cell_type": "code",
   "execution_count": 24,
   "id": "e1a585ee-93d7-4888-876e-9fc7fe6fce00",
   "metadata": {},
   "outputs": [
    {
     "data": {
      "text/plain": [
       "'apple'"
      ]
     },
     "execution_count": 24,
     "metadata": {},
     "output_type": "execute_result"
    }
   ],
   "source": [
    "d1 = {'fruites':['apple']}\n",
    "d1['fruites'][0]"
   ]
  },
  {
   "cell_type": "markdown",
   "id": "a5adfd52-d311-4822-9840-dd8febf5386e",
   "metadata": {},
   "source": [
    "- the first one access only the entire string\n",
    "- but we added the index of list inside the dictionary"
   ]
  },
  {
   "cell_type": "code",
   "execution_count": 33,
   "id": "9f66dd62-abce-4766-bca1-d5b4d02009a7",
   "metadata": {},
   "outputs": [],
   "source": [
    "d2 = {'fruites':{'apple':[\n",
    "        {'Kashmir':'India'},\n",
    "        {'Hydrabad':'Telegana'}\n",
    "    ]}}"
   ]
  },
  {
   "cell_type": "code",
   "execution_count": 37,
   "id": "b7935e2e-e885-401f-ba4f-411b43bddaf3",
   "metadata": {},
   "outputs": [
    {
     "data": {
      "text/plain": [
       "'India'"
      ]
     },
     "execution_count": 37,
     "metadata": {},
     "output_type": "execute_result"
    }
   ],
   "source": [
    "d2 ['fruites']['apple'][0]['Kashmir']"
   ]
  },
  {
   "cell_type": "code",
   "execution_count": 39,
   "id": "9d21c67f-f013-432e-a7f7-318453eb75b2",
   "metadata": {},
   "outputs": [
    {
     "data": {
      "text/plain": [
       "'Telegana'"
      ]
     },
     "execution_count": 39,
     "metadata": {},
     "output_type": "execute_result"
    }
   ],
   "source": [
    "d2 ['fruites']['apple'][1]['Hydrabad']"
   ]
  },
  {
   "cell_type": "code",
   "execution_count": 43,
   "id": "b77d84a2-87b2-4083-b264-c688a3c78b28",
   "metadata": {},
   "outputs": [],
   "source": [
    "d3 = {'Fruites':{'Mango':{'Benganpalli':{'Nagpur market':{'MH':{'Shivaji':'The boss'}}}}}}"
   ]
  },
  {
   "cell_type": "code",
   "execution_count": 49,
   "id": "7e5fe918-a242-4e41-9a61-7c324d6f4fe2",
   "metadata": {},
   "outputs": [
    {
     "data": {
      "text/plain": [
       "'The boss'"
      ]
     },
     "execution_count": 49,
     "metadata": {},
     "output_type": "execute_result"
    }
   ],
   "source": [
    "d3['Fruites']['Mango']['Benganpalli']['Nagpur market']['MH']['Shivaji']"
   ]
  },
  {
   "cell_type": "markdown",
   "id": "dcd4aef3-0958-4af0-9503-e941c3296d83",
   "metadata": {},
   "source": [
    "##### how to create empty dictionry \n",
    "- it is very important to know how to make empty list \n",
    "- how to make empty string\n",
    "- how to make empty dictionry "
   ]
  },
  {
   "cell_type": "code",
   "execution_count": 52,
   "id": "676fa20f-649b-4736-a75f-5111b1efaaad",
   "metadata": {},
   "outputs": [
    {
     "data": {
      "text/plain": [
       "'python'"
      ]
     },
     "execution_count": 52,
     "metadata": {},
     "output_type": "execute_result"
    }
   ],
   "source": [
    "str1 = 'python'\n",
    "str2 = ''\n",
    "for i in str1:\n",
    "    str2 = str2 + i\n",
    "\n",
    "str2"
   ]
  },
  {
   "cell_type": "code",
   "execution_count": 54,
   "id": "fa0f91b0-c133-43c1-9e18-83c7adbd8e21",
   "metadata": {},
   "outputs": [
    {
     "data": {
      "text/plain": [
       "[1, 2, 3, 4]"
      ]
     },
     "execution_count": 54,
     "metadata": {},
     "output_type": "execute_result"
    }
   ],
   "source": [
    "l1 = [1,2,3,4]\n",
    "l2 = []\n",
    "for i in l1:\n",
    "    l2.append(i)\n",
    "l2"
   ]
  },
  {
   "cell_type": "code",
   "execution_count": 62,
   "id": "760be73c-f650-4411-abec-6f335cbf37b0",
   "metadata": {},
   "outputs": [
    {
     "data": {
      "text/plain": [
       "{'Ramesh': 50, 'Suresh': 100, 'Sathish': 150, 'Manish': 200}"
      ]
     },
     "execution_count": 62,
     "metadata": {},
     "output_type": "execute_result"
    }
   ],
   "source": [
    "d={}\n",
    "d['Ramesh']=50\n",
    "d['Suresh']=100\n",
    "d['Sathish']=150\n",
    "d['Manish']=200\n",
    "d"
   ]
  },
  {
   "cell_type": "markdown",
   "id": "8d021efb-eadc-44e0-8643-e6d89a43e7aa",
   "metadata": {},
   "source": [
    "### Convert string to list"
   ]
  },
  {
   "cell_type": "code",
   "execution_count": 65,
   "id": "a6eb033d-64b1-4407-ba24-52426358d3d6",
   "metadata": {},
   "outputs": [
    {
     "data": {
      "text/plain": [
       "['hi', 'how', 'are', 'you']"
      ]
     },
     "execution_count": 65,
     "metadata": {},
     "output_type": "execute_result"
    }
   ],
   "source": [
    "str3 = \"hi how are you\"\n",
    "l=str3.split()\n",
    "l"
   ]
  },
  {
   "cell_type": "markdown",
   "id": "84180fb6-53db-435e-8dba-d0f58a9fb190",
   "metadata": {},
   "source": [
    "- npw to join the list to string "
   ]
  },
  {
   "cell_type": "markdown",
   "id": "4cb830ac-2811-47c1-863b-4e73b6c0fcf9",
   "metadata": {},
   "source": [
    "##### List to string"
   ]
  },
  {
   "cell_type": "code",
   "execution_count": 73,
   "id": "cbdd3fd5-35d8-4bf3-b5f1-2bfdc5eebdf3",
   "metadata": {},
   "outputs": [
    {
     "data": {
      "text/plain": [
       "'hi how are you'"
      ]
     },
     "execution_count": 73,
     "metadata": {},
     "output_type": "execute_result"
    }
   ],
   "source": [
    "l1 = ['hi', 'how', 'are', 'you']\n",
    "' '.join(l1)"
   ]
  },
  {
   "cell_type": "markdown",
   "id": "25dd5606-e2a7-4b5a-b789-9dfe3d286070",
   "metadata": {},
   "source": [
    "#### Converting from list to dictionary"
   ]
  },
  {
   "cell_type": "code",
   "execution_count": 76,
   "id": "5fae9e93-1ecd-4d31-a6d2-961c3823a954",
   "metadata": {},
   "outputs": [
    {
     "data": {
      "text/plain": [
       "{'Ramesh': 25, 'Suresh': 30, 'Sathish': 45, 'Manish': 50}"
      ]
     },
     "execution_count": 76,
     "metadata": {},
     "output_type": "execute_result"
    }
   ],
   "source": [
    "name = ['Ramesh','Suresh','Sathish','Manish']\n",
    "age = [25,30,45,50]\n",
    "dict1={}\n",
    "for i,j in zip (name,age):\n",
    "    d[i]=j\n",
    "\n",
    "d"
   ]
  },
  {
   "cell_type": "code",
   "execution_count": 86,
   "id": "f9cc209c-676d-4f30-bfee-3ad68e0cfbb9",
   "metadata": {},
   "outputs": [
    {
     "data": {
      "text/plain": [
       "['__add__',\n",
       " '__class__',\n",
       " '__contains__',\n",
       " '__delattr__',\n",
       " '__dir__',\n",
       " '__doc__',\n",
       " '__eq__',\n",
       " '__format__',\n",
       " '__ge__',\n",
       " '__getattribute__',\n",
       " '__getitem__',\n",
       " '__getnewargs__',\n",
       " '__getstate__',\n",
       " '__gt__',\n",
       " '__hash__',\n",
       " '__init__',\n",
       " '__init_subclass__',\n",
       " '__iter__',\n",
       " '__le__',\n",
       " '__len__',\n",
       " '__lt__',\n",
       " '__mod__',\n",
       " '__mul__',\n",
       " '__ne__',\n",
       " '__new__',\n",
       " '__reduce__',\n",
       " '__reduce_ex__',\n",
       " '__repr__',\n",
       " '__rmod__',\n",
       " '__rmul__',\n",
       " '__setattr__',\n",
       " '__sizeof__',\n",
       " '__str__',\n",
       " '__subclasshook__',\n",
       " 'capitalize',\n",
       " 'casefold',\n",
       " 'center',\n",
       " 'count',\n",
       " 'encode',\n",
       " 'endswith',\n",
       " 'expandtabs',\n",
       " 'find',\n",
       " 'format',\n",
       " 'format_map',\n",
       " 'index',\n",
       " 'isalnum',\n",
       " 'isalpha',\n",
       " 'isascii',\n",
       " 'isdecimal',\n",
       " 'isdigit',\n",
       " 'isidentifier',\n",
       " 'islower',\n",
       " 'isnumeric',\n",
       " 'isprintable',\n",
       " 'isspace',\n",
       " 'istitle',\n",
       " 'isupper',\n",
       " 'join',\n",
       " 'ljust',\n",
       " 'lower',\n",
       " 'lstrip',\n",
       " 'maketrans',\n",
       " 'partition',\n",
       " 'removeprefix',\n",
       " 'removesuffix',\n",
       " 'replace',\n",
       " 'rfind',\n",
       " 'rindex',\n",
       " 'rjust',\n",
       " 'rpartition',\n",
       " 'rsplit',\n",
       " 'rstrip',\n",
       " 'split',\n",
       " 'splitlines',\n",
       " 'startswith',\n",
       " 'strip',\n",
       " 'swapcase',\n",
       " 'title',\n",
       " 'translate',\n",
       " 'upper',\n",
       " 'zfill']"
      ]
     },
     "execution_count": 86,
     "metadata": {},
     "output_type": "execute_result"
    }
   ],
   "source": [
    "dir('') # this is to check the directory for strings "
   ]
  },
  {
   "cell_type": "code",
   "execution_count": 88,
   "id": "e8e3f267-2adf-4e48-b78e-39bbe2653ec6",
   "metadata": {},
   "outputs": [
    {
     "data": {
      "text/plain": [
       "['__class__',\n",
       " '__class_getitem__',\n",
       " '__contains__',\n",
       " '__delattr__',\n",
       " '__delitem__',\n",
       " '__dir__',\n",
       " '__doc__',\n",
       " '__eq__',\n",
       " '__format__',\n",
       " '__ge__',\n",
       " '__getattribute__',\n",
       " '__getitem__',\n",
       " '__getstate__',\n",
       " '__gt__',\n",
       " '__hash__',\n",
       " '__init__',\n",
       " '__init_subclass__',\n",
       " '__ior__',\n",
       " '__iter__',\n",
       " '__le__',\n",
       " '__len__',\n",
       " '__lt__',\n",
       " '__ne__',\n",
       " '__new__',\n",
       " '__or__',\n",
       " '__reduce__',\n",
       " '__reduce_ex__',\n",
       " '__repr__',\n",
       " '__reversed__',\n",
       " '__ror__',\n",
       " '__setattr__',\n",
       " '__setitem__',\n",
       " '__sizeof__',\n",
       " '__str__',\n",
       " '__subclasshook__',\n",
       " 'clear',\n",
       " 'copy',\n",
       " 'fromkeys',\n",
       " 'get',\n",
       " 'items',\n",
       " 'keys',\n",
       " 'pop',\n",
       " 'popitem',\n",
       " 'setdefault',\n",
       " 'update',\n",
       " 'values']"
      ]
     },
     "execution_count": 88,
     "metadata": {},
     "output_type": "execute_result"
    }
   ],
   "source": [
    "dir({}) #this is to check the directory for dictionary "
   ]
  },
  {
   "cell_type": "code",
   "execution_count": 90,
   "id": "776ab168-3dab-4d78-a68e-728230d55363",
   "metadata": {},
   "outputs": [
    {
     "data": {
      "text/plain": [
       "['__add__',\n",
       " '__class__',\n",
       " '__class_getitem__',\n",
       " '__contains__',\n",
       " '__delattr__',\n",
       " '__delitem__',\n",
       " '__dir__',\n",
       " '__doc__',\n",
       " '__eq__',\n",
       " '__format__',\n",
       " '__ge__',\n",
       " '__getattribute__',\n",
       " '__getitem__',\n",
       " '__getstate__',\n",
       " '__gt__',\n",
       " '__hash__',\n",
       " '__iadd__',\n",
       " '__imul__',\n",
       " '__init__',\n",
       " '__init_subclass__',\n",
       " '__iter__',\n",
       " '__le__',\n",
       " '__len__',\n",
       " '__lt__',\n",
       " '__mul__',\n",
       " '__ne__',\n",
       " '__new__',\n",
       " '__reduce__',\n",
       " '__reduce_ex__',\n",
       " '__repr__',\n",
       " '__reversed__',\n",
       " '__rmul__',\n",
       " '__setattr__',\n",
       " '__setitem__',\n",
       " '__sizeof__',\n",
       " '__str__',\n",
       " '__subclasshook__',\n",
       " 'append',\n",
       " 'clear',\n",
       " 'copy',\n",
       " 'count',\n",
       " 'extend',\n",
       " 'index',\n",
       " 'insert',\n",
       " 'pop',\n",
       " 'remove',\n",
       " 'reverse',\n",
       " 'sort']"
      ]
     },
     "execution_count": 90,
     "metadata": {},
     "output_type": "execute_result"
    }
   ],
   "source": [
    "dir([]) #this is to check the directory for list"
   ]
  },
  {
   "cell_type": "raw",
   "id": "f3bbfaed-e20a-4809-88a6-e3f129882ae5",
   "metadata": {},
   "source": [
    "dir(())"
   ]
  },
  {
   "cell_type": "markdown",
   "id": "ba564e6e-ce5b-4be8-9930-f2e8407af6b8",
   "metadata": {},
   "source": [
    "**Items keys and values**\n",
    "- items means both keys and values come together\n",
    "- keys means only dictionary keys\n",
    "- values means only dictionary values"
   ]
  },
  {
   "cell_type": "code",
   "execution_count": 105,
   "id": "1433899a-7739-49e8-be2b-3cc205e8d162",
   "metadata": {},
   "outputs": [
    {
     "data": {
      "text/plain": [
       "dict_items([('Ramesh', 25), ('Suresh', 30), ('Sathish', 45), ('Manish', 50)])"
      ]
     },
     "execution_count": 105,
     "metadata": {},
     "output_type": "execute_result"
    }
   ],
   "source": [
    "dict4 = {'Ramesh': 25, 'Suresh': 30, 'Sathish': 45, 'Manish': 50}\n",
    "items_list= dict4.items()\n",
    "items_list"
   ]
  },
  {
   "cell_type": "code",
   "execution_count": 107,
   "id": "79e2b412-410d-458d-b248-9456eed1d389",
   "metadata": {},
   "outputs": [
    {
     "data": {
      "text/plain": [
       "[('Ramesh', 25), ('Suresh', 30), ('Sathish', 45), ('Manish', 50)]"
      ]
     },
     "execution_count": 107,
     "metadata": {},
     "output_type": "execute_result"
    }
   ],
   "source": [
    "list(items_list)"
   ]
  },
  {
   "cell_type": "code",
   "execution_count": 109,
   "id": "e5a02458-a778-44bc-a0f5-756bd072ea35",
   "metadata": {},
   "outputs": [
    {
     "data": {
      "text/plain": [
       "dict_items"
      ]
     },
     "execution_count": 109,
     "metadata": {},
     "output_type": "execute_result"
    }
   ],
   "source": [
    "type(items_list)"
   ]
  },
  {
   "cell_type": "markdown",
   "id": "a8e0d372-da01-4dca-acbb-e4b8ca83a692",
   "metadata": {},
   "source": [
    "#### type castings\n",
    "- int ()\n",
    "- float()\n",
    "- list()\n",
    "- str()"
   ]
  },
  {
   "cell_type": "code",
   "execution_count": 113,
   "id": "a212d611-b7fd-4b61-a078-0c7d8a91992d",
   "metadata": {},
   "outputs": [
    {
     "data": {
      "text/plain": [
       "['Ramesh', 'Suresh', 'Sathish', 'Manish']"
      ]
     },
     "execution_count": 113,
     "metadata": {},
     "output_type": "execute_result"
    }
   ],
   "source": [
    "name = []\n",
    "age1 = []\n",
    "for i in items_list:\n",
    "    name.append(i[0])\n",
    "    age1.append(i[1])\n",
    "\n",
    "name "
   ]
  },
  {
   "cell_type": "code",
   "execution_count": 115,
   "id": "6c7f047e-2f23-418b-afcf-b731c3666e44",
   "metadata": {},
   "outputs": [
    {
     "data": {
      "text/plain": [
       "[25, 30, 45, 50]"
      ]
     },
     "execution_count": 115,
     "metadata": {},
     "output_type": "execute_result"
    }
   ],
   "source": [
    "age1"
   ]
  },
  {
   "cell_type": "markdown",
   "id": "885ea968-db66-4076-b246-69f67fff5a90",
   "metadata": {},
   "source": [
    "#### create a list using items"
   ]
  },
  {
   "cell_type": "code",
   "execution_count": 120,
   "id": "09a1d82d-5045-46e6-90af-887c1a931b23",
   "metadata": {},
   "outputs": [
    {
     "name": "stdout",
     "output_type": "stream",
     "text": [
      "['Ramesh', 'Suresh', 'Sathish', 'Manish']\n",
      "[25, 30, 45, 50]\n"
     ]
    }
   ],
   "source": [
    "d = {'Ramesh': 25, 'Suresh': 30, 'Sathish': 45, 'Manish': 50}\n",
    "it = d.items()\n",
    "items_list = list(it)\n",
    "name = []\n",
    "age = []\n",
    "for i in items_list:\n",
    "    name.append(i[0])\n",
    "    age.append(i[1])\n",
    "print (name)\n",
    "print (age)"
   ]
  },
  {
   "cell_type": "markdown",
   "id": "498e9e95-c9ec-4e0b-8c12-f9b0cbda7f1f",
   "metadata": {},
   "source": [
    "#### encoding "
   ]
  },
  {
   "cell_type": "code",
   "execution_count": 129,
   "id": "8befd4ad-c9e6-4f06-94c1-9e0d33a00c18",
   "metadata": {},
   "outputs": [
    {
     "data": {
      "text/plain": [
       "'0123456789'"
      ]
     },
     "execution_count": 129,
     "metadata": {},
     "output_type": "execute_result"
    }
   ],
   "source": [
    "alphabets = string.ascii_lowercase\n",
    "digits = string.digits\n",
    "# step-1: create Lowercase Letters List using string package\n",
    "# step-2: create a digits List 1 to 26\n",
    "# step-3: create a dictionary {'a':1, 'b' :2,..'z': 26}\n",
    "# step-4: enter a string: hai\n",
    "# step-5: output: 8-1-9\n"
   ]
  },
  {
   "cell_type": "code",
   "execution_count": 131,
   "id": "ccfd7af3-145a-4f41-b831-4281cb17dc5e",
   "metadata": {},
   "outputs": [],
   "source": [
    "#methods of dictionary"
   ]
  },
  {
   "cell_type": "code",
   "execution_count": null,
   "id": "5275ffdf-0a8d-47ac-bae9-4520cd979266",
   "metadata": {},
   "outputs": [],
   "source": []
  }
 ],
 "metadata": {
  "kernelspec": {
   "display_name": "Python 3 (ipykernel)",
   "language": "python",
   "name": "python3"
  },
  "language_info": {
   "codemirror_mode": {
    "name": "ipython",
    "version": 3
   },
   "file_extension": ".py",
   "mimetype": "text/x-python",
   "name": "python",
   "nbconvert_exporter": "python",
   "pygments_lexer": "ipython3",
   "version": "3.11.7"
  }
 },
 "nbformat": 4,
 "nbformat_minor": 5
}

{
 "cells": [
  {
   "cell_type": "markdown",
   "id": "d7954179",
   "metadata": {},
   "source": [
    "#### Index mutable-immutable \n",
    "- value cannot chnage using the index operations called as immutable \n",
    "- strings are immutable "
   ]
  },
  {
   "cell_type": "code",
   "execution_count": 25,
   "id": "75d4e599",
   "metadata": {},
   "outputs": [],
   "source": [
    "import random\n",
    "import math \n",
    "import string\n",
    "import time"
   ]
  },
  {
   "cell_type": "code",
   "execution_count": 1,
   "id": "b8aca3d8",
   "metadata": {},
   "outputs": [
    {
     "data": {
      "text/plain": [
       "[100, 12, 14]"
      ]
     },
     "execution_count": 1,
     "metadata": {},
     "output_type": "execute_result"
    }
   ],
   "source": [
    "l = [10,12,14]\n",
    "l [0]=100\n",
    "l"
   ]
  },
  {
   "cell_type": "markdown",
   "id": "90e082e0",
   "metadata": {},
   "source": [
    "- we are reassigning the array with a different element or updating "
   ]
  },
  {
   "cell_type": "markdown",
   "id": "2093ff80",
   "metadata": {},
   "source": [
    "#### Slice\n",
    "- cut into pieces\n",
    "- which means we cna extract some part of the string \n",
    "- for that we need to understand the start, stop and step\n",
    "- syntax:\n",
    "    - s[start:stop:step]"
   ]
  },
  {
   "cell_type": "code",
   "execution_count": null,
   "id": "466de94d",
   "metadata": {},
   "outputs": [],
   "source": [
    "# -12  -11   -10   -9   -8   -7   -6   -5   -4   -3   -2   -1\n",
    "#  h    e     l     l    o         p    y    t    h    o    n\n",
    "#  0    1     2     3    4    5    6    7    8    9    10   11"
   ]
  },
  {
   "cell_type": "code",
   "execution_count": 3,
   "id": "4c9ae978",
   "metadata": {},
   "outputs": [
    {
     "data": {
      "text/plain": [
       "'eoy'"
      ]
     },
     "execution_count": 3,
     "metadata": {},
     "output_type": "execute_result"
    }
   ],
   "source": [
    "str1 = \"hello python\"\n",
    "str1[1:10:3]"
   ]
  },
  {
   "cell_type": "code",
   "execution_count": 4,
   "id": "24f25dba",
   "metadata": {},
   "outputs": [
    {
     "data": {
      "text/plain": [
       "''"
      ]
     },
     "execution_count": 4,
     "metadata": {},
     "output_type": "execute_result"
    }
   ],
   "source": [
    "str2 = \"hello python\"\n",
    "str2[2:10:-2]"
   ]
  },
  {
   "cell_type": "markdown",
   "id": "00bfa519",
   "metadata": {},
   "source": [
    "- the above has a problem where the start and stop points are in positive and the step counter is -2 so there is no output"
   ]
  },
  {
   "cell_type": "code",
   "execution_count": 6,
   "id": "59994d7d",
   "metadata": {},
   "outputs": [
    {
     "data": {
      "text/plain": [
       "'lopto'"
      ]
     },
     "execution_count": 6,
     "metadata": {},
     "output_type": "execute_result"
    }
   ],
   "source": [
    "str3 = \"hello python\"\n",
    "str3[2:-1:2]"
   ]
  },
  {
   "cell_type": "markdown",
   "id": "9f5ef864",
   "metadata": {},
   "source": [
    "- the above will work as the string from negative starts from -12 to -1 and from 0 to 11\n",
    "- when you are giving the above then the string will work as we can visualize from 2 to -1 as we are going in the positive direction and will work "
   ]
  },
  {
   "cell_type": "code",
   "execution_count": 7,
   "id": "c4aa0b4c",
   "metadata": {},
   "outputs": [
    {
     "data": {
      "text/plain": [
       "'hello python'"
      ]
     },
     "execution_count": 7,
     "metadata": {},
     "output_type": "execute_result"
    }
   ],
   "source": [
    "str1[:]\n",
    "# this gives out the whole string "
   ]
  },
  {
   "cell_type": "code",
   "execution_count": 8,
   "id": "bc0c62ac",
   "metadata": {},
   "outputs": [
    {
     "data": {
      "text/plain": [
       "'llo python'"
      ]
     },
     "execution_count": 8,
     "metadata": {},
     "output_type": "execute_result"
    }
   ],
   "source": [
    "str1[2:]\n",
    "# starts from the given starting till the end of the sting "
   ]
  },
  {
   "cell_type": "code",
   "execution_count": 10,
   "id": "49650420",
   "metadata": {},
   "outputs": [
    {
     "data": {
      "text/plain": [
       "'hello python'"
      ]
     },
     "execution_count": 10,
     "metadata": {},
     "output_type": "execute_result"
    }
   ],
   "source": [
    "str1[:12]\n",
    "# start point is default i.e 0 and the end point is given"
   ]
  },
  {
   "cell_type": "code",
   "execution_count": 11,
   "id": "11680796",
   "metadata": {},
   "outputs": [
    {
     "data": {
      "text/plain": [
       "'hello python'"
      ]
     },
     "execution_count": 11,
     "metadata": {},
     "output_type": "execute_result"
    }
   ],
   "source": [
    "str1[::]\n",
    "# this gives out the whole string "
   ]
  },
  {
   "cell_type": "code",
   "execution_count": 12,
   "id": "31689c2a",
   "metadata": {},
   "outputs": [
    {
     "data": {
      "text/plain": [
       "'nohtyp olleh'"
      ]
     },
     "execution_count": 12,
     "metadata": {},
     "output_type": "execute_result"
    }
   ],
   "source": [
    "str1[::-1]\n",
    "# this gives the reverse of the string "
   ]
  },
  {
   "cell_type": "code",
   "execution_count": 14,
   "id": "6a2c80a1",
   "metadata": {},
   "outputs": [
    {
     "data": {
      "text/plain": [
       "'o'"
      ]
     },
     "execution_count": 14,
     "metadata": {},
     "output_type": "execute_result"
    }
   ],
   "source": [
    "str1[-2:12:2]\n",
    "# string is starting from -2 so its the last but 1 in the string but there is no element in the 11 index ie stop-1 so it wont work "
   ]
  },
  {
   "cell_type": "markdown",
   "id": "a7802c72",
   "metadata": {},
   "source": [
    "#### concatenation\n",
    "- adding two strings together \n",
    "- we can give space in between by adding str1+\" \"+str2"
   ]
  },
  {
   "cell_type": "code",
   "execution_count": 16,
   "id": "8b1c6b8d",
   "metadata": {},
   "outputs": [
    {
     "data": {
      "text/plain": [
       "'python my name is mohith'"
      ]
     },
     "execution_count": 16,
     "metadata": {},
     "output_type": "execute_result"
    }
   ],
   "source": [
    "str4=\"python\"\n",
    "str4+\" \"+\"my name is mohith\""
   ]
  },
  {
   "cell_type": "code",
   "execution_count": 19,
   "id": "2b5a3c5b",
   "metadata": {},
   "outputs": [
    {
     "ename": "TypeError",
     "evalue": "unsupported operand type(s) for /: 'str' and 'str'",
     "output_type": "error",
     "traceback": [
      "\u001b[0;31m---------------------------------------------------------------------------\u001b[0m",
      "\u001b[0;31mTypeError\u001b[0m                                 Traceback (most recent call last)",
      "Cell \u001b[0;32mIn[19], line 1\u001b[0m\n\u001b[0;32m----> 1\u001b[0m str1\u001b[38;5;241m/\u001b[39mstr4\n",
      "\u001b[0;31mTypeError\u001b[0m: unsupported operand type(s) for /: 'str' and 'str'"
     ]
    }
   ],
   "source": [
    "str1*str4\n",
    "str1-str4\n",
    "str1/str4"
   ]
  },
  {
   "cell_type": "markdown",
   "id": "f97aaf99",
   "metadata": {},
   "source": [
    "- the above will not work as strings are not numbers and it will not work \n",
    "- concatenation is the only addition possible as we are adding 2 strings together to from a new string which are all immutable"
   ]
  },
  {
   "cell_type": "code",
   "execution_count": 24,
   "id": "a99589de",
   "metadata": {},
   "outputs": [
    {
     "data": {
      "text/plain": [
       "'hello python hello python hello python '"
      ]
     },
     "execution_count": 24,
     "metadata": {},
     "output_type": "execute_result"
    }
   ],
   "source": [
    "(str1+\" \")*3"
   ]
  },
  {
   "cell_type": "markdown",
   "id": "fc074f0d",
   "metadata": {},
   "source": [
    "### String Methods\n",
    "- you will need to treat string is a package \n",
    "- so apply dir on any sting "
   ]
  },
  {
   "cell_type": "code",
   "execution_count": 28,
   "id": "d4ec4154",
   "metadata": {},
   "outputs": [
    {
     "data": {
      "text/plain": [
       "['Formatter',\n",
       " 'Template',\n",
       " '_ChainMap',\n",
       " '__all__',\n",
       " '__builtins__',\n",
       " '__cached__',\n",
       " '__doc__',\n",
       " '__file__',\n",
       " '__loader__',\n",
       " '__name__',\n",
       " '__package__',\n",
       " '__spec__',\n",
       " '_re',\n",
       " '_sentinel_dict',\n",
       " '_string',\n",
       " 'ascii_letters',\n",
       " 'ascii_lowercase',\n",
       " 'ascii_uppercase',\n",
       " 'capwords',\n",
       " 'digits',\n",
       " 'hexdigits',\n",
       " 'octdigits',\n",
       " 'printable',\n",
       " 'punctuation',\n",
       " 'whitespace']"
      ]
     },
     "execution_count": 28,
     "metadata": {},
     "output_type": "execute_result"
    }
   ],
   "source": [
    "dir (string)"
   ]
  },
  {
   "cell_type": "markdown",
   "id": "61f22fc2",
   "metadata": {},
   "source": [
    "$capitalize$"
   ]
  },
  {
   "cell_type": "code",
   "execution_count": 31,
   "id": "401eb777",
   "metadata": {},
   "outputs": [
    {
     "data": {
      "text/plain": [
       "'My name is mohith'"
      ]
     },
     "execution_count": 31,
     "metadata": {},
     "output_type": "execute_result"
    }
   ],
   "source": [
    "str5 = \"my name is mohith\"\n",
    "str5.capitalize()"
   ]
  },
  {
   "cell_type": "code",
   "execution_count": 32,
   "id": "5dbbf428",
   "metadata": {},
   "outputs": [
    {
     "data": {
      "text/plain": [
       "'MY NAME IS MOHITH'"
      ]
     },
     "execution_count": 32,
     "metadata": {},
     "output_type": "execute_result"
    }
   ],
   "source": [
    "str5.upper()"
   ]
  },
  {
   "cell_type": "code",
   "execution_count": 33,
   "id": "d456bc49",
   "metadata": {},
   "outputs": [
    {
     "data": {
      "text/plain": [
       "'my name is mohith'"
      ]
     },
     "execution_count": 33,
     "metadata": {},
     "output_type": "execute_result"
    }
   ],
   "source": [
    "str5.lower()"
   ]
  },
  {
   "cell_type": "code",
   "execution_count": 34,
   "id": "6e386b58",
   "metadata": {},
   "outputs": [
    {
     "data": {
      "text/plain": [
       "'my name is mohith'"
      ]
     },
     "execution_count": 34,
     "metadata": {},
     "output_type": "execute_result"
    }
   ],
   "source": [
    "str5.casefold()"
   ]
  },
  {
   "cell_type": "code",
   "execution_count": 47,
   "id": "e3ff97c1",
   "metadata": {},
   "outputs": [
    {
     "data": {
      "text/plain": [
       "17"
      ]
     },
     "execution_count": 47,
     "metadata": {},
     "output_type": "execute_result"
    }
   ],
   "source": [
    "len(str5)"
   ]
  },
  {
   "cell_type": "code",
   "execution_count": 45,
   "id": "47164962",
   "metadata": {},
   "outputs": [
    {
     "data": {
      "text/plain": [
       "'      my name is mohith       '"
      ]
     },
     "execution_count": 45,
     "metadata": {},
     "output_type": "execute_result"
    }
   ],
   "source": [
    "str5.center(30)\n",
    "# the total new string widith = 30 \n",
    "# already given string will have 17"
   ]
  },
  {
   "cell_type": "code",
   "execution_count": 48,
   "id": "8ba890bb",
   "metadata": {},
   "outputs": [
    {
     "data": {
      "text/plain": [
       "'$$$$$$my name is mohith$$$$$$$'"
      ]
     },
     "execution_count": 48,
     "metadata": {},
     "output_type": "execute_result"
    }
   ],
   "source": [
    "str5.center(30,'$')\n",
    "#instead of the the space it will give the desgmanted "
   ]
  },
  {
   "cell_type": "code",
   "execution_count": 42,
   "id": "d53a2b71",
   "metadata": {},
   "outputs": [
    {
     "data": {
      "text/plain": [
       "'My name is mohith. i love coding'"
      ]
     },
     "execution_count": 42,
     "metadata": {},
     "output_type": "execute_result"
    }
   ],
   "source": [
    "str6 = \"my name is mohith. i love coding\"\n",
    "str6.capitalize()"
   ]
  },
  {
   "cell_type": "markdown",
   "id": "ab24f940",
   "metadata": {},
   "source": [
    "$center$"
   ]
  },
  {
   "cell_type": "code",
   "execution_count": null,
   "id": "29740151",
   "metadata": {},
   "outputs": [],
   "source": [
    "#### Unique vowels or items \n",
    "- always make an empty string \n",
    "- iterate the letter of orginal string throught for loop \n",
    "- whenever vowel condition match keep that letter in empty string \n",
    "- now onwords \n",
    "    - is that a vowel \n",
    "    - is that present in the new string "
   ]
  }
 ],
 "metadata": {
  "kernelspec": {
   "display_name": "Python 3 (ipykernel)",
   "language": "python",
   "name": "python3"
  },
  "language_info": {
   "codemirror_mode": {
    "name": "ipython",
    "version": 3
   },
   "file_extension": ".py",
   "mimetype": "text/x-python",
   "name": "python",
   "nbconvert_exporter": "python",
   "pygments_lexer": "ipython3",
   "version": "3.11.7"
  }
 },
 "nbformat": 4,
 "nbformat_minor": 5
}

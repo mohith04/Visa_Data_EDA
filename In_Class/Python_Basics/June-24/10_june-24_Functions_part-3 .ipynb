{
 "cells": [
  {
   "cell_type": "markdown",
   "id": "2ea3b38d",
   "metadata": {},
   "source": [
    "### Functions part - 3 "
   ]
  },
  {
   "cell_type": "markdown",
   "id": "37535804",
   "metadata": {},
   "source": [
    "- return statements \n",
    "- functions in functions "
   ]
  },
  {
   "cell_type": "code",
   "execution_count": 20,
   "id": "b3ca3842",
   "metadata": {},
   "outputs": [],
   "source": [
    "import random\n",
    "import time \n",
    "import math"
   ]
  },
  {
   "cell_type": "code",
   "execution_count": 14,
   "id": "028dd7d8",
   "metadata": {},
   "outputs": [],
   "source": [
    "def average_wfa ():\n",
    "    num1 = eval (input(\"enter the number \"))\n",
    "    num2 = eval (input(\"enter the number \"))\n",
    "    num3 = eval (input(\"enter the number \"))\n",
    "    avg = (num1 + num2 + num3)/3\n",
    "    print (\"the average of 3 numbers is \",avg)"
   ]
  },
  {
   "cell_type": "code",
   "execution_count": 15,
   "id": "f0e36777",
   "metadata": {},
   "outputs": [],
   "source": [
    "def average_wa (num1,num2,num3):\n",
    "    avg = (num1 + num2 + num3)/3\n",
    "    print (\"the average of 3 numbers is \",avg)"
   ]
  },
  {
   "cell_type": "code",
   "execution_count": 16,
   "id": "e63119b8",
   "metadata": {},
   "outputs": [],
   "source": [
    "def average_da (num1 = 100, num2 = 200, num3 = 500):\n",
    "    avg = (num1 + num2 + num3)/3\n",
    "    print (\"the average of 3 numbers is \",avg)"
   ]
  },
  {
   "cell_type": "code",
   "execution_count": 17,
   "id": "24ee38a7",
   "metadata": {},
   "outputs": [
    {
     "name": "stdout",
     "output_type": "stream",
     "text": [
      "enter the number 100\n",
      "enter the number 200\n",
      "enter the number 500\n",
      "the average of 3 numbers is  266.6666666666667\n"
     ]
    }
   ],
   "source": [
    "average_wfa()"
   ]
  },
  {
   "cell_type": "code",
   "execution_count": 18,
   "id": "606fa9c0",
   "metadata": {},
   "outputs": [
    {
     "name": "stdout",
     "output_type": "stream",
     "text": [
      "the average of 3 numbers is  200.0\n"
     ]
    }
   ],
   "source": [
    "average_wa (100,200,300)"
   ]
  },
  {
   "cell_type": "code",
   "execution_count": 19,
   "id": "78b5c24a",
   "metadata": {},
   "outputs": [
    {
     "name": "stdout",
     "output_type": "stream",
     "text": [
      "the average of 3 numbers is  266.6666666666667\n"
     ]
    }
   ],
   "source": [
    "average_da ()"
   ]
  },
  {
   "cell_type": "code",
   "execution_count": 21,
   "id": "3f55eec4",
   "metadata": {},
   "outputs": [],
   "source": [
    "def average1_wfa ():\n",
    "    num1 = random.randint(10,10000)\n",
    "    num2 = random.randint(10,10000)\n",
    "    num3 = random.randint(10,10000)\n",
    "    avg = (num1 + num2 + num3)/3\n",
    "    print (\"the average of 3 numbers is \",avg)  "
   ]
  },
  {
   "cell_type": "code",
   "execution_count": 22,
   "id": "5624ca58",
   "metadata": {},
   "outputs": [],
   "source": [
    "def average1_wa (num1,num2,num3):\n",
    "    avg = (num1 + num2 + num3)/3\n",
    "    print (\"the average of 3 numbers is \",avg)"
   ]
  },
  {
   "cell_type": "code",
   "execution_count": 31,
   "id": "2978befe",
   "metadata": {},
   "outputs": [],
   "source": [
    "def average1_da (numa = 100, numb = 200, numc = 500):\n",
    "    avg = (numa + numb + numc)/3\n",
    "    print (\"the average of 3 numbers is \",avg)\n",
    "numa = random.randint(10,10000)\n",
    "numb = random.randint(10,10000)\n",
    "numc = random.randint(10,10000)"
   ]
  },
  {
   "cell_type": "code",
   "execution_count": 25,
   "id": "e83f407a",
   "metadata": {},
   "outputs": [
    {
     "name": "stdout",
     "output_type": "stream",
     "text": [
      "the average of 3 numbers is  5669.333333333333\n"
     ]
    }
   ],
   "source": [
    "average1_wfa ()"
   ]
  },
  {
   "cell_type": "code",
   "execution_count": 26,
   "id": "b31b2af9",
   "metadata": {},
   "outputs": [
    {
     "name": "stdout",
     "output_type": "stream",
     "text": [
      "the average of 3 numbers is  5336.666666666667\n"
     ]
    }
   ],
   "source": [
    "average1_wa (random.randint(10,10000),random.randint(10,10000),random.randint(10,10000))"
   ]
  },
  {
   "cell_type": "code",
   "execution_count": 35,
   "id": "2e467cf2",
   "metadata": {},
   "outputs": [
    {
     "name": "stdout",
     "output_type": "stream",
     "text": [
      "the average of 3 numbers is  266.6666666666667\n"
     ]
    }
   ],
   "source": [
    "average1_da()\n",
    "# This is because of the priority of the arguments so its taking the default arguments "
   ]
  },
  {
   "cell_type": "code",
   "execution_count": 62,
   "id": "3d126107",
   "metadata": {},
   "outputs": [
    {
     "name": "stdout",
     "output_type": "stream",
     "text": [
      "the average of 3 numbers is  4420.333333333333\n"
     ]
    }
   ],
   "source": [
    "def average2_da ():\n",
    "    numa = 1111\n",
    "    avg = (numa + numb + numc)/3\n",
    "    print (\"the average of 3 numbers is \",avg)\n",
    "\n",
    "numa = 1500\n",
    "numb = 150\n",
    "numc = 12000\n",
    "average2_da ()"
   ]
  },
  {
   "cell_type": "code",
   "execution_count": 54,
   "id": "70ccd8a8",
   "metadata": {},
   "outputs": [
    {
     "name": "stdout",
     "output_type": "stream",
     "text": [
      "the average of 3 numbers is  455.0\n"
     ]
    }
   ],
   "source": [
    "numd = 150\n",
    "nume = 15\n",
    "numf = 1200\n",
    "def average3_da ():\n",
    "    avg = (numd + nume + numf)/3\n",
    "    print (\"the average of 3 numbers is \",avg)\n",
    "\n",
    "average3_da ()"
   ]
  },
  {
   "cell_type": "code",
   "execution_count": 58,
   "id": "c1b1fb94",
   "metadata": {},
   "outputs": [
    {
     "name": "stdout",
     "output_type": "stream",
     "text": [
      "the average of 3 numbers is  55.0\n"
     ]
    }
   ],
   "source": [
    "def average_gob ():\n",
    "    global num12, num13,num14\n",
    "    num12 = 12\n",
    "    num13 = 13\n",
    "    num14 = 140\n",
    "    avg = (num12 + num13 + num14)/3\n",
    "    print (\"the average of 3 numbers is \",avg)\n",
    "\n",
    "average_gob ()"
   ]
  },
  {
   "cell_type": "code",
   "execution_count": 63,
   "id": "fdd12de1",
   "metadata": {},
   "outputs": [
    {
     "name": "stdout",
     "output_type": "stream",
     "text": [
      "17\n"
     ]
    }
   ],
   "source": [
    "a = 10 # ----> 1st update\n",
    "b = 122\n",
    "def add ():\n",
    "    a = 16 # ->3rd update \n",
    "    \n",
    "a = 17 # ----> 2nd update\n",
    "add () \n",
    "print (a)"
   ]
  },
  {
   "cell_type": "markdown",
   "id": "4a5a399d",
   "metadata": {},
   "source": [
    "- the above code is printing outside the function so 3rd update is not printing but the 2nd update\n",
    "- local value can not be used outside the variable "
   ]
  },
  {
   "cell_type": "markdown",
   "id": "9e46bad5",
   "metadata": {},
   "source": [
    "#### Using the local variable by using return \n",
    "\n",
    "- we already know that local variables cant use outside the function directly \n",
    "- If we want to use local variable outside the function we need to use global keyword \n",
    "- we can also use the local varible without using global keyword \n",
    "- we can use return "
   ]
  },
  {
   "cell_type": "code",
   "execution_count": 3,
   "id": "c4b3ede5",
   "metadata": {},
   "outputs": [
    {
     "name": "stdout",
     "output_type": "stream",
     "text": [
      "1358\n"
     ]
    }
   ],
   "source": [
    "def add ():\n",
    "    num21 = 124\n",
    "    num22 = 1234\n",
    "    print (num21 + num22)\n",
    "\n",
    "add ()"
   ]
  },
  {
   "cell_type": "code",
   "execution_count": 65,
   "id": "b4e6644d",
   "metadata": {},
   "outputs": [
    {
     "ename": "NameError",
     "evalue": "name 'num21' is not defined",
     "output_type": "error",
     "traceback": [
      "\u001b[0;31m---------------------------------------------------------------------------\u001b[0m",
      "\u001b[0;31mNameError\u001b[0m                                 Traceback (most recent call last)",
      "Cell \u001b[0;32mIn[65], line 1\u001b[0m\n\u001b[0;32m----> 1\u001b[0m num21\n",
      "\u001b[0;31mNameError\u001b[0m: name 'num21' is not defined"
     ]
    }
   ],
   "source": [
    "num21"
   ]
  },
  {
   "cell_type": "markdown",
   "id": "32ba9de1",
   "metadata": {},
   "source": [
    "- we need to replace how many values that you need to return "
   ]
  },
  {
   "cell_type": "code",
   "execution_count": 5,
   "id": "451e42b5",
   "metadata": {},
   "outputs": [
    {
     "name": "stdout",
     "output_type": "stream",
     "text": [
      "124\n"
     ]
    }
   ],
   "source": [
    "def add1 ():\n",
    "    num23 = 124\n",
    "    num24 = 1234\n",
    "    summn = num23 + num24\n",
    "    return (num23)\n",
    "\n",
    "num23 = add1()\n",
    "print (num23)"
   ]
  },
  {
   "cell_type": "code",
   "execution_count": 7,
   "id": "a2ddea64",
   "metadata": {},
   "outputs": [
    {
     "name": "stdout",
     "output_type": "stream",
     "text": [
      "1242 12346 13588\n"
     ]
    }
   ],
   "source": [
    "def add1 ():\n",
    "    num25 = 1242\n",
    "    num26 = 12346\n",
    "    sume = num25 + num26\n",
    "    return (num25, num26,sume)\n",
    "\n",
    "num25,num26,sume= add1()\n",
    "print (num25,num26, sume)"
   ]
  },
  {
   "cell_type": "code",
   "execution_count": null,
   "id": "ae48fbb9",
   "metadata": {},
   "outputs": [],
   "source": []
  }
 ],
 "metadata": {
  "kernelspec": {
   "display_name": "Python 3 (ipykernel)",
   "language": "python",
   "name": "python3"
  },
  "language_info": {
   "codemirror_mode": {
    "name": "ipython",
    "version": 3
   },
   "file_extension": ".py",
   "mimetype": "text/x-python",
   "name": "python",
   "nbconvert_exporter": "python",
   "pygments_lexer": "ipython3",
   "version": "3.11.7"
  }
 },
 "nbformat": 4,
 "nbformat_minor": 5
}

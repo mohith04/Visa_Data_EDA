{
 "cells": [
  {
   "cell_type": "markdown",
   "id": "a50ca759",
   "metadata": {},
   "source": [
    "### try- except\n",
    "- Genrally python is sequencital process \n",
    "- Which means if you get error, the compiler will not execute the other statements\n",
    "- There is a situation even though if you got error at perticular lines \n",
    "- Complier should execute some part of the code \n",
    "- This is possible by using try-except methode \n",
    "- We have two blocks \n",
    "    - try block \n",
    "        - original code wull run under try block \n",
    "    - except block \n",
    "        - if any error occours then it will come back directly to except block "
   ]
  },
  {
   "cell_type": "code",
   "execution_count": 1,
   "id": "5c126c93",
   "metadata": {},
   "outputs": [
    {
     "ename": "ZeroDivisionError",
     "evalue": "division by zero",
     "output_type": "error",
     "traceback": [
      "\u001b[0;31m---------------------------------------------------------------------------\u001b[0m",
      "\u001b[0;31mZeroDivisionError\u001b[0m                         Traceback (most recent call last)",
      "Cell \u001b[0;32mIn[1], line 3\u001b[0m\n\u001b[1;32m      1\u001b[0m a \u001b[38;5;241m=\u001b[39m \u001b[38;5;241m10\u001b[39m\n\u001b[1;32m      2\u001b[0m b \u001b[38;5;241m=\u001b[39m \u001b[38;5;241m0\u001b[39m\n\u001b[0;32m----> 3\u001b[0m c \u001b[38;5;241m=\u001b[39ma\u001b[38;5;241m/\u001b[39mb\n\u001b[1;32m      4\u001b[0m \u001b[38;5;28mprint\u001b[39m (c)\n\u001b[1;32m      5\u001b[0m \u001b[38;5;28mprint\u001b[39m (\u001b[38;5;124m\"\u001b[39m\u001b[38;5;124mhello\u001b[39m\u001b[38;5;124m\"\u001b[39m)\n",
      "\u001b[0;31mZeroDivisionError\u001b[0m: division by zero"
     ]
    }
   ],
   "source": [
    "a = 10\n",
    "b = 0\n",
    "c =a/b\n",
    "print (c)\n",
    "print (\"hello\")"
   ]
  },
  {
   "cell_type": "markdown",
   "id": "e06b06cc",
   "metadata": {},
   "source": [
    "#### case - 1\n",
    "- when ever we get the error in try block \n",
    "- the complier will execute the except block"
   ]
  },
  {
   "cell_type": "code",
   "execution_count": 3,
   "id": "7a9391e4",
   "metadata": {},
   "outputs": [
    {
     "name": "stdout",
     "output_type": "stream",
     "text": [
      "10\n",
      "hello\n"
     ]
    }
   ],
   "source": [
    "try:\n",
    "    a = 10\n",
    "    b = 0\n",
    "    print (a)\n",
    "    c = a/b\n",
    "    print (c) \n",
    "#this will only execute till the place it gets error from where it does it wont show up and it moves to the next block\n",
    "except:\n",
    "    print (\"hello\")"
   ]
  },
  {
   "cell_type": "markdown",
   "id": "a76c980b",
   "metadata": {},
   "source": [
    "#### case - 2 \n",
    "- If there is no error in the try block \n",
    "- The complier will not execute on except block "
   ]
  },
  {
   "cell_type": "code",
   "execution_count": 5,
   "id": "1c8c83a1",
   "metadata": {},
   "outputs": [
    {
     "name": "stdout",
     "output_type": "stream",
     "text": [
      "10\n",
      "5.0\n"
     ]
    }
   ],
   "source": [
    "try:\n",
    "    a = 10\n",
    "    b = 2\n",
    "    print (a)\n",
    "    c =a/b\n",
    "    print (c)\n",
    "except:\n",
    "    print (\"hello\")"
   ]
  },
  {
   "cell_type": "code",
   "execution_count": 7,
   "id": "c93457b1",
   "metadata": {},
   "outputs": [
    {
     "name": "stdout",
     "output_type": "stream",
     "text": [
      "Hello\n",
      "World!!\n",
      "enter the number python\n",
      "there is an error\n",
      "check the code \n",
      "bye\n"
     ]
    }
   ],
   "source": [
    "print (\"Hello\")\n",
    "print (\"World!!\")\n",
    "try:\n",
    "    a = eval (input(\"enter the number \"))\n",
    "    b = eval (input(\"enter the number \"))\n",
    "    add = a + b\n",
    "    print (\"The addition of two numbers is \",add)\n",
    "except:\n",
    "    print (\"there is an error\")\n",
    "    print (\"check the code \")\n",
    "    \n",
    "print(\"bye\")"
   ]
  },
  {
   "cell_type": "markdown",
   "id": "db93f335",
   "metadata": {},
   "source": [
    "- we can try to use any program in except if the try method has error to get the other output "
   ]
  },
  {
   "cell_type": "markdown",
   "id": "13e19f01",
   "metadata": {},
   "source": [
    "#### capture the errors \n",
    "- Mainly try and except is used to capture the errors \n",
    "- syntax error will not be captured by except block "
   ]
  },
  {
   "cell_type": "markdown",
   "id": "3281d797",
   "metadata": {},
   "source": [
    "#### Errors \n",
    "- Syntax errors \n",
    "    - if missing a the  ) ,  \" \" , :\n",
    "- name errors\n",
    "    - if the variable is not defined \n",
    "- indentation error \n",
    "    - after : we need to give some space \n",
    "- division error \n",
    "    - some numbers cannot be divided by 0 \n",
    "- value error\n",
    "    - number type conversion \n",
    "- type error\n",
    "    - any math operations on english letters "
   ]
  },
  {
   "cell_type": "code",
   "execution_count": 8,
   "id": "cab3a4a3",
   "metadata": {},
   "outputs": [
    {
     "name": "stdout",
     "output_type": "stream",
     "text": [
      "enter the number 10\n",
      "enter the number 0\n",
      "division by zero\n"
     ]
    }
   ],
   "source": [
    "try:\n",
    "    a = eval (input(\"enter the number \"))\n",
    "    b = eval (input(\"enter the number \"))\n",
    "    div = a / b\n",
    "    print (\"The addition of two numbers is \",div)\n",
    "except Exception as e:\n",
    "    print (e)"
   ]
  },
  {
   "cell_type": "code",
   "execution_count": 10,
   "id": "5f9aac99",
   "metadata": {},
   "outputs": [
    {
     "name": "stdout",
     "output_type": "stream",
     "text": [
      "Its a even number 470\n"
     ]
    }
   ],
   "source": [
    "import random\n",
    "try:\n",
    "    num = random.randint(10,1000)\n",
    "    if num%2==0 :\n",
    "        print (\"Its a even number\",num)\n",
    "    else:\n",
    "        print (\"Its a odd number\",num)\n",
    "except Exception as e:\n",
    "    print(e)"
   ]
  },
  {
   "cell_type": "code",
   "execution_count": 11,
   "id": "9260a008",
   "metadata": {},
   "outputs": [
    {
     "name": "stdout",
     "output_type": "stream",
     "text": [
      " Enter the marks: 98\n",
      " You have recevied A grade\n"
     ]
    }
   ],
   "source": [
    "try:\n",
    "    marks = eval (input (\" Enter the marks: \"))\n",
    "    if (marks >= 90):\n",
    "        print (\" You have recevied A grade\")\n",
    "    elif (89 > marks >= 70):\n",
    "        print (\" You have recevied B grade\")\n",
    "    elif (69 > marks >= 50):\n",
    "        print (\" You have recevied C grade\")\n",
    "    elif (49 > marks >= 35):\n",
    "        print (\" You have recevied D grade\")\n",
    "    else:\n",
    "        print (\" You have failed\")\n",
    "except Exception as e:\n",
    "    print(e)"
   ]
  },
  {
   "cell_type": "code",
   "execution_count": 13,
   "id": "8e89db73",
   "metadata": {},
   "outputs": [
    {
     "name": "stdout",
     "output_type": "stream",
     "text": [
      " Enter the age: 50000\n",
      " You are a Lucky man!!\n"
     ]
    }
   ],
   "source": [
    "try: \n",
    "    age = eval (input (\" Enter the age: \"))\n",
    "    if (age >= 90):\n",
    "        print (\" You are a Lucky man!!\")\n",
    "    elif (90 > age >= 70):\n",
    "        print (\" You are an old man\")\n",
    "    elif (70 > age >= 50):\n",
    "        print (\" You are a senior citizen\")\n",
    "    elif (50 > age >= 35):\n",
    "        print (\" You are a middle age man\")\n",
    "    elif (35 > age >= 20):\n",
    "        print (\" You are a young man\")\n",
    "    elif (20 > age >= 13):\n",
    "        print (\" You are a teenager\")\n",
    "    else:\n",
    "        print (\" You are a kid\")\n",
    "except Exception as e:\n",
    "    print(e)"
   ]
  },
  {
   "cell_type": "code",
   "execution_count": 14,
   "id": "36860a7a",
   "metadata": {},
   "outputs": [
    {
     "name": "stdout",
     "output_type": "stream",
     "text": [
      "enter the number: 123\n",
      "enter the number: 12.58\n",
      "to do the simple cali please follow this steps 1: Addition 2: Substration 3: Multiplication 4: Divison\n",
      "enter the opertaion bw 1 - 4 :2\n",
      " The Substration of the two numbers is:  110.42\n"
     ]
    }
   ],
   "source": [
    "import time\n",
    "try:\n",
    "    num1 = eval (input (\"enter the number: \"))\n",
    "    num2 = eval (input (\"enter the number: \"))\n",
    "    print (\"to do the simple cali please follow this steps\",\n",
    "            \"1: Addition\",\n",
    "            \"2: Substration\",\n",
    "            \"3: Multiplication\",\n",
    "            \"4: Divison\")\n",
    "    op = eval(input (\"enter the opertaion bw 1 - 4 :\"))\n",
    "    if (op == 1):\n",
    "        add = num1 + num2\n",
    "        print (\" The addition of the two numbers is: \", add)\n",
    "    elif (op == 2):\n",
    "        sub = num1 - num2\n",
    "        print (\" The Substration of the two numbers is: \", sub)\n",
    "    elif (op == 3):\n",
    "        mul = num1 * num2\n",
    "        print (\" The multiplication of the two numbers is: \", mul)\n",
    "    elif (op == 4):\n",
    "        print (\" The first number should be always greater the second number if you want a whole number or it will give the response in decimal\")\n",
    "        time.sleep(8)\n",
    "        div = num1 / num2 \n",
    "        print (\" The division of the two numbers is: \", div)\n",
    "except Exception as e:\n",
    "    print(e)"
   ]
  },
  {
   "cell_type": "code",
   "execution_count": 15,
   "id": "129b4268",
   "metadata": {},
   "outputs": [
    {
     "name": "stdout",
     "output_type": "stream",
     "text": [
      "enter male or female\n",
      "enter gender: male\n",
      " Enter the age: 18\n",
      "You are a boy\n"
     ]
    }
   ],
   "source": [
    "print (\"enter male or female\")\n",
    "time.sleep(5)\n",
    "try:\n",
    "    gender = input (\"enter gender: \")\n",
    "    if (gender == \"male\"):\n",
    "        age = eval (input (\" Enter the age: \"))\n",
    "        if (age > 30):\n",
    "            print (\"You are a middle aged man\")\n",
    "        else:\n",
    "            print (\"You are a boy\")\n",
    "    elif (gender == \"female\"):\n",
    "        age = eval (input (\"Enter the age: \"))\n",
    "        if (age > 30):\n",
    "            print (\"You are a middle aged women\")\n",
    "        else:\n",
    "            print (\"You are a girl\")\n",
    "    else:\n",
    "        print (\"enter valid gender\")\n",
    "except Exception as e:\n",
    "    print(e)"
   ]
  },
  {
   "cell_type": "code",
   "execution_count": 18,
   "id": "d1e4b87e",
   "metadata": {},
   "outputs": [
    {
     "name": "stdout",
     "output_type": "stream",
     "text": [
      "enter male or female\n",
      "enter gender: female\n",
      "Show ID card\n",
      "enter if ID is presentno\n",
      "Please tell me how far you need to travel\n",
      "Enter the distance to be travelled 50000\n",
      "Enter the charge per 1 Km: 2\n",
      "The ticket price is:  100000\n"
     ]
    }
   ],
   "source": [
    "print (\"enter male or female\")\n",
    "try:\n",
    "    gender = input (\"enter gender: \")\n",
    "    if (gender == \"female\"):\n",
    "        print (\"Show ID card\")\n",
    "        ID = input (\"enter if ID is present\")\n",
    "        if (ID == \"yes\"):\n",
    "            print (\"enjoy the free ride\")\n",
    "        else:\n",
    "            print (\"Please tell me how far you need to travel\")\n",
    "            distance = eval (input (\"Enter the distance to be travelled \"))\n",
    "            charge = eval (input (\"Enter the charge per 1 Km: \"))\n",
    "            total_charge = distance * charge \n",
    "            print (\"The ticket price is: \", total_charge)\n",
    "    elif (gender == \"male\"):\n",
    "        print (\"Please tell me how far you need to travel\")\n",
    "        distance = eval (input (\"Enter the distance to be travelled \"))\n",
    "        charge = eval (input (\"Enter the charge per 1 Km: \"))\n",
    "        total_charge = distance * charge \n",
    "        print (\"The ticket price is: \", total_charge)\n",
    "    else:\n",
    "        print (\"enter valid gender\")\n",
    "except Exception as e:\n",
    "    print(e)"
   ]
  },
  {
   "cell_type": "code",
   "execution_count": 19,
   "id": "82af177b",
   "metadata": {},
   "outputs": [
    {
     "name": "stdout",
     "output_type": "stream",
     "text": [
      "97 65 71\n",
      "The number is greater 97\n"
     ]
    }
   ],
   "source": [
    "try:\n",
    "    number1 = random.randint(1,100)\n",
    "    number2 = random.randint(1,100)\n",
    "    number3 = random.randint(1,100)\n",
    "    print (number1, number2, number3)\n",
    "    if (number1 > number2) and (number1 > number3):\n",
    "        print (\"The number is greater\",number1)\n",
    "    elif (number2 > number1) and (number2 > number3):\n",
    "        print (\"number is greater\", number2)\n",
    "    else:\n",
    "        print (\"number is greater\", number3)\n",
    "except Exception as e:\n",
    "    print(e)"
   ]
  },
  {
   "cell_type": "code",
   "execution_count": null,
   "id": "2661fdcf",
   "metadata": {},
   "outputs": [],
   "source": []
  }
 ],
 "metadata": {
  "kernelspec": {
   "display_name": "Python 3 (ipykernel)",
   "language": "python",
   "name": "python3"
  },
  "language_info": {
   "codemirror_mode": {
    "name": "ipython",
    "version": 3
   },
   "file_extension": ".py",
   "mimetype": "text/x-python",
   "name": "python",
   "nbconvert_exporter": "python",
   "pygments_lexer": "ipython3",
   "version": "3.11.7"
  }
 },
 "nbformat": 4,
 "nbformat_minor": 5
}

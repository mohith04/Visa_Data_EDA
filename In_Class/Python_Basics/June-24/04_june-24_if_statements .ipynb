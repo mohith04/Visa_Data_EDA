{
 "cells": [
  {
   "cell_type": "code",
   "execution_count": 17,
   "id": "ae8a0201",
   "metadata": {},
   "outputs": [],
   "source": [
    "import random \n",
    "import math"
   ]
  },
  {
   "cell_type": "markdown",
   "id": "46c84181",
   "metadata": {},
   "source": [
    "### if statements \n",
    "- after the if condition is given we need to give the indentation error \n",
    "- we need to give the provide the colon (:) after the if condition \n",
    "- We need to provide the conditions in the if or in any statements or loops \n",
    "- Syntax : \n",
    "   - if (condnition):\n",
    "       - print ()"
   ]
  },
  {
   "cell_type": "code",
   "execution_count": 8,
   "id": "aeec421e",
   "metadata": {},
   "outputs": [
    {
     "name": "stdout",
     "output_type": "stream",
     "text": [
      "Python\n"
     ]
    }
   ],
   "source": [
    "if 100>10:\n",
    "    print (\"Python\")"
   ]
  },
  {
   "cell_type": "markdown",
   "id": "db9311bd",
   "metadata": {},
   "source": [
    "#### IF else statements\n",
    "- syntax:\n",
    "    - if (condition):\n",
    "        - print ()\n",
    "    - else:\n",
    "        - print ()"
   ]
  },
  {
   "cell_type": "code",
   "execution_count": 12,
   "id": "d00fe433",
   "metadata": {},
   "outputs": [
    {
     "name": "stdout",
     "output_type": "stream",
     "text": [
      "enter number: 200\n",
      "enter is greater than 10\n",
      "statement is false\n"
     ]
    }
   ],
   "source": [
    "x = int (input (\"enter number: \"))\n",
    "if x<=10:\n",
    "    print (\"enter is greater than or equal to 10\")\n",
    "    print (\"statement is true\")\n",
    "else:\n",
    "    print (\"enter is greater than 10\")\n",
    "    print (\"statement is false\")"
   ]
  },
  {
   "cell_type": "markdown",
   "id": "6a43f258",
   "metadata": {},
   "source": [
    "#### Question: \n",
    "- Find the number if its odd or even \n",
    "- condition = num % 2 == 0"
   ]
  },
  {
   "cell_type": "code",
   "execution_count": 16,
   "id": "c991de6e",
   "metadata": {},
   "outputs": [
    {
     "name": "stdout",
     "output_type": "stream",
     "text": [
      "enter number: 5001\n",
      "Number is odd\n"
     ]
    }
   ],
   "source": [
    "num = int (input (\"enter number: \"))\n",
    "if (num % 2 == 0):\n",
    "    print (\"Number is even\")\n",
    "else:\n",
    "    print (\"Number is odd\")"
   ]
  },
  {
   "cell_type": "code",
   "execution_count": 27,
   "id": "6b976cd8",
   "metadata": {},
   "outputs": [
    {
     "name": "stdout",
     "output_type": "stream",
     "text": [
      "Number is odd\n",
      "the random number generated is 85\n"
     ]
    }
   ],
   "source": [
    "num = random.randint(10,100)\n",
    "if (num % 2 == 0):\n",
    "    print (\"Number is even\")\n",
    "    print (\"the random number generated is\", num)\n",
    "else:\n",
    "    print (\"Number is odd\")\n",
    "    print (\"the random number generated is\", num)"
   ]
  },
  {
   "cell_type": "code",
   "execution_count": 34,
   "id": "01894300",
   "metadata": {},
   "outputs": [
    {
     "name": "stdout",
     "output_type": "stream",
     "text": [
      "enter number: 20\n",
      "You lost\n",
      "the random number generated is 37\n"
     ]
    }
   ],
   "source": [
    "rand = random.randint(10,100)\n",
    "given = int (input (\"enter number: \"))\n",
    "if rand == given:\n",
    "    print (\"you won\")\n",
    "    print (\"the random number generated is\", rand)\n",
    "else:\n",
    "    print (\"You lost\")\n",
    "    print (\"the random number generated is\", rand)"
   ]
  },
  {
   "cell_type": "markdown",
   "id": "6c02c7eb",
   "metadata": {},
   "source": [
    "#### Question \n",
    "- Ask the user to enter how much distance to travel \n",
    "- ask the user to enter charge per KM\n",
    "- if distance is > 25KM\n",
    "    - then print total charge \n",
    "- else \n",
    "    - print free ride "
   ]
  },
  {
   "cell_type": "code",
   "execution_count": 37,
   "id": "4f0e3fcc",
   "metadata": {},
   "outputs": [
    {
     "name": "stdout",
     "output_type": "stream",
     "text": [
      "enter distance to be travelled: 24\n",
      "enter charge per KM: 100000\n",
      "free ride\n"
     ]
    }
   ],
   "source": [
    "Dis = int (input (\"enter distance to be travelled: \"))\n",
    "price = int (input (\"enter charge per KM: \"))\n",
    "if (Dis > 25):\n",
    "    total = Dis * price\n",
    "    print (\"The total price is \", total)\n",
    "else:\n",
    "    print (\"free ride\")"
   ]
  },
  {
   "cell_type": "markdown",
   "id": "db1ef386",
   "metadata": {},
   "source": [
    "### IF-elif-else\n",
    "\n",
    "- syntax:\n",
    "-    if (condition1):\n",
    "-        print ()\n",
    "-    elif (condition2):\n",
    "-        print ()\n",
    "-    else:\n",
    "-        print ()"
   ]
  },
  {
   "cell_type": "markdown",
   "id": "9318dc40",
   "metadata": {},
   "source": [
    "#### Question:\n",
    "- Ask the user to enter the number \n",
    "- if number is equal to a number 1\n",
    "- if number is equal to a number 2 \n",
    "- if number is equal to a number 3 \n",
    "- if number is equal to a number 4 \n",
    "- else "
   ]
  },
  {
   "cell_type": "code",
   "execution_count": 42,
   "id": "0724124d",
   "metadata": {},
   "outputs": [
    {
     "name": "stdout",
     "output_type": "stream",
     "text": [
      "enter number: 599\n",
      "the number is  not equal to any of th above statement  599\n"
     ]
    }
   ],
   "source": [
    "numb = int (input (\"enter number: \"))\n",
    "if (numb == 1 ):\n",
    "    print (\"Number is equal to 1:\", numb)\n",
    "elif (numb == 2):\n",
    "    print (\"Number is eqaul to 2:\", numb)\n",
    "elif (numb == 3):\n",
    "    print (\"Number is eqaul to 3:\", numb)\n",
    "elif (numb == 4):\n",
    "    print (\"Number is eqaul to 4:\", numb)\n",
    "else:\n",
    "    print (\"the number is  not equal to any of th above statement \", numb)"
   ]
  },
  {
   "cell_type": "code",
   "execution_count": null,
   "id": "d85b49eb",
   "metadata": {},
   "outputs": [],
   "source": []
  },
  {
   "cell_type": "code",
   "execution_count": null,
   "id": "5cc5b085",
   "metadata": {},
   "outputs": [],
   "source": [
    "1"
   ]
  }
 ],
 "metadata": {
  "kernelspec": {
   "display_name": "Python 3 (ipykernel)",
   "language": "python",
   "name": "python3"
  },
  "language_info": {
   "codemirror_mode": {
    "name": "ipython",
    "version": 3
   },
   "file_extension": ".py",
   "mimetype": "text/x-python",
   "name": "python",
   "nbconvert_exporter": "python",
   "pygments_lexer": "ipython3",
   "version": "3.11.7"
  }
 },
 "nbformat": 4,
 "nbformat_minor": 5
}

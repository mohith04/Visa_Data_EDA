{
 "cells": [
  {
   "cell_type": "code",
   "execution_count": 2,
   "id": "c8fec164",
   "metadata": {},
   "outputs": [],
   "source": [
    "import random\n",
    "import math \n",
    "import string\n",
    "import time"
   ]
  },
  {
   "cell_type": "code",
   "execution_count": 5,
   "id": "0b79b79e",
   "metadata": {},
   "outputs": [
    {
     "data": {
      "text/plain": [
       "4"
      ]
     },
     "execution_count": 5,
     "metadata": {},
     "output_type": "execute_result"
    }
   ],
   "source": [
    "str1 = \"Hi my name is mohith Hi my name is mohith Hi my name is mohith Hi my name is mohith\"\n",
    "str1.count(\"hi\")"
   ]
  },
  {
   "cell_type": "code",
   "execution_count": 20,
   "id": "06754ae3",
   "metadata": {},
   "outputs": [
    {
     "data": {
      "text/plain": [
       "'Hey my name is mohith Hi my name is mohith Hi my name is mohith Hi my name is mohith'"
      ]
     },
     "execution_count": 20,
     "metadata": {},
     "output_type": "execute_result"
    }
   ],
   "source": [
    "str1.replace(\"Hi\",\"Hey\",1)"
   ]
  },
  {
   "cell_type": "code",
   "execution_count": 37,
   "id": "b7a14c0b",
   "metadata": {},
   "outputs": [
    {
     "data": {
      "text/plain": [
       "21"
      ]
     },
     "execution_count": 37,
     "metadata": {},
     "output_type": "execute_result"
    }
   ],
   "source": [
    "str1.index(\"Hi\",2)"
   ]
  },
  {
   "cell_type": "code",
   "execution_count": 35,
   "id": "68095470",
   "metadata": {},
   "outputs": [
    {
     "data": {
      "text/plain": [
       "21"
      ]
     },
     "execution_count": 35,
     "metadata": {},
     "output_type": "execute_result"
    }
   ],
   "source": [
    "str1.find(\"Hi\",2)\n",
    "# it will give the first occurence"
   ]
  },
  {
   "cell_type": "code",
   "execution_count": 28,
   "id": "c89a14d2",
   "metadata": {},
   "outputs": [
    {
     "name": "stdout",
     "output_type": "stream",
     "text": [
      "3 8 14 24 29\n"
     ]
    }
   ],
   "source": [
    "i1 = str1.index('m')\n",
    "i2 = str1.index('m',i1+1)\n",
    "i3 = str1.index('m',i2+1)\n",
    "i4 = str1.index('m',i3+1)\n",
    "i5 = str1.index('m',i4+1)\n",
    "print (i1,i2,i3,i4,i5)"
   ]
  },
  {
   "cell_type": "markdown",
   "id": "7ffb3f6c",
   "metadata": {},
   "source": [
    "$ find $"
   ]
  },
  {
   "cell_type": "code",
   "execution_count": 38,
   "id": "c3cc5a33",
   "metadata": {},
   "outputs": [
    {
     "data": {
      "text/plain": [
       "-1"
      ]
     },
     "execution_count": 38,
     "metadata": {},
     "output_type": "execute_result"
    }
   ],
   "source": [
    "str1.find(\"z\",2)"
   ]
  },
  {
   "cell_type": "markdown",
   "id": "c560333c",
   "metadata": {},
   "source": [
    "- Both the find and index are the same but the major difference is the following \n",
    "- -1 means that there is an error in find \n",
    "- error will be shown in index"
   ]
  },
  {
   "cell_type": "markdown",
   "id": "82460825",
   "metadata": {},
   "source": [
    "#### Errors encountered when using the string methods\n",
    "- count will give 0\n",
    "- index will give error \n",
    "- find will give -1\n",
    "- replace will give the same string "
   ]
  },
  {
   "cell_type": "code",
   "execution_count": 50,
   "id": "a8672fa9",
   "metadata": {},
   "outputs": [
    {
     "name": "stdout",
     "output_type": "stream",
     "text": [
      "Enter the string: Mohith\n",
      "Enter the string: Mohi\n"
     ]
    }
   ],
   "source": [
    "def find_any_string():\n",
    "    count = 0\n",
    "    string1 = input(\"Enter the string: \")\n",
    "    string2 = string1 * 3\n",
    "    str3 = input (\"Enter the string: \")\n",
    "    for i in range (len(string2)):\n",
    "        if string1[i:i+len(str3)] == str3:\n",
    "            count = count + 1\n",
    "            count\n",
    "\n",
    "find_any_string()"
   ]
  },
  {
   "cell_type": "code",
   "execution_count": 65,
   "id": "0d7b483d",
   "metadata": {},
   "outputs": [
    {
     "name": "stdout",
     "output_type": "stream",
     "text": [
      "Enter the Email-ID: Mohith.S@IBM.com\n",
      "The first name of the user is Mohith and the second name is S and the user works for this company IBM\n"
     ]
    }
   ],
   "source": [
    "def find_the_name_email():\n",
    "    Email_id = input(\"Enter the Email-ID: \")\n",
    "    i1 = Email_id.find (\".\")\n",
    "    i2 = Email_id.find (\"@\")\n",
    "    i3 = Email_id.find (\".\",i1+1)\n",
    "    first_name = Email_id[0:i1]\n",
    "    second_name = Email_id[i1+1:i2]\n",
    "    company_name = Email_id[i2+1:i3]\n",
    "    print (\"The first name of the user is\",first_name,\"and the second name is\",second_name,\"and the user works for this company\",company_name)\n",
    "find_the_name_email()"
   ]
  },
  {
   "cell_type": "code",
   "execution_count": 64,
   "id": "e1f43008",
   "metadata": {},
   "outputs": [
    {
     "name": "stdout",
     "output_type": "stream",
     "text": [
      "The first name of the user is Mohith and the second name is s and the user works for this company IBM\n",
      "6 8 12\n"
     ]
    }
   ],
   "source": [
    "Email_id = \"Mohith.s@IBM.com\"\n",
    "i1 = Email_id.find (\".\")\n",
    "i2 = Email_id.find (\"@\")\n",
    "i3 = Email_id.find (\".\",i1+1)\n",
    "first_name = Email_id[0:i1]\n",
    "second_name = Email_id[i1+1:i2]\n",
    "company_name = Email_id[i2+1:i3]\n",
    "print (\"The first name of the user is\",first_name,\"and the second name is\",second_name,\"and the user works for this company\",company_name)\n",
    "print (i1,i2,i3)"
   ]
  },
  {
   "cell_type": "markdown",
   "id": "3ae242db",
   "metadata": {},
   "source": [
    "#### Strip \n",
    "- $ l-strip $\n",
    "- $ r-strip $"
   ]
  },
  {
   "cell_type": "code",
   "execution_count": 70,
   "id": "4ca82ffc",
   "metadata": {},
   "outputs": [
    {
     "name": "stdout",
     "output_type": "stream",
     "text": [
      "python python python\n"
     ]
    }
   ],
   "source": [
    "name1 = \" python \"\n",
    "name2 = \"python \"\n",
    "name3 = \" python\"\n",
    "r = name1.strip()\n",
    "u = name2.rstrip()\n",
    "l = name3.lstrip()\n",
    "print (r,u,l)"
   ]
  },
  {
   "cell_type": "code",
   "execution_count": 68,
   "id": "cc9d02f2",
   "metadata": {},
   "outputs": [
    {
     "data": {
      "text/plain": [
       "('python', 'python', 'python')"
      ]
     },
     "execution_count": 68,
     "metadata": {},
     "output_type": "execute_result"
    }
   ],
   "source": [
    "name1.strip(),name2.rstrip(),name3.lstrip()"
   ]
  },
  {
   "cell_type": "code",
   "execution_count": 71,
   "id": "d977de08",
   "metadata": {},
   "outputs": [
    {
     "data": {
      "text/plain": [
       "('python', '$python', 'python$')"
      ]
     },
     "execution_count": 71,
     "metadata": {},
     "output_type": "execute_result"
    }
   ],
   "source": [
    "name4 = \"$python$\"\n",
    "name4.strip('$'),name4.rstrip('$'),name4.lstrip('$')"
   ]
  },
  {
   "cell_type": "code",
   "execution_count": 76,
   "id": "fc0c9ddd",
   "metadata": {},
   "outputs": [
    {
     "data": {
      "text/plain": [
       "(' python', ' python', ' python', ' python$$$')"
      ]
     },
     "execution_count": 76,
     "metadata": {},
     "output_type": "execute_result"
    }
   ],
   "source": [
    "name4 = \" python$$$\"\n",
    "name4.strip('$'),name4.strip('$'),name4.rstrip('$'),name4.lstrip('$')"
   ]
  },
  {
   "cell_type": "code",
   "execution_count": 79,
   "id": "98c53c6d",
   "metadata": {},
   "outputs": [
    {
     "data": {
      "text/plain": [
       "'python'"
      ]
     },
     "execution_count": 79,
     "metadata": {},
     "output_type": "execute_result"
    }
   ],
   "source": [
    "name4 = \" python$$$\"\n",
    "name4.strip('$').strip('$').strip('$').strip()"
   ]
  },
  {
   "cell_type": "markdown",
   "id": "d50c460e",
   "metadata": {},
   "source": [
    "$ Split $"
   ]
  },
  {
   "cell_type": "code",
   "execution_count": 80,
   "id": "0d86246c",
   "metadata": {},
   "outputs": [
    {
     "data": {
      "text/plain": [
       "['Hi',\n",
       " 'my',\n",
       " 'name',\n",
       " 'is',\n",
       " 'mohith',\n",
       " 'Hi',\n",
       " 'my',\n",
       " 'name',\n",
       " 'is',\n",
       " 'mohith',\n",
       " 'Hi',\n",
       " 'my',\n",
       " 'name',\n",
       " 'is',\n",
       " 'mohith',\n",
       " 'Hi',\n",
       " 'my',\n",
       " 'name',\n",
       " 'is',\n",
       " 'mohith']"
      ]
     },
     "execution_count": 80,
     "metadata": {},
     "output_type": "execute_result"
    }
   ],
   "source": [
    "str1.split()"
   ]
  },
  {
   "cell_type": "code",
   "execution_count": 81,
   "id": "50bebb39",
   "metadata": {},
   "outputs": [
    {
     "data": {
      "text/plain": [
       "['hai h', 'w are y', 'u']"
      ]
     },
     "execution_count": 81,
     "metadata": {},
     "output_type": "execute_result"
    }
   ],
   "source": [
    "str2 = \"hai how are you\"\n",
    "str2.split('o')"
   ]
  },
  {
   "cell_type": "markdown",
   "id": "9aafb792",
   "metadata": {},
   "source": [
    "$startswith$-$endswith$"
   ]
  },
  {
   "cell_type": "code",
   "execution_count": 83,
   "id": "ae6fd9b2",
   "metadata": {},
   "outputs": [
    {
     "data": {
      "text/plain": [
       "True"
      ]
     },
     "execution_count": 83,
     "metadata": {},
     "output_type": "execute_result"
    }
   ],
   "source": [
    "str2 = \"hai how are you\"\n",
    "str2.startswith('ha')"
   ]
  },
  {
   "cell_type": "code",
   "execution_count": 84,
   "id": "6b9feb74",
   "metadata": {},
   "outputs": [
    {
     "data": {
      "text/plain": [
       "False"
      ]
     },
     "execution_count": 84,
     "metadata": {},
     "output_type": "execute_result"
    }
   ],
   "source": [
    "str2.startswith('he')"
   ]
  },
  {
   "cell_type": "code",
   "execution_count": 85,
   "id": "2409c8b1",
   "metadata": {},
   "outputs": [
    {
     "data": {
      "text/plain": [
       "False"
      ]
     },
     "execution_count": 85,
     "metadata": {},
     "output_type": "execute_result"
    }
   ],
   "source": [
    "str2.startswith('hai how are you ')"
   ]
  },
  {
   "cell_type": "code",
   "execution_count": 86,
   "id": "1b8d189d",
   "metadata": {},
   "outputs": [
    {
     "data": {
      "text/plain": [
       "True"
      ]
     },
     "execution_count": 86,
     "metadata": {},
     "output_type": "execute_result"
    }
   ],
   "source": [
    "str2.endswith('hai how are you')"
   ]
  },
  {
   "cell_type": "code",
   "execution_count": null,
   "id": "504653ee",
   "metadata": {},
   "outputs": [],
   "source": []
  }
 ],
 "metadata": {
  "kernelspec": {
   "display_name": "Python 3 (ipykernel)",
   "language": "python",
   "name": "python3"
  },
  "language_info": {
   "codemirror_mode": {
    "name": "ipython",
    "version": 3
   },
   "file_extension": ".py",
   "mimetype": "text/x-python",
   "name": "python",
   "nbconvert_exporter": "python",
   "pygments_lexer": "ipython3",
   "version": "3.11.7"
  }
 },
 "nbformat": 4,
 "nbformat_minor": 5
}

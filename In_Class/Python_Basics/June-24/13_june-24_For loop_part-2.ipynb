{
 "cells": [
  {
   "cell_type": "code",
   "execution_count": 1,
   "id": "9dce698e",
   "metadata": {},
   "outputs": [],
   "source": [
    "import time \n",
    "import math\n",
    "import random\n",
    "import keyword "
   ]
  },
  {
   "cell_type": "code",
   "execution_count": 2,
   "id": "b8fdd32d",
   "metadata": {},
   "outputs": [
    {
     "data": {
      "text/plain": [
       "6"
      ]
     },
     "execution_count": 2,
     "metadata": {},
     "output_type": "execute_result"
    }
   ],
   "source": [
    "l = [1,2,3]\n",
    "sum(l)"
   ]
  },
  {
   "cell_type": "code",
   "execution_count": 3,
   "id": "f1b80819",
   "metadata": {},
   "outputs": [
    {
     "name": "stdout",
     "output_type": "stream",
     "text": [
      "Enter the number to find the multiplication 9\n",
      "The number you want to find the multiplies of the number\n",
      "The multiple of  9  x  1 =  9\n",
      "The multiple of  9  x  2 =  18\n",
      "The multiple of  9  x  3 =  27\n",
      "The multiple of  9  x  4 =  36\n",
      "The multiple of  9  x  5 =  45\n",
      "The multiple of  9  x  6 =  54\n",
      "The multiple of  9  x  7 =  63\n",
      "The multiple of  9  x  8 =  72\n",
      "The multiple of  9  x  9 =  81\n",
      "The multiple of  9  x  10 =  90\n"
     ]
    }
   ],
   "source": [
    "# WAP to do the multiples of any number till 10 \n",
    "\n",
    "def multiplication_of_numbers (num):\n",
    "    print (\"The number you want to find the multiplies of the number\")\n",
    "    for i in range (1,11):\n",
    "        mul = num * i\n",
    "        print (\"The multiple of \",num,\" x \",i,\"= \",mul)\n",
    "\n",
    "multiplication_of_numbers (eval(input(\"Enter the number to find the multiplication \")))"
   ]
  },
  {
   "cell_type": "code",
   "execution_count": 4,
   "id": "6586b6a8",
   "metadata": {},
   "outputs": [
    {
     "name": "stdout",
     "output_type": "stream",
     "text": [
      "The number you want to find the multiplies of the number\n",
      "The multiple of  747  x  1 =  747\n",
      "The multiple of  747  x  2 =  1494\n",
      "The multiple of  747  x  3 =  2241\n",
      "The multiple of  747  x  4 =  2988\n",
      "The multiple of  747  x  5 =  3735\n",
      "The multiple of  747  x  6 =  4482\n",
      "The multiple of  747  x  7 =  5229\n",
      "The multiple of  747  x  8 =  5976\n",
      "The multiple of  747  x  9 =  6723\n",
      "The multiple of  747  x  10 =  7470\n"
     ]
    }
   ],
   "source": [
    "# WAP to do the random multiples of any number till 10 \n",
    "\n",
    "def multiplication_of_number (num):\n",
    "    print (\"The number you want to find the multiplies of the number\")\n",
    "    for i in range (1,11):\n",
    "        mul = num * i\n",
    "        time.sleep(1)\n",
    "        print (\"The multiple of \",num,\" x \",i,\"= \",mul)\n",
    "\n",
    "multiplication_of_number (random.randint(1,1000))"
   ]
  },
  {
   "cell_type": "code",
   "execution_count": 5,
   "id": "1728a66a",
   "metadata": {},
   "outputs": [
    {
     "name": "stdout",
     "output_type": "stream",
     "text": [
      "Enter the number to find the divisor 50\n",
      "Enter the number that you want to find the divisor till 50\n",
      "The divisor of the number  50 = 1\n",
      "The divisor of the number  50 = 2\n",
      "The divisor of the number  50 = 5\n",
      "The divisor of the number  50 = 10\n",
      "The divisor of the number  50 = 25\n",
      "The divisor of the number  50 = 50\n"
     ]
    }
   ],
   "source": [
    "# WAP to find the number divisor of a given number \n",
    "def divisor_of_numbers (num):\n",
    "    print (\"Enter the number that you want to find the divisor till 50\")\n",
    "    for i in range (1,51):\n",
    "        if num % i == 0:\n",
    "            print (\"The divisor of the number \",num,\"=\",i)\n",
    "\n",
    "divisor_of_numbers (eval(input(\"Enter the number to find the divisor \")))"
   ]
  },
  {
   "cell_type": "code",
   "execution_count": 6,
   "id": "bda6cbaa",
   "metadata": {},
   "outputs": [
    {
     "name": "stdout",
     "output_type": "stream",
     "text": [
      "Enter the number to find the divisor 50\n",
      "Enter the number that you want to find the divisor till 100\n",
      "The divisor of the number  50 = 1\n",
      "The divisor of the number  50 = 2\n",
      "The divisor of the number  50 = 5\n",
      "The divisor of the number  50 = 10\n",
      "The divisor of the number  50 = 25\n",
      "The divisor of the number  50 = 50\n"
     ]
    }
   ],
   "source": [
    "# WAP to find the number divisor of a given number \n",
    "def divisor_of_number (num):\n",
    "    div = eval(input(\"Enter the number that you want to find the divisor till \"))\n",
    "    for i in range (1,div):\n",
    "        if num % i == 0:\n",
    "            print (\"The divisor of the number \",num,\"=\",i)\n",
    "\n",
    "divisor_of_number (eval(input(\"Enter the number to find the divisor \")))"
   ]
  },
  {
   "cell_type": "code",
   "execution_count": 7,
   "id": "2aa530ca",
   "metadata": {},
   "outputs": [
    {
     "name": "stdout",
     "output_type": "stream",
     "text": [
      "Enter the number to find sum of natural number 10\n",
      "1 3 6 10 15 21 28 36 45 55 the sum of natural number for  10 is 55\n"
     ]
    }
   ],
   "source": [
    "# WAP to find the sum of 10 natural number \n",
    "\n",
    "def sum_natural_numbers ():\n",
    "    num = eval(input(\"Enter the number to find sum of natural number \"))\n",
    "    temp = 0\n",
    "    for i in range (1,num+1):\n",
    "        sume = temp + i\n",
    "        temp = sume \n",
    "        print (temp,end = \" \")\n",
    "    print (\"the sum of natural number for \", num,\"is\",temp)\n",
    "\n",
    "sum_natural_numbers ()"
   ]
  },
  {
   "cell_type": "markdown",
   "id": "561a7a50",
   "metadata": {},
   "source": [
    "### Counter wrapper"
   ]
  },
  {
   "cell_type": "code",
   "execution_count": 8,
   "id": "81358a8c",
   "metadata": {},
   "outputs": [
    {
     "name": "stdout",
     "output_type": "stream",
     "text": [
      "Enter the number to find the divisor 50\n",
      "Enter the number that you want to find the divisor till 51\n",
      "The divisor of the number  50 = 1\n",
      "The divisor of the number  50 = 2\n",
      "The divisor of the number  50 = 5\n",
      "The divisor of the number  50 = 10\n",
      "The divisor of the number  50 = 25\n",
      "The divisor of the number  50 = 50\n",
      "The number of divisor availble for the number 50 is 6\n"
     ]
    }
   ],
   "source": [
    "# WAP how many number of divisors for every number\n",
    "def divisor_of_number_1 (num):\n",
    "    div = eval(input(\"Enter the number that you want to find the divisor till \"))\n",
    "    count = 0\n",
    "    for i in range (1,div):\n",
    "        if num % i == 0:\n",
    "            print (\"The divisor of the number \",num,\"=\",i)\n",
    "            count = count + 1\n",
    "    print (\"The number of divisor availble for the number\",num,\"is\" ,count)\n",
    "divisor_of_number_1 (eval(input(\"Enter the number to find the divisor \")))"
   ]
  },
  {
   "cell_type": "code",
   "execution_count": 9,
   "id": "820b178b",
   "metadata": {},
   "outputs": [
    {
     "name": "stdout",
     "output_type": "stream",
     "text": [
      "enter the first number9\n",
      "you have lost to  2\n",
      "you have lost to  2\n",
      "you have lost to  7\n"
     ]
    }
   ],
   "source": [
    "# WAP ask the user enter the number 1 from key\n",
    "# ask the user get second number randomly from 1 - 10\n",
    "# if num1 == num2 then you have won or you have lost \n",
    "\n",
    "def luck_by_chance (num1):\n",
    "    for i in range (1,4):\n",
    "        num2 = random.randint (1,10)\n",
    "        if num1 == num2:\n",
    "            print (\"you have won to \",num2)\n",
    "        else:\n",
    "            print (\"you have lost to \",num2)\n",
    "\n",
    "            \n",
    "luck_by_chance (eval(input(\"enter the first number\")))"
   ]
  },
  {
   "cell_type": "markdown",
   "id": "9b78f761",
   "metadata": {},
   "source": [
    "#### Break statement\n",
    "- case 1"
   ]
  },
  {
   "cell_type": "code",
   "execution_count": 11,
   "id": "9faa7e2b",
   "metadata": {},
   "outputs": [
    {
     "name": "stdout",
     "output_type": "stream",
     "text": [
      "enter the first number9\n",
      "you have lost to  2\n",
      "you have lost to  5\n",
      "you have lost to  7\n",
      "you have lost to  3\n",
      "you have lost to  6\n",
      "you have won to  9\n",
      "5\n"
     ]
    }
   ],
   "source": [
    "def luck_by_chance_break (num1):\n",
    "    count = 0\n",
    "    for i in range (1,11):\n",
    "        num2 = random.randint (1,11)\n",
    "        if num1 == num2:\n",
    "            print (\"you have won to \",num2)\n",
    "            break\n",
    "        else:\n",
    "            print (\"you have lost to \",num2)\n",
    "            count = count + 1\n",
    "    print (count)      \n",
    "luck_by_chance_break (eval(input(\"enter the first number\")))"
   ]
  },
  {
   "cell_type": "code",
   "execution_count": 12,
   "id": "f9cc2962",
   "metadata": {},
   "outputs": [
    {
     "name": "stdout",
     "output_type": "stream",
     "text": [
      "enter the first number 10\n",
      "you have won to  10\n"
     ]
    }
   ],
   "source": [
    "# case 2 \n",
    "# give 5 chances \n",
    "# whenever fail print the chances left \n",
    "def luck_by_chance_break_2 ():\n",
    "    count = 5\n",
    "    for i in range (1,10):\n",
    "        num1 = eval(input(\"enter the first number \"))\n",
    "        num2 = random.randint (1,10)\n",
    "        if num1 == num2:\n",
    "            print (\"you have won to \",num2)\n",
    "            break\n",
    "        else:\n",
    "            count = count - 1\n",
    "            print (\"you have lost to \",num2)\n",
    "            print (\"You have chances left \",count) \n",
    "            \n",
    "luck_by_chance_break_2 ()"
   ]
  },
  {
   "cell_type": "code",
   "execution_count": 2,
   "id": "4b13abb9",
   "metadata": {},
   "outputs": [
    {
     "name": "stdout",
     "output_type": "stream",
     "text": [
      "The password should be only numbers \n",
      "enter the first password 123\n",
      "the password you have entered is wrong try again later\n",
      "You have 4 chance to get the right password \n",
      "enter the first password 1234\n",
      "the password you have entered is wrong try again later\n",
      "You have 3 chance to get the right password \n",
      "enter the first password 1235\n",
      "the password you have entered is wrong try again later\n",
      "You have 2 chance to get the right password \n",
      "enter the first password 1236\n",
      "the password you have entered is wrong try again later\n",
      "You have 1 chance to get the right password \n",
      "enter the first password 123456\n",
      "The password is right, enjoy your access\n"
     ]
    }
   ],
   "source": [
    "# Given 5 chances and if all chances are over then print your account is locked try after 24 hours \n",
    "def password_generator():\n",
    "    password = 123456\n",
    "    count = 5\n",
    "    print (\"The password should be only numbers \")\n",
    "    for i in range (1,6):\n",
    "        password = eval(input(\"enter the first password \"))\n",
    "        if password == 123456:\n",
    "            print (\"The password is right, enjoy your access\")\n",
    "        elif password != 12345:\n",
    "            count = count - 1\n",
    "            print (\"the password you have entered is wrong try again later\")\n",
    "            print (\"You have\",count,\"chance to get the right password \")\n",
    "        elif count == 0:\n",
    "            print (\"Your account is locked try again after 24 hours\")\n",
    "            break\n",
    "        else:\n",
    "            print (\"Your account is locked try again after 24 hours\")\n",
    "\n",
    "password_generator()"
   ]
  },
  {
   "cell_type": "code",
   "execution_count": 4,
   "id": "40e09a56",
   "metadata": {},
   "outputs": [
    {
     "name": "stdout",
     "output_type": "stream",
     "text": [
      "The password should be only numbers \n",
      "enter the first password 123\n",
      "the password you have entered is wrong try again later\n",
      "You have 4 chance to get the right password \n",
      "Please enter the right password\n",
      "enter the first password 123\n",
      "the password you have entered is wrong try again later\n",
      "You have 3 chance to get the right password \n",
      "Please enter the right password\n",
      "enter the first password 213\n",
      "the password you have entered is wrong try again later\n",
      "You have 2 chance to get the right password \n",
      "Please enter the right password\n",
      "enter the first password 123\n",
      "the password you have entered is wrong try again later\n",
      "You have 1 chance to get the right password \n",
      "Please enter the right password\n",
      "enter the first password 123\n",
      "the password you have entered is wrong try again later\n",
      "You have 0 chance to get the right password \n",
      "Your account is locked try again after 24 hours\n"
     ]
    }
   ],
   "source": [
    "# Given 5 chances and if all chances are over then print your account is locked try after 24 hours \n",
    "# wrong password \n",
    "def password_generator_1():\n",
    "    password = 123456\n",
    "    count = 5\n",
    "    print (\"The password should be only numbers \")\n",
    "    for i in range (1,6):\n",
    "        password = eval(input(\"enter the first password \"))\n",
    "        if password == 123456:\n",
    "            print (\"The password is right, enjoy your access\")\n",
    "        else:\n",
    "            count = count - 1\n",
    "            print (\"the password you have entered is wrong try again later\")\n",
    "            print (\"You have\",count,\"chance to get the right password \")\n",
    "        if count == 0:\n",
    "            print (\"Your account is locked try again after 24 hours\")\n",
    "            break\n",
    "        else:\n",
    "            print (\"Please enter the right password\")\n",
    "\n",
    "password_generator_1()"
   ]
  },
  {
   "cell_type": "markdown",
   "id": "95afc533",
   "metadata": {},
   "source": []
  }
 ],
 "metadata": {
  "kernelspec": {
   "display_name": "Python 3 (ipykernel)",
   "language": "python",
   "name": "python3"
  },
  "language_info": {
   "codemirror_mode": {
    "name": "ipython",
    "version": 3
   },
   "file_extension": ".py",
   "mimetype": "text/x-python",
   "name": "python",
   "nbconvert_exporter": "python",
   "pygments_lexer": "ipython3",
   "version": "3.11.7"
  }
 },
 "nbformat": 4,
 "nbformat_minor": 5
}

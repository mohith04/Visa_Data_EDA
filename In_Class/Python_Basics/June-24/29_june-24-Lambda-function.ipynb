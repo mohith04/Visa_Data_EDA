{
 "cells": [
  {
   "cell_type": "markdown",
   "id": "3a222c7e-5ce5-4a2c-8388-6b478ce14d85",
   "metadata": {},
   "source": [
    "### Lambda Functions\n",
    "- it a kind of a single line of function\n",
    "- we have already seen list comprehension which means a single line\n",
    "- lambda functions gives the flexibility to stop writing long code on iterative execution it will save time"
   ]
  },
  {
   "cell_type": "code",
   "execution_count": 4,
   "id": "b8650596-d05b-4af3-9d0d-b1ae8506d811",
   "metadata": {},
   "outputs": [
    {
     "data": {
      "text/plain": [
       "30"
      ]
     },
     "execution_count": 4,
     "metadata": {},
     "output_type": "execute_result"
    }
   ],
   "source": [
    "def sume(num):\n",
    "    return (num+10)\n",
    "sume(20)"
   ]
  },
  {
   "cell_type": "markdown",
   "id": "fdd6808c-c845-4c80-b66c-b038d0c6654d",
   "metadata": {},
   "source": [
    "$pattern-1$"
   ]
  },
  {
   "cell_type": "markdown",
   "id": "f5cb7a39-4954-448e-bf79-e8cab65ae089",
   "metadata": {},
   "source": [
    "- when ever you want to\n",
    "- lambda function_name \n",
    "- variable name\n",
    "- return output\n",
    "- function_name = lambda (variable_name):return output"
   ]
  },
  {
   "cell_type": "code",
   "execution_count": 18,
   "id": "efa68da0-64ea-4efe-b84d-23b000a8d2b8",
   "metadata": {},
   "outputs": [
    {
     "data": {
      "text/plain": [
       "30"
      ]
     },
     "execution_count": 18,
     "metadata": {},
     "output_type": "execute_result"
    }
   ],
   "source": [
    "sumn = lambda num:num+10\n",
    "sumn(20)"
   ]
  },
  {
   "cell_type": "code",
   "execution_count": 20,
   "id": "d8bddb8a-56df-4976-82a9-932fef6f562b",
   "metadata": {},
   "outputs": [
    {
     "data": {
      "text/plain": [
       "27"
      ]
     },
     "execution_count": 20,
     "metadata": {},
     "output_type": "execute_result"
    }
   ],
   "source": [
    "def cube(x):\n",
    "    return(x*x*x)\n",
    "cube(3)"
   ]
  },
  {
   "cell_type": "code",
   "execution_count": 22,
   "id": "32f40cbb-d884-4bba-98b4-38dc923f6266",
   "metadata": {},
   "outputs": [
    {
     "data": {
      "text/plain": [
       "64"
      ]
     },
     "execution_count": 22,
     "metadata": {},
     "output_type": "execute_result"
    }
   ],
   "source": [
    "cube1 = lambda x : x*x*x\n",
    "cube1(4)"
   ]
  },
  {
   "cell_type": "markdown",
   "id": "49f5b011-ddb1-490d-a851-52a29606d16d",
   "metadata": {},
   "source": [
    "$Pattern-2$"
   ]
  },
  {
   "cell_type": "markdown",
   "id": "e63dd1ce-d444-4010-bd60-2c28d0679e57",
   "metadata": {},
   "source": [
    "**Two arguments** \n",
    "- syntax : function_name = lambda (argument1,argument2):return_output"
   ]
  },
  {
   "cell_type": "code",
   "execution_count": 30,
   "id": "2db0fd3b-6c1e-47d0-abe5-e75f88ca86c9",
   "metadata": {},
   "outputs": [
    {
     "data": {
      "text/plain": [
       "22"
      ]
     },
     "execution_count": 30,
     "metadata": {},
     "output_type": "execute_result"
    }
   ],
   "source": [
    "def addition(n1,n2):\n",
    "    return (n1+n2)\n",
    "\n",
    "addition(10,12)"
   ]
  },
  {
   "cell_type": "code",
   "execution_count": 32,
   "id": "e3d1ae28-6ea5-4f37-a4fb-85ad04dc1699",
   "metadata": {},
   "outputs": [
    {
     "data": {
      "text/plain": [
       "25"
      ]
     },
     "execution_count": 32,
     "metadata": {},
     "output_type": "execute_result"
    }
   ],
   "source": [
    "addition1 = lambda n1,n2 : n1+n2\n",
    "addition1(12,13)"
   ]
  },
  {
   "cell_type": "code",
   "execution_count": 39,
   "id": "b25600ce-5d67-4b90-8ed1-4afdf7108021",
   "metadata": {},
   "outputs": [
    {
     "data": {
      "text/plain": [
       "13.27"
      ]
     },
     "execution_count": 39,
     "metadata": {},
     "output_type": "execute_result"
    }
   ],
   "source": [
    "average = lambda n1,n2,n3 : round ((n1+n2+n3)/3,2)\n",
    "average (12.233,13.34334454,14.233432145)"
   ]
  },
  {
   "cell_type": "markdown",
   "id": "7fca1abe-69ee-4601-b913-c3a1a43f30fc",
   "metadata": {},
   "source": [
    "$Pattern-2$"
   ]
  },
  {
   "cell_type": "markdown",
   "id": "b7975e35-8f7f-4cfa-a1a8-8be07a3df7e9",
   "metadata": {},
   "source": [
    "**Default arguments**"
   ]
  },
  {
   "cell_type": "code",
   "execution_count": 49,
   "id": "68207872-323c-4bb9-acf7-58fdb34c6d56",
   "metadata": {},
   "outputs": [
    {
     "data": {
      "text/plain": [
       "41.9"
      ]
     },
     "execution_count": 49,
     "metadata": {},
     "output_type": "execute_result"
    }
   ],
   "source": [
    "average = lambda n1,n2,n3=100.12312 : round ((n1+n2+n3)/3,2)\n",
    "average (12.233,13.34)"
   ]
  },
  {
   "cell_type": "markdown",
   "id": "210adbcd-a6a8-40fc-827c-9765bb86e68d",
   "metadata": {},
   "source": [
    "$Pattern-4$"
   ]
  },
  {
   "cell_type": "markdown",
   "id": "fa5e763a-c4ba-4f3f-a20f-e704f33267d4",
   "metadata": {},
   "source": [
    "**If_Else_statments**"
   ]
  },
  {
   "cell_type": "code",
   "execution_count": 55,
   "id": "28597d47-4976-480f-9230-be4239c5c7a1",
   "metadata": {},
   "outputs": [
    {
     "data": {
      "text/plain": [
       "'hello'"
      ]
     },
     "execution_count": 55,
     "metadata": {},
     "output_type": "execute_result"
    }
   ],
   "source": [
    "def greet (n1):\n",
    "    if n1>10:\n",
    "        return ('hello')\n",
    "\n",
    "greet(11)"
   ]
  },
  {
   "cell_type": "markdown",
   "id": "06c9a6e6-239e-446c-bd2c-b176e85ef6d1",
   "metadata": {},
   "source": [
    "- syntax : function_name = lambda arg1: if_out if_condition else else_output"
   ]
  },
  {
   "cell_type": "code",
   "execution_count": 69,
   "id": "3463a9d5-45b5-42a4-8975-737e1b995067",
   "metadata": {},
   "outputs": [
    {
     "data": {
      "text/plain": [
       "'bye'"
      ]
     },
     "execution_count": 69,
     "metadata": {},
     "output_type": "execute_result"
    }
   ],
   "source": [
    "greet1 = lambda n1 : 'hello' if n1>10 else 'bye'\n",
    "greet1(10)"
   ]
  },
  {
   "cell_type": "code",
   "execution_count": 79,
   "id": "1b041eed-c8d0-424d-855d-c359cae76c9c",
   "metadata": {},
   "outputs": [
    {
     "data": {
      "text/plain": [
       "'300 is greater then 200'"
      ]
     },
     "execution_count": 79,
     "metadata": {},
     "output_type": "execute_result"
    }
   ],
   "source": [
    "greatest_number = lambda n1, n2 : f\"{n1} is greater then {n2}\" if n1>n2 else f\"{n2} is greater then {n1}\"\n",
    "greatest_number (300,200)"
   ]
  },
  {
   "cell_type": "markdown",
   "id": "98f600b0-74e0-4839-aa09-110c553f63c8",
   "metadata": {},
   "source": [
    "$Pattern-5$"
   ]
  },
  {
   "cell_type": "markdown",
   "id": "5bc8c94b-12fc-4cb0-996a-69f0d1c41f06",
   "metadata": {},
   "source": [
    "**Using list**"
   ]
  },
  {
   "cell_type": "code",
   "execution_count": 84,
   "id": "842f004c-120f-4e3d-8d59-77845e084f28",
   "metadata": {},
   "outputs": [
    {
     "data": {
      "text/plain": [
       "['Hyd', 'Blr', 'Chennai']"
      ]
     },
     "execution_count": 84,
     "metadata": {},
     "output_type": "execute_result"
    }
   ],
   "source": [
    "list1 = [\"hyd\",'blr','chennai']\n",
    "list2 =[]\n",
    "for i in list1:\n",
    "    list2.append(i.capitalize())\n",
    "\n",
    "list2"
   ]
  },
  {
   "cell_type": "code",
   "execution_count": 90,
   "id": "50de1b41-9818-4637-8f90-bf1534c5dfb7",
   "metadata": {},
   "outputs": [
    {
     "data": {
      "text/plain": [
       "['Hyd', 'Blr', 'Chennai']"
      ]
     },
     "execution_count": 90,
     "metadata": {},
     "output_type": "execute_result"
    }
   ],
   "source": [
    "list3 = [i.capitalize() for i in list1 ]\n",
    "list3"
   ]
  },
  {
   "cell_type": "code",
   "execution_count": 96,
   "id": "4096fc0d-faa1-4a08-8539-73315cd298a0",
   "metadata": {},
   "outputs": [
    {
     "data": {
      "text/plain": [
       "(<function __main__.<lambda>(i)>, ['hyd', 'blr', 'chennai'])"
      ]
     },
     "execution_count": 96,
     "metadata": {},
     "output_type": "execute_result"
    }
   ],
   "source": [
    "capitalize_of_word = lambda i: i.capitalize(),list1 \n",
    "capitalize_of_word"
   ]
  },
  {
   "cell_type": "markdown",
   "id": "aa2eb86a-4aad-4faa-b88a-fd85ef1434f6",
   "metadata": {},
   "source": [
    "**Map Method**\n",
    "- we are the mapping the function and the result"
   ]
  },
  {
   "cell_type": "code",
   "execution_count": 102,
   "id": "455078b2-39b7-47ef-96f4-bc2e757abfdb",
   "metadata": {},
   "outputs": [
    {
     "data": {
      "text/plain": [
       "<map at 0x16f31407970>"
      ]
     },
     "execution_count": 102,
     "metadata": {},
     "output_type": "execute_result"
    }
   ],
   "source": [
    "map (lambda i : i.capitalize(),list1 )"
   ]
  },
  {
   "cell_type": "markdown",
   "id": "2cb73ce0-1f8a-4a32-8bc7-45a7dc3df4fe",
   "metadata": {},
   "source": [
    "- We need to use list instead of using for loop here "
   ]
  },
  {
   "cell_type": "code",
   "execution_count": 104,
   "id": "297f974c-f013-4e17-a2c6-de55621aceb6",
   "metadata": {},
   "outputs": [
    {
     "data": {
      "text/plain": [
       "['Hyd', 'Blr', 'Chennai']"
      ]
     },
     "execution_count": 104,
     "metadata": {},
     "output_type": "execute_result"
    }
   ],
   "source": [
    "list (map (lambda i : i.capitalize(),list1))"
   ]
  },
  {
   "cell_type": "markdown",
   "id": "342ba382-d13f-41a2-963f-1e024055aa4c",
   "metadata": {},
   "source": [
    "#### How to do the mapping and listing step-by-step \n",
    "1. create a normal lambda function\n",
    "    - lambda(arg): output\n",
    "2. add the iterable\n",
    "    - lambda(arg): output,list\n",
    "3. map the both function and list\n",
    "    - map (lambda (arg):output,list)\n",
    "4. save the result in a list or tuple\n",
    "    - list (map (lambda (arg):output,list))"
   ]
  },
  {
   "cell_type": "code",
   "execution_count": 115,
   "id": "9e746b52-adf2-406f-af83-76a90ccc085b",
   "metadata": {},
   "outputs": [
    {
     "data": {
      "text/plain": [
       "['***hyd****', '***blr****', '*chennai**']"
      ]
     },
     "execution_count": 115,
     "metadata": {},
     "output_type": "execute_result"
    }
   ],
   "source": [
    "list (map(lambda i : i.center(10,'*'),list1))"
   ]
  },
  {
   "cell_type": "code",
   "execution_count": 117,
   "id": "deea9b5d-6d14-4409-bf32-cdae81cb8ba6",
   "metadata": {},
   "outputs": [
    {
     "data": {
      "text/plain": [
       "['HYD', 'BLR', 'CHENNAI']"
      ]
     },
     "execution_count": 117,
     "metadata": {},
     "output_type": "execute_result"
    }
   ],
   "source": [
    "list (map(lambda i : i.upper(),list1))"
   ]
  },
  {
   "cell_type": "code",
   "execution_count": 119,
   "id": "ce01dc09-a445-413e-aafd-df5980808013",
   "metadata": {},
   "outputs": [
    {
     "data": {
      "text/plain": [
       "['hyd', 'blr', 'chennai']"
      ]
     },
     "execution_count": 119,
     "metadata": {},
     "output_type": "execute_result"
    }
   ],
   "source": [
    "list (map(lambda i : i.lower(),list1))"
   ]
  },
  {
   "cell_type": "code",
   "execution_count": 123,
   "id": "f31ac0bb-4121-4b6e-a137-603dace1831e",
   "metadata": {},
   "outputs": [
    {
     "data": {
      "text/plain": [
       "['che#nnai', 'mum#bai']"
      ]
     },
     "execution_count": 123,
     "metadata": {},
     "output_type": "execute_result"
    }
   ],
   "source": [
    "lists = ['hyd','blr','che#nnai','mum#bai']\n",
    "out2 = [i for i in lists if '#' in i]\n",
    "out2"
   ]
  },
  {
   "cell_type": "code",
   "execution_count": 125,
   "id": "48d72219-644d-4ca4-af2e-79c43dbe1022",
   "metadata": {},
   "outputs": [
    {
     "data": {
      "text/plain": [
       "[False, False, True, True]"
      ]
     },
     "execution_count": 125,
     "metadata": {},
     "output_type": "execute_result"
    }
   ],
   "source": [
    "list (map(lambda i : '#' in i,lists))"
   ]
  },
  {
   "cell_type": "markdown",
   "id": "75c16a65-67dd-42d2-b690-6fff1b72d2de",
   "metadata": {},
   "source": [
    "- Whenever you are applying a condition on the list \n",
    "- write only the condition without using if "
   ]
  },
  {
   "cell_type": "markdown",
   "id": "b68c9aa6-7bb7-41fd-8d1a-a7ba3312ef66",
   "metadata": {},
   "source": [
    "**Filter method**\n",
    "- when ever your getting true or false then use filter instead of the map"
   ]
  },
  {
   "cell_type": "code",
   "execution_count": 129,
   "id": "611f67ab-df63-46e3-9ed1-c1fbf6de3447",
   "metadata": {},
   "outputs": [
    {
     "data": {
      "text/plain": [
       "['che#nnai', 'mum#bai']"
      ]
     },
     "execution_count": 129,
     "metadata": {},
     "output_type": "execute_result"
    }
   ],
   "source": [
    "list (filter(lambda i : '#' in i,lists))"
   ]
  },
  {
   "cell_type": "code",
   "execution_count": 136,
   "id": "e5fb933f-fcf9-4407-8675-2442d84d950b",
   "metadata": {},
   "outputs": [
    {
     "name": "stdout",
     "output_type": "stream",
     "text": [
      "[True, True, False, False]\n",
      "['hyd', 'blr']\n"
     ]
    }
   ],
   "source": [
    "list3 = ['hyd','blr','chennai','mumbai']\n",
    "list4 = []\n",
    "print (list (map(lambda i : len(i)<=3,list3)))\n",
    "print (list (filter (lambda i : len (i)<=3,list3)))"
   ]
  },
  {
   "cell_type": "code",
   "execution_count": null,
   "id": "9dd5e739-df00-41b7-ab2e-798dd4d2da2c",
   "metadata": {},
   "outputs": [],
   "source": []
  }
 ],
 "metadata": {
  "kernelspec": {
   "display_name": "Python 3 (ipykernel)",
   "language": "python",
   "name": "python3"
  },
  "language_info": {
   "codemirror_mode": {
    "name": "ipython",
    "version": 3
   },
   "file_extension": ".py",
   "mimetype": "text/x-python",
   "name": "python",
   "nbconvert_exporter": "python",
   "pygments_lexer": "ipython3",
   "version": "3.11.7"
  }
 },
 "nbformat": 4,
 "nbformat_minor": 5
}

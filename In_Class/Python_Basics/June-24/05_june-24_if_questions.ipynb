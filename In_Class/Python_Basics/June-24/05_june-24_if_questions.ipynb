{
 "cells": [
  {
   "cell_type": "markdown",
   "id": "263c45db",
   "metadata": {},
   "source": [
    "### question \n",
    "- Find the marks percentage \n",
    "- check for the grades \n",
    "    - A >= 90%\n",
    "    - 70 >= B >= 80\n",
    "    - 50 >= C >= 70\n",
    "    - 35 >= D >= 50\n",
    "    - E > 34"
   ]
  },
  {
   "cell_type": "code",
   "execution_count": 6,
   "id": "ea04cc41",
   "metadata": {},
   "outputs": [
    {
     "name": "stdout",
     "output_type": "stream",
     "text": [
      " Enter the marks: 50\n",
      " You have recevied C grade\n"
     ]
    }
   ],
   "source": [
    "marks = eval (input (\" Enter the marks: \"))\n",
    "if (marks >= 90):\n",
    "    print (\" You have recevied A grade\")\n",
    "elif (89 > marks >= 70):\n",
    "    print (\" You have recevied B grade\")\n",
    "elif (69 > marks >= 50):\n",
    "    print (\" You have recevied C grade\")\n",
    "elif (49 > marks >= 35):\n",
    "    print (\" You have recevied D grade\")\n",
    "else:\n",
    "    print (\" You have failed\")"
   ]
  },
  {
   "cell_type": "markdown",
   "id": "75e248a1",
   "metadata": {},
   "source": [
    "### question \n",
    "- Find the age and desiganate the following  \n",
    "- check for the grades \n",
    "    - 90 >= Lucky man\n",
    "    - 90 > old >= 70\n",
    "    - 70 > Senior citizen >= 50\n",
    "    - 50 > middle age man >= 35\n",
    "    - 35 > young man >= 20 \n",
    "    - 20 > teenager >= 13\n",
    "    - kid "
   ]
  },
  {
   "cell_type": "code",
   "execution_count": 9,
   "id": "2d3f3d6e",
   "metadata": {},
   "outputs": [
    {
     "name": "stdout",
     "output_type": "stream",
     "text": [
      " Enter the age: 20\n",
      " You are a young man\n"
     ]
    }
   ],
   "source": [
    "age = eval (input (\" Enter the age: \"))\n",
    "if (age >= 90):\n",
    "    print (\" You are a Lucky man!!\")\n",
    "elif (90 > age >= 70):\n",
    "    print (\" You are an old man\")\n",
    "elif (70 > age >= 50):\n",
    "    print (\" You are a senior citizen\")\n",
    "elif (50 > age >= 35):\n",
    "    print (\" You are a middle age man\")\n",
    "elif (35 > age >= 20):\n",
    "    print (\" You are a young man\")\n",
    "elif (20 > age >= 13):\n",
    "    print (\" You are a teenager\")\n",
    "else:\n",
    "    print (\" You are a kid\")"
   ]
  },
  {
   "cell_type": "code",
   "execution_count": 17,
   "id": "d14aebf6",
   "metadata": {},
   "outputs": [
    {
     "name": "stdout",
     "output_type": "stream",
     "text": [
      "enter the number: 500\n",
      "enter the number: 100\n",
      "to do the simple cali please follow this steps 1: Addition 2: Substration 3: Multiplication 4: Divison\n",
      "enter the opertaion bw 1 - 4 :4\n",
      " The first number should be always greater the second number if you want a whole number or it will give the response in decimal\n",
      " The division of the two numbers is:  5.0\n"
     ]
    }
   ],
   "source": [
    "import time\n",
    "num1 = eval (input (\"enter the number: \"))\n",
    "num2 = eval (input (\"enter the number: \"))\n",
    "print (\"to do the simple cali please follow this steps\",\n",
    "        \"1: Addition\",\n",
    "        \"2: Substration\",\n",
    "        \"3: Multiplication\",\n",
    "        \"4: Divison\")\n",
    "op = eval(input (\"enter the opertaion bw 1 - 4 :\"))\n",
    "if (op == 1):\n",
    "    add = num1 + num2\n",
    "    print (\" The addition of the two numbers is: \", add)\n",
    "elif (op == 2):\n",
    "    sub = num1 - num2\n",
    "    print (\" The Substration of the two numbers is: \", sub)\n",
    "elif (op == 3):\n",
    "    mul = num1 * num2\n",
    "    print (\" The multiplication of the two numbers is: \", mul)\n",
    "elif (op == 4):\n",
    "    print (\" The first number should be always greater the second number if you want a whole number or it will give the response in decimal\")\n",
    "    time.sleep(8)\n",
    "    div = num1 / num2 \n",
    "    print (\" The division of the two numbers is: \", div)"
   ]
  },
  {
   "cell_type": "markdown",
   "id": "774f128a",
   "metadata": {},
   "source": [
    "#### Question \n",
    "- ask the user to enter the gender \n",
    "- if gender is male \n",
    "    - ask to user to enter the age \n",
    "    - if age is greater than 30 - middle age man\n",
    "    - print boy \n",
    "- if gender is female \n",
    "    - ask to user to enter the age \n",
    "    - if age is greater than 30 - middle age woman \n",
    "    - print girl\n",
    "- else print enter valid gender"
   ]
  },
  {
   "cell_type": "code",
   "execution_count": 27,
   "id": "530549c4",
   "metadata": {},
   "outputs": [
    {
     "name": "stdout",
     "output_type": "stream",
     "text": [
      "enter male or female\n",
      "enter gender: female\n",
      "Enter the age: 125\n",
      "You are a middle aged women\n"
     ]
    }
   ],
   "source": [
    "print (\"enter male or female\")\n",
    "time.sleep(5)\n",
    "gender = input (\"enter gender: \")\n",
    "if (gender == \"male\"):\n",
    "    age = eval (input (\" Enter the age: \"))\n",
    "    if (age > 30):\n",
    "        print (\"You are a middle aged man\")\n",
    "    else:\n",
    "        print (\"You are a boy\")\n",
    "elif (gender == \"female\"):\n",
    "    age = eval (input (\"Enter the age: \"))\n",
    "    if (age > 30):\n",
    "        print (\"You are a middle aged women\")\n",
    "    else:\n",
    "        print (\"You are a girl\")\n",
    "else:\n",
    "    print (\"enter valid gender\")"
   ]
  },
  {
   "cell_type": "markdown",
   "id": "367ff0a5",
   "metadata": {},
   "source": [
    "#### Question \n",
    "- ask the user to enter the gender\n",
    "- if gender is female \n",
    "    - ask to user to show the ID card \n",
    "    - if yes print enjoy free ride\n",
    "    - else print \n",
    "        - take input how much distance need to travel\n",
    "        - ask user to enter the charge per Km\n",
    "        - print total charge \n",
    "- if male \n",
    "    - take input how much distance need to travel\n",
    "    - ask user to enter the charge per Km\n",
    "    - print total charge \n",
    "    else \n",
    "    print valid gender "
   ]
  },
  {
   "cell_type": "code",
   "execution_count": 4,
   "id": "20a3a8dc",
   "metadata": {},
   "outputs": [
    {
     "name": "stdout",
     "output_type": "stream",
     "text": [
      "enter male or female\n",
      "enter gender: female\n",
      "Show ID card\n",
      "enter if ID is presentno\n",
      "Please tell me how far you need to travel\n",
      "Enter the distance to be travelled 500\n",
      "Enter the charge per 1 Km: 2\n",
      "The ticket price is:  1000\n"
     ]
    }
   ],
   "source": [
    "print (\"enter male or female\")\n",
    "gender = input (\"enter gender: \")\n",
    "if (gender == \"female\"):\n",
    "    print (\"Show ID card\")\n",
    "    ID = input (\"enter if ID is present\")\n",
    "    if (ID == \"yes\"):\n",
    "        print (\"enjoy the free ride\")\n",
    "    else:\n",
    "        print (\"Please tell me how far you need to travel\")\n",
    "        distance = eval (input (\"Enter the distance to be travelled \"))\n",
    "        charge = eval (input (\"Enter the charge per 1 Km: \"))\n",
    "        total_charge = distance * charge \n",
    "        print (\"The ticket price is: \", total_charge)\n",
    "elif (gender == \"male\"):\n",
    "    print (\"Please tell me how far you need to travel\")\n",
    "    distance = eval (input (\"Enter the distance to be travelled \"))\n",
    "    charge = eval (input (\"Enter the charge per 1 Km: \"))\n",
    "    total_charge = distance * charge \n",
    "    print (\"The ticket price is: \", total_charge)\n",
    "else:\n",
    "    print (\"enter valid gender\")"
   ]
  },
  {
   "cell_type": "markdown",
   "id": "fde5ae78",
   "metadata": {},
   "source": [
    "#### Question \n",
    "- find the biggest number of the 3 numbers "
   ]
  },
  {
   "cell_type": "code",
   "execution_count": 20,
   "id": "60c80dab",
   "metadata": {},
   "outputs": [
    {
     "name": "stdout",
     "output_type": "stream",
     "text": [
      "68 61 46\n",
      "The number is greater 68\n"
     ]
    }
   ],
   "source": [
    "import random\n",
    "number1 = random.randint(1,100)\n",
    "number2 = random.randint(1,100)\n",
    "number3 = random.randint(1,100)\n",
    "print (number1, number2, number3)\n",
    "if (number1 > number2) and (number1 > number3):\n",
    "    print (\"The number is greater\",number1)\n",
    "elif (number2 > number1) and (number2 > number3):\n",
    "    print (\"number is greater\", number2)\n",
    "else:\n",
    "    print (\"number is greater\", number3)"
   ]
  },
  {
   "cell_type": "code",
   "execution_count": null,
   "id": "3b01d93d",
   "metadata": {},
   "outputs": [],
   "source": []
  },
  {
   "cell_type": "code",
   "execution_count": null,
   "id": "7ea13e58",
   "metadata": {},
   "outputs": [],
   "source": []
  }
 ],
 "metadata": {
  "kernelspec": {
   "display_name": "Python 3 (ipykernel)",
   "language": "python",
   "name": "python3"
  },
  "language_info": {
   "codemirror_mode": {
    "name": "ipython",
    "version": 3
   },
   "file_extension": ".py",
   "mimetype": "text/x-python",
   "name": "python",
   "nbconvert_exporter": "python",
   "pygments_lexer": "ipython3",
   "version": "3.11.7"
  }
 },
 "nbformat": 4,
 "nbformat_minor": 5
}
